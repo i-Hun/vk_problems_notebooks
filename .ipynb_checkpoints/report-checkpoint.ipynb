{
 "cells": [
  {
   "cell_type": "code",
   "execution_count": 1,
   "metadata": {
    "collapsed": false
   },
   "outputs": [],
   "source": [
    "import pandas as pd\n",
    "import feather\n",
    "import numpy as np\n",
    "import csv\n",
    "import datetime"
   ]
  },
  {
   "cell_type": "code",
   "execution_count": 2,
   "metadata": {
    "collapsed": true
   },
   "outputs": [],
   "source": [
    "fieldnames = ['original_texts', 'text', 'author_id', 'city_x', 'date_x', 'name_x', 'region_x',\n",
    "       'surname_x', 'wall_id', 'post_comment_id_int', 'is_post', 'sex',\n",
    "       'country', 'posts', 'comments', 'likes', 'reposts', 'res_postlikes',\n",
    "       'res_comments', 'university', 'freinds', 'groups', 'followers',\n",
    "       'post_likes', 'post_repost']"
   ]
  },
  {
   "cell_type": "code",
   "execution_count": null,
   "metadata": {
    "collapsed": true
   },
   "outputs": [],
   "source": [
    "data = pd.read_csv(\"/Volumes/BigData/Science/hse_thesis/metadata_for_every_post_and_merged_texts/merged_data_final.csv\", header=None,\n",
    "             sep=\";\", quoting=csv.QUOTE_ALL, index_col=False, dtype={\"region\": \"category\", \"city\": \"category\", })"
   ]
  },
  {
   "cell_type": "code",
   "execution_count": 11,
   "metadata": {
    "collapsed": false
   },
   "outputs": [],
   "source": [
    "data = pd.read_csv(\"/Volumes/BigData/Science/hse_thesis/metadata_for_every_post_and_merged_texts/aggregated_texts.csv\",\n",
    "                               names=fieldnames, sep=\";\", quoting=csv.QUOTE_ALL, index_col=False,\n",
    "                  dtype={\"region\": \"category\", \"city\": \"category\", })"
   ]
  },
  {
   "cell_type": "code",
   "execution_count": 12,
   "metadata": {
    "collapsed": false
   },
   "outputs": [
    {
     "data": {
      "text/plain": [
       "(239732, 18)"
      ]
     },
     "execution_count": 12,
     "metadata": {},
     "output_type": "execute_result"
    }
   ],
   "source": [
    "data.shape"
   ]
  },
  {
   "cell_type": "code",
   "execution_count": 16,
   "metadata": {
    "collapsed": false
   },
   "outputs": [
    {
     "data": {
      "text/plain": [
       "'Привет! Я оценил тебя тут:  ¦¦¦ vk.com/app686627 ¦¦¦Я играю в Разгадайка. Присоединяйся https://vk.com/app4399010МегаТест: Хорошо ли ты знаешь фильмы Ужасов?Пройдя этот тест ты узнаешь хорошо ли ты знаешь жанр ужасы (18+)Тест тут ?? vk.com/megatest#5353aacde4b09630432eb927МегаТест: Какой ты супергерой вселенной Marvel?Это интересноТест тут ?? vk.com/megatest#537da6b3e4b09630432f4f5cТест: Ваше оружие в копателе?Это может быть,нож,глок,снайперка и т.д.Пройти тест можно по ссылке » vk.com/megatest#52009205e4b055b159a7ed50Тест: на сколько ты анимешник?описание анимеПройти тест можно по ссылке » vk.com/megatest#517e3e50e4b09fa4b8e68fa8От всей души дарю тебе яйцо Дракона. Надеюсь ты позаботишься о нем как следует! http://vk.com/app3395712?ad_id=wall_invite'"
      ]
     },
     "execution_count": 16,
     "metadata": {},
     "output_type": "execute_result"
    }
   ],
   "source": [
    "data.head()[\"o_text\"][2]"
   ]
  },
  {
   "cell_type": "code",
   "execution_count": null,
   "metadata": {
    "collapsed": true
   },
   "outputs": [],
   "source": [
    "agg_dict = {'o_text': 'sum', 'text': 'sum', \n",
    "        'city': 'first', 'region': 'first', 'sex': 'first',\n",
    "       'posts': 'first', 'comments': 'first', 'likes': 'first','res_comments': 'first', 'res_postlikes': 'first',\n",
    "       'res_comments_likes': 'first', 'friends': 'first', 'groups': 'first', 'followers': 'first',\n",
    "        'post_likes': 'sum', 'post_repost': 'sum', 'post_comments': 'sum'\n",
    "        }"
   ]
  },
  {
   "cell_type": "code",
   "execution_count": null,
   "metadata": {
    "collapsed": true
   },
   "outputs": [],
   "source": [
    "data.agg({})"
   ]
  }
 ],
 "metadata": {
  "kernelspec": {
   "display_name": "Python 3",
   "language": "python",
   "name": "python3"
  },
  "language_info": {
   "codemirror_mode": {
    "name": "ipython",
    "version": 3
   },
   "file_extension": ".py",
   "mimetype": "text/x-python",
   "name": "python",
   "nbconvert_exporter": "python",
   "pygments_lexer": "ipython3",
   "version": "3.5.2"
  }
 },
 "nbformat": 4,
 "nbformat_minor": 1
}
