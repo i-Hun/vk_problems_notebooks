{
 "cells": [
  {
   "cell_type": "code",
   "execution_count": 1,
   "metadata": {
    "collapsed": true
   },
   "outputs": [],
   "source": [
    "import pandas as pd\n",
    "import numpy as np\n",
    "import datetime\n",
    "import matplotlib.pyplot as plt\n",
    "import pickle\n",
    "import shelve\n",
    "import klepto\n",
    "from gensim import corpora, models\n",
    "import feather\n",
    "from collections import defaultdict\n",
    "import itertools"
   ]
  },
  {
   "cell_type": "code",
   "execution_count": 2,
   "metadata": {
    "collapsed": true
   },
   "outputs": [],
   "source": [
    "poor_data = pd.read_pickle(\"/Users/Hun/hse_thesis/hse_thesis1.pickle\")"
   ]
  },
  {
   "cell_type": "code",
   "execution_count": 3,
   "metadata": {
    "collapsed": false
   },
   "outputs": [
    {
     "name": "stderr",
     "output_type": "stream",
     "text": [
      "/Users/Hun/Python_env/Python3_env/lib/python3.5/site-packages/IPython/core/interactiveshell.py:2723: DtypeWarning: Columns (7) have mixed types. Specify dtype option on import or set low_memory=False.\n",
      "  interactivity=interactivity, compiler=compiler, result=result)\n"
     ]
    }
   ],
   "source": [
    "add_data = pd.read_csv(\"/Users/Hun/hse_thesis/metadata.csv\", encoding=\"CP1251\",\n",
    "                        error_bad_lines=False, warn_bad_lines=False,\n",
    "                       header=None)"
   ]
  },
  {
   "cell_type": "code",
   "execution_count": 4,
   "metadata": {
    "collapsed": true
   },
   "outputs": [],
   "source": [
    "add_data.drop(0, axis=1, inplace=True)"
   ]
  },
  {
   "cell_type": "code",
   "execution_count": 5,
   "metadata": {
    "collapsed": false
   },
   "outputs": [],
   "source": [
    "col_names=[\"author_id\", \"wall_id\", \"post_comment_id\", \"date\", \"name\", \"surname\", \"sex\", \"city\", \"region\",\n",
    "      \"country\", \"posts\", \"comments\", \"likes\", \"reposts\", \"res_postlikes\", \"res_comments\", \"university\",\n",
    "       \"freinds\", \"groups\", \"followers\"]"
   ]
  },
  {
   "cell_type": "code",
   "execution_count": 6,
   "metadata": {
    "collapsed": false
   },
   "outputs": [
    {
     "data": {
      "text/plain": [
       "20"
      ]
     },
     "execution_count": 6,
     "metadata": {},
     "output_type": "execute_result"
    }
   ],
   "source": [
    "len(col_names)"
   ]
  },
  {
   "cell_type": "code",
   "execution_count": 7,
   "metadata": {
    "collapsed": false
   },
   "outputs": [],
   "source": [
    "add_data.columns = col_names"
   ]
  },
  {
   "cell_type": "code",
   "execution_count": 8,
   "metadata": {
    "collapsed": false
   },
   "outputs": [],
   "source": [
    "add_data[\"wall_id\"] = add_data[\"wall_id\"].apply(lambda text: int(text.split()[-1]))\n",
    "\n",
    "add_data[\"post_comment_id_int\"] = add_data[\"post_comment_id\"].apply(lambda text: int(text.split()[-1]))\n",
    "add_data[\"is_post\"] = add_data[\"post_comment_id\"].apply(lambda text: text.split()[0] == \"post\")\n",
    "                                                        \n",
    "poor_data[\"post_comment_id_int\"] = poor_data[\"post_comment_id\"].apply(lambda text: int(text.split()[-1]))\n",
    "poor_data[\"is_post\"] = poor_data[\"post_comment_id\"].apply(lambda text: text.split()[0] == \"post\")\n",
    "                                                        \n",
    "add_data.drop([\"post_comment_id\", \"date\", \"name\", \"surname\", \"city\", \"region\", \"country\"], axis=1, inplace=True)\n",
    "poor_data.drop(\"post_comment_id\", axis=1, inplace=True)"
   ]
  },
  {
   "cell_type": "code",
   "execution_count": 9,
   "metadata": {
    "collapsed": false
   },
   "outputs": [
    {
     "data": {
      "text/html": [
       "<div>\n",
       "<table border=\"1\" class=\"dataframe\">\n",
       "  <thead>\n",
       "    <tr style=\"text-align: right;\">\n",
       "      <th></th>\n",
       "      <th>author_id</th>\n",
       "      <th>wall_id</th>\n",
       "      <th>sex</th>\n",
       "      <th>posts</th>\n",
       "      <th>comments</th>\n",
       "      <th>likes</th>\n",
       "      <th>reposts</th>\n",
       "      <th>res_postlikes</th>\n",
       "      <th>res_comments</th>\n",
       "      <th>university</th>\n",
       "      <th>freinds</th>\n",
       "      <th>groups</th>\n",
       "      <th>followers</th>\n",
       "      <th>post_comment_id_int</th>\n",
       "      <th>is_post</th>\n",
       "    </tr>\n",
       "  </thead>\n",
       "  <tbody>\n",
       "    <tr>\n",
       "      <th>0</th>\n",
       "      <td>85978354</td>\n",
       "      <td>112465206</td>\n",
       "      <td>2</td>\n",
       "      <td>1.0</td>\n",
       "      <td>0.0</td>\n",
       "      <td>0.0</td>\n",
       "      <td>0.0</td>\n",
       "      <td>0.0</td>\n",
       "      <td>0.0</td>\n",
       "      <td></td>\n",
       "      <td>36.0</td>\n",
       "      <td>789.0</td>\n",
       "      <td>272.0</td>\n",
       "      <td>1</td>\n",
       "      <td>True</td>\n",
       "    </tr>\n",
       "    <tr>\n",
       "      <th>1</th>\n",
       "      <td>28098487</td>\n",
       "      <td>28098487</td>\n",
       "      <td>2</td>\n",
       "      <td>12.0</td>\n",
       "      <td>0.0</td>\n",
       "      <td>2.0</td>\n",
       "      <td>0.0</td>\n",
       "      <td>18.0</td>\n",
       "      <td>0.0</td>\n",
       "      <td></td>\n",
       "      <td>59.0</td>\n",
       "      <td>55.0</td>\n",
       "      <td>8.0</td>\n",
       "      <td>249</td>\n",
       "      <td>True</td>\n",
       "    </tr>\n",
       "    <tr>\n",
       "      <th>2</th>\n",
       "      <td>28098487</td>\n",
       "      <td>28098487</td>\n",
       "      <td>2</td>\n",
       "      <td>12.0</td>\n",
       "      <td>0.0</td>\n",
       "      <td>2.0</td>\n",
       "      <td>0.0</td>\n",
       "      <td>18.0</td>\n",
       "      <td>0.0</td>\n",
       "      <td></td>\n",
       "      <td>59.0</td>\n",
       "      <td>55.0</td>\n",
       "      <td>8.0</td>\n",
       "      <td>246</td>\n",
       "      <td>True</td>\n",
       "    </tr>\n",
       "    <tr>\n",
       "      <th>3</th>\n",
       "      <td>28098487</td>\n",
       "      <td>28098487</td>\n",
       "      <td>2</td>\n",
       "      <td>12.0</td>\n",
       "      <td>0.0</td>\n",
       "      <td>2.0</td>\n",
       "      <td>0.0</td>\n",
       "      <td>18.0</td>\n",
       "      <td>0.0</td>\n",
       "      <td></td>\n",
       "      <td>59.0</td>\n",
       "      <td>55.0</td>\n",
       "      <td>8.0</td>\n",
       "      <td>245</td>\n",
       "      <td>True</td>\n",
       "    </tr>\n",
       "    <tr>\n",
       "      <th>4</th>\n",
       "      <td>28098487</td>\n",
       "      <td>28098487</td>\n",
       "      <td>2</td>\n",
       "      <td>12.0</td>\n",
       "      <td>0.0</td>\n",
       "      <td>2.0</td>\n",
       "      <td>0.0</td>\n",
       "      <td>18.0</td>\n",
       "      <td>0.0</td>\n",
       "      <td></td>\n",
       "      <td>59.0</td>\n",
       "      <td>55.0</td>\n",
       "      <td>8.0</td>\n",
       "      <td>244</td>\n",
       "      <td>True</td>\n",
       "    </tr>\n",
       "  </tbody>\n",
       "</table>\n",
       "</div>"
      ],
      "text/plain": [
       "   author_id    wall_id sex  posts  comments  likes  reposts  res_postlikes  \\\n",
       "0   85978354  112465206   2    1.0       0.0    0.0      0.0            0.0   \n",
       "1   28098487   28098487   2   12.0       0.0    2.0      0.0           18.0   \n",
       "2   28098487   28098487   2   12.0       0.0    2.0      0.0           18.0   \n",
       "3   28098487   28098487   2   12.0       0.0    2.0      0.0           18.0   \n",
       "4   28098487   28098487   2   12.0       0.0    2.0      0.0           18.0   \n",
       "\n",
       "   res_comments university  freinds  groups  followers  post_comment_id_int  \\\n",
       "0           0.0                36.0   789.0      272.0                    1   \n",
       "1           0.0                59.0    55.0        8.0                  249   \n",
       "2           0.0                59.0    55.0        8.0                  246   \n",
       "3           0.0                59.0    55.0        8.0                  245   \n",
       "4           0.0                59.0    55.0        8.0                  244   \n",
       "\n",
       "  is_post  \n",
       "0    True  \n",
       "1    True  \n",
       "2    True  \n",
       "3    True  \n",
       "4    True  "
      ]
     },
     "execution_count": 9,
     "metadata": {},
     "output_type": "execute_result"
    }
   ],
   "source": [
    "add_data.head()"
   ]
  },
  {
   "cell_type": "code",
   "execution_count": 10,
   "metadata": {
    "collapsed": false
   },
   "outputs": [
    {
     "data": {
      "text/plain": [
       "author_id                   0\n",
       "wall_id                     0\n",
       "sex                    114341\n",
       "posts                  114341\n",
       "comments               114341\n",
       "likes                  114341\n",
       "reposts                114341\n",
       "res_postlikes          114341\n",
       "res_comments           114341\n",
       "university             114341\n",
       "freinds                226633\n",
       "groups                 226633\n",
       "followers              226633\n",
       "post_comment_id_int         0\n",
       "is_post                     0\n",
       "dtype: int64"
      ]
     },
     "execution_count": 10,
     "metadata": {},
     "output_type": "execute_result"
    }
   ],
   "source": [
    "add_data.isnull().sum()"
   ]
  },
  {
   "cell_type": "code",
   "execution_count": 11,
   "metadata": {
    "collapsed": false
   },
   "outputs": [
    {
     "data": {
      "text/plain": [
       "(8166504, 15)"
      ]
     },
     "execution_count": 11,
     "metadata": {},
     "output_type": "execute_result"
    }
   ],
   "source": [
    "add_data.shape"
   ]
  },
  {
   "cell_type": "code",
   "execution_count": 12,
   "metadata": {
    "collapsed": false
   },
   "outputs": [],
   "source": [
    "add_data.drop_duplicates(subset=[\"wall_id\", \"post_comment_id_int\", \"author_id\", \"is_post\"], inplace=True)"
   ]
  },
  {
   "cell_type": "code",
   "execution_count": 13,
   "metadata": {
    "collapsed": false
   },
   "outputs": [
    {
     "data": {
      "text/plain": [
       "(8079280, 15)"
      ]
     },
     "execution_count": 13,
     "metadata": {},
     "output_type": "execute_result"
    }
   ],
   "source": [
    "add_data.shape"
   ]
  },
  {
   "cell_type": "code",
   "execution_count": 14,
   "metadata": {
    "collapsed": false
   },
   "outputs": [
    {
     "data": {
      "text/plain": [
       "author_id                   0\n",
       "wall_id                     0\n",
       "sex                     54613\n",
       "posts                   54613\n",
       "comments                54613\n",
       "likes                   54613\n",
       "reposts                 54613\n",
       "res_postlikes           54613\n",
       "res_comments            54613\n",
       "university              54613\n",
       "freinds                166892\n",
       "groups                 166892\n",
       "followers              166892\n",
       "post_comment_id_int         0\n",
       "is_post                     0\n",
       "dtype: int64"
      ]
     },
     "execution_count": 14,
     "metadata": {},
     "output_type": "execute_result"
    }
   ],
   "source": [
    "add_data.isnull().sum()"
   ]
  },
  {
   "cell_type": "code",
   "execution_count": 15,
   "metadata": {
    "collapsed": false
   },
   "outputs": [],
   "source": [
    "data = pd.merge(poor_data, add_data, on=[\"wall_id\", \"post_comment_id_int\", \"author_id\", \"is_post\"], how=\"left\")"
   ]
  },
  {
   "cell_type": "code",
   "execution_count": 16,
   "metadata": {
    "collapsed": false
   },
   "outputs": [
    {
     "data": {
      "text/html": [
       "<div>\n",
       "<table border=\"1\" class=\"dataframe\">\n",
       "  <thead>\n",
       "    <tr style=\"text-align: right;\">\n",
       "      <th></th>\n",
       "      <th>text</th>\n",
       "      <th>author_id</th>\n",
       "      <th>wall_id</th>\n",
       "      <th>date</th>\n",
       "      <th>name</th>\n",
       "      <th>surname</th>\n",
       "      <th>city</th>\n",
       "      <th>region</th>\n",
       "      <th>text_length</th>\n",
       "      <th>post_comment_id_int</th>\n",
       "      <th>...</th>\n",
       "      <th>posts</th>\n",
       "      <th>comments</th>\n",
       "      <th>likes</th>\n",
       "      <th>reposts</th>\n",
       "      <th>res_postlikes</th>\n",
       "      <th>res_comments</th>\n",
       "      <th>university</th>\n",
       "      <th>freinds</th>\n",
       "      <th>groups</th>\n",
       "      <th>followers</th>\n",
       "    </tr>\n",
       "  </thead>\n",
       "  <tbody>\n",
       "    <tr>\n",
       "      <th>0</th>\n",
       "      <td>general lee</td>\n",
       "      <td>49154141</td>\n",
       "      <td>49154141</td>\n",
       "      <td>2012-02-24 11:54:20</td>\n",
       "      <td>Дмитрий</td>\n",
       "      <td>Филиппов</td>\n",
       "      <td>Владимир</td>\n",
       "      <td>Владимирская область</td>\n",
       "      <td>2</td>\n",
       "      <td>2404</td>\n",
       "      <td>...</td>\n",
       "      <td>2133.0</td>\n",
       "      <td>0.0</td>\n",
       "      <td>1352.0</td>\n",
       "      <td>0.0</td>\n",
       "      <td>2670.0</td>\n",
       "      <td>0.0</td>\n",
       "      <td></td>\n",
       "      <td>198.0</td>\n",
       "      <td>106.0</td>\n",
       "      <td>113.0</td>\n",
       "    </tr>\n",
       "    <tr>\n",
       "      <th>1</th>\n",
       "      <td>shelby</td>\n",
       "      <td>49154141</td>\n",
       "      <td>49154141</td>\n",
       "      <td>2012-02-24 11:54:33</td>\n",
       "      <td>Дмитрий</td>\n",
       "      <td>Филиппов</td>\n",
       "      <td>Владимир</td>\n",
       "      <td>Владимирская область</td>\n",
       "      <td>1</td>\n",
       "      <td>2405</td>\n",
       "      <td>...</td>\n",
       "      <td>2133.0</td>\n",
       "      <td>0.0</td>\n",
       "      <td>1352.0</td>\n",
       "      <td>0.0</td>\n",
       "      <td>2670.0</td>\n",
       "      <td>0.0</td>\n",
       "      <td></td>\n",
       "      <td>198.0</td>\n",
       "      <td>106.0</td>\n",
       "      <td>113.0</td>\n",
       "    </tr>\n",
       "    <tr>\n",
       "      <th>2</th>\n",
       "      <td>ford mustang</td>\n",
       "      <td>49154141</td>\n",
       "      <td>49154141</td>\n",
       "      <td>2012-02-25 22:27:35</td>\n",
       "      <td>Дмитрий</td>\n",
       "      <td>Филиппов</td>\n",
       "      <td>Владимир</td>\n",
       "      <td>Владимирская область</td>\n",
       "      <td>2</td>\n",
       "      <td>2411</td>\n",
       "      <td>...</td>\n",
       "      <td>2133.0</td>\n",
       "      <td>0.0</td>\n",
       "      <td>1352.0</td>\n",
       "      <td>0.0</td>\n",
       "      <td>2670.0</td>\n",
       "      <td>0.0</td>\n",
       "      <td></td>\n",
       "      <td>198.0</td>\n",
       "      <td>106.0</td>\n",
       "      <td>113.0</td>\n",
       "    </tr>\n",
       "    <tr>\n",
       "      <th>3</th>\n",
       "      <td>murcielago</td>\n",
       "      <td>49154141</td>\n",
       "      <td>49154141</td>\n",
       "      <td>2012-02-24 11:53:51</td>\n",
       "      <td>Дмитрий</td>\n",
       "      <td>Филиппов</td>\n",
       "      <td>Владимир</td>\n",
       "      <td>Владимирская область</td>\n",
       "      <td>1</td>\n",
       "      <td>2400</td>\n",
       "      <td>...</td>\n",
       "      <td>2133.0</td>\n",
       "      <td>0.0</td>\n",
       "      <td>1352.0</td>\n",
       "      <td>0.0</td>\n",
       "      <td>2670.0</td>\n",
       "      <td>0.0</td>\n",
       "      <td></td>\n",
       "      <td>198.0</td>\n",
       "      <td>106.0</td>\n",
       "      <td>113.0</td>\n",
       "    </tr>\n",
       "    <tr>\n",
       "      <th>4</th>\n",
       "      <td>суровый водитель</td>\n",
       "      <td>49154141</td>\n",
       "      <td>49154141</td>\n",
       "      <td>2012-02-23 16:22:56</td>\n",
       "      <td>Дмитрий</td>\n",
       "      <td>Филиппов</td>\n",
       "      <td>Владимир</td>\n",
       "      <td>Владимирская область</td>\n",
       "      <td>2</td>\n",
       "      <td>2392</td>\n",
       "      <td>...</td>\n",
       "      <td>2133.0</td>\n",
       "      <td>0.0</td>\n",
       "      <td>1352.0</td>\n",
       "      <td>0.0</td>\n",
       "      <td>2670.0</td>\n",
       "      <td>0.0</td>\n",
       "      <td></td>\n",
       "      <td>198.0</td>\n",
       "      <td>106.0</td>\n",
       "      <td>113.0</td>\n",
       "    </tr>\n",
       "  </tbody>\n",
       "</table>\n",
       "<p>5 rows × 22 columns</p>\n",
       "</div>"
      ],
      "text/plain": [
       "                text  author_id   wall_id                date     name  \\\n",
       "0       general lee    49154141  49154141 2012-02-24 11:54:20  Дмитрий   \n",
       "1            shelby    49154141  49154141 2012-02-24 11:54:33  Дмитрий   \n",
       "2      ford mustang    49154141  49154141 2012-02-25 22:27:35  Дмитрий   \n",
       "3        murcielago    49154141  49154141 2012-02-24 11:53:51  Дмитрий   \n",
       "4  суровый водитель    49154141  49154141 2012-02-23 16:22:56  Дмитрий   \n",
       "\n",
       "    surname      city                region  text_length  post_comment_id_int  \\\n",
       "0  Филиппов  Владимир  Владимирская область            2                 2404   \n",
       "1  Филиппов  Владимир  Владимирская область            1                 2405   \n",
       "2  Филиппов  Владимир  Владимирская область            2                 2411   \n",
       "3  Филиппов  Владимир  Владимирская область            1                 2400   \n",
       "4  Филиппов  Владимир  Владимирская область            2                 2392   \n",
       "\n",
       "     ...       posts comments   likes  reposts  res_postlikes  res_comments  \\\n",
       "0    ...      2133.0      0.0  1352.0      0.0         2670.0           0.0   \n",
       "1    ...      2133.0      0.0  1352.0      0.0         2670.0           0.0   \n",
       "2    ...      2133.0      0.0  1352.0      0.0         2670.0           0.0   \n",
       "3    ...      2133.0      0.0  1352.0      0.0         2670.0           0.0   \n",
       "4    ...      2133.0      0.0  1352.0      0.0         2670.0           0.0   \n",
       "\n",
       "   university  freinds groups  followers  \n",
       "0                198.0  106.0      113.0  \n",
       "1                198.0  106.0      113.0  \n",
       "2                198.0  106.0      113.0  \n",
       "3                198.0  106.0      113.0  \n",
       "4                198.0  106.0      113.0  \n",
       "\n",
       "[5 rows x 22 columns]"
      ]
     },
     "execution_count": 16,
     "metadata": {},
     "output_type": "execute_result"
    }
   ],
   "source": [
    "data.head()"
   ]
  },
  {
   "cell_type": "code",
   "execution_count": 17,
   "metadata": {
    "collapsed": false
   },
   "outputs": [
    {
     "data": {
      "text/plain": [
       "((5392586, 11), (8079280, 15), (5392586, 22))"
      ]
     },
     "execution_count": 17,
     "metadata": {},
     "output_type": "execute_result"
    }
   ],
   "source": [
    "poor_data.shape, add_data.shape, data.shape"
   ]
  },
  {
   "cell_type": "code",
   "execution_count": 18,
   "metadata": {
    "collapsed": false
   },
   "outputs": [
    {
     "data": {
      "text/plain": [
       "text                        0\n",
       "author_id                   0\n",
       "wall_id                     0\n",
       "date                        0\n",
       "name                    48759\n",
       "surname                 49346\n",
       "city                   411426\n",
       "region                 421852\n",
       "text_length                 0\n",
       "post_comment_id_int         0\n",
       "is_post                     0\n",
       "sex                    184556\n",
       "posts                  184556\n",
       "comments               184556\n",
       "likes                  184556\n",
       "reposts                184556\n",
       "res_postlikes          184556\n",
       "res_comments           184556\n",
       "university             184556\n",
       "freinds                263451\n",
       "groups                 263451\n",
       "followers              263451\n",
       "dtype: int64"
      ]
     },
     "execution_count": 18,
     "metadata": {},
     "output_type": "execute_result"
    }
   ],
   "source": [
    "data.isnull().sum()"
   ]
  },
  {
   "cell_type": "code",
   "execution_count": null,
   "metadata": {
    "collapsed": true
   },
   "outputs": [],
   "source": [
    "data.to_pickle(\"/Users/Hun/hse_thesis/hse_thesis1.pickle\")"
   ]
  },
  {
   "cell_type": "markdown",
   "metadata": {},
   "source": [
    "Ограничиваем данные постами, написанными позже 20 октября 2010 года и считаем их количество:"
   ]
  }
 ],
 "metadata": {
  "kernelspec": {
   "display_name": "Python 3",
   "language": "python",
   "name": "python3"
  },
  "language_info": {
   "codemirror_mode": {
    "name": "ipython",
    "version": 3
   },
   "file_extension": ".py",
   "mimetype": "text/x-python",
   "name": "python",
   "nbconvert_exporter": "python",
   "pygments_lexer": "ipython3",
   "version": "3.5.0"
  }
 },
 "nbformat": 4,
 "nbformat_minor": 0
}
