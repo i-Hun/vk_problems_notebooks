{
 "cells": [
  {
   "cell_type": "code",
   "execution_count": 1,
   "metadata": {
    "collapsed": true
   },
   "outputs": [],
   "source": [
    "import pandas as pd\n",
    "import numpy as np\n",
    "import scipy.stats as stats"
   ]
  },
  {
   "cell_type": "code",
   "execution_count": 2,
   "metadata": {
    "collapsed": true
   },
   "outputs": [],
   "source": [
    "data = pd.read_csv(\"/Users/Hun/hse_thesis/region_topics.csv\")"
   ]
  },
  {
   "cell_type": "code",
   "execution_count": 19,
   "metadata": {
    "collapsed": false
   },
   "outputs": [],
   "source": [
    "def sym_kl(p, q):\n",
    "    return np.sum([stats.entropy(p, q), stats.entropy(q, p)])"
   ]
  },
  {
   "cell_type": "code",
   "execution_count": 20,
   "metadata": {
    "collapsed": false
   },
   "outputs": [
    {
     "data": {
      "text/plain": [
       "15.639326921857254"
      ]
     },
     "execution_count": 20,
     "metadata": {},
     "output_type": "execute_result"
    }
   ],
   "source": [
    "sym_kl(data[\"topic_130\"], data[\"topic_131\"])"
   ]
  },
  {
   "cell_type": "code",
   "execution_count": 13,
   "metadata": {
    "collapsed": false
   },
   "outputs": [],
   "source": [
    "p = data[\"topic_130\"]\n",
    "q = data[\"topic_131\"]"
   ]
  },
  {
   "cell_type": "code",
   "execution_count": 28,
   "metadata": {
    "collapsed": false
   },
   "outputs": [
    {
     "data": {
      "text/plain": [
       "8.3968095624119758"
      ]
     },
     "execution_count": 28,
     "metadata": {},
     "output_type": "execute_result"
    }
   ],
   "source": [
    "stats.entropy(data[\"topic_130\"], data[\"topic_131\"])"
   ]
  },
  {
   "cell_type": "code",
   "execution_count": 21,
   "metadata": {
    "collapsed": true
   },
   "outputs": [],
   "source": [
    "def jsd(p, q):\n",
    "    m = (p + q) / 2\n",
    "    return (stats.entropy(p, m) + stats.entropy(q, m)) / 2"
   ]
  },
  {
   "cell_type": "code",
   "execution_count": 30,
   "metadata": {
    "collapsed": true
   },
   "outputs": [],
   "source": [
    "def jsd_m(p, q):\n",
    "    return np.sqrt(2*jsd(p, q))"
   ]
  },
  {
   "cell_type": "code",
   "execution_count": 31,
   "metadata": {
    "collapsed": false
   },
   "outputs": [
    {
     "data": {
      "text/plain": [
       "1.1378917657256449"
      ]
     },
     "execution_count": 31,
     "metadata": {},
     "output_type": "execute_result"
    }
   ],
   "source": [
    "jsd_m(p, q)"
   ]
  },
  {
   "cell_type": "code",
   "execution_count": 37,
   "metadata": {
    "collapsed": false
   },
   "outputs": [
    {
     "data": {
      "text/plain": [
       "Ks_2sampResult(statistic=0.14875777952046454, pvalue=0.0)"
      ]
     },
     "execution_count": 37,
     "metadata": {},
     "output_type": "execute_result"
    }
   ],
   "source": [
    "stats.ks_2samp(p, q)"
   ]
  },
  {
   "cell_type": "markdown",
   "metadata": {},
   "source": [
    "Двухвыборочный тест Колмогорова-Смирнова показывает, что выборки различаются значимо. Но насколько правомерно его использовать?"
   ]
  },
  {
   "cell_type": "code",
   "execution_count": 40,
   "metadata": {
    "collapsed": false
   },
   "outputs": [
    {
     "data": {
      "text/plain": [
       "array(['Северная Осетия - Алания', 'Волгоградская область',\n",
       "       'Тюменская область', 'Коми', 'Кировская область',\n",
       "       'Иркутская область', 'Вологодская область',\n",
       "       'Севастопольский городской совет', 'Крым область',\n",
       "       'Ставропольский край', 'Мурманская область', 'Новгородская область',\n",
       "       'Курская область', 'Челябинская область', 'Тамбовская область',\n",
       "       'Тыва', 'Ульяновская область', 'Красноярский край',\n",
       "       'Пензенская область', 'Мордовия', 'Смоленская область', 'Карелия',\n",
       "       'Кабардино-Балкарская', 'Архангельская область',\n",
       "       'Самарская область', 'Орловская область', 'Белгородская область',\n",
       "       'Омская область', 'Свердловская область', 'Башкортостан',\n",
       "       'Тульская область', 'Алтайский край', 'Санкт-Петербург', 'Москва',\n",
       "       'Липецкая область', 'Новосибирская область', 'Саратовская область',\n",
       "       'Нижегородская область', 'Псковская область', 'Алтай', 'Татарстан',\n",
       "       'Камчатский край', 'Краснодарский край', 'Ивановская область',\n",
       "       'Бурятия', 'Томская область', 'Забайкальский край',\n",
       "       'Калужская область', 'Ярославская область', 'Кемеровская область',\n",
       "       'Дагестан', 'Ленинградская область', 'Приморский край',\n",
       "       'Московская область', 'Костромская область', 'Чеченская',\n",
       "       'Брянская область', 'Воронежская область', 'Хабаровский край',\n",
       "       'Курганская область', 'Оренбургская область', 'Ростовская область',\n",
       "       'Калмыкия', 'Сахалинская область', 'Адыгея', 'Владимирская область',\n",
       "       'Пермский край', 'Карачаево-Черкесская', 'Хакасия',\n",
       "       'Магаданская область', 'Еврейская Аобл'], dtype=object)"
      ]
     },
     "execution_count": 40,
     "metadata": {},
     "output_type": "execute_result"
    }
   ],
   "source": [
    "data[\"region\"].unique()"
   ]
  },
  {
   "cell_type": "code",
   "execution_count": 44,
   "metadata": {
    "collapsed": false
   },
   "outputs": [],
   "source": [
    "chech_muslim = data[data[\"region\"] == \"Чеченская\"][\"topic_130\"]\n",
    "dag_muslim = data[data[\"region\"] == \"Дагестан\"][\"topic_130\"]"
   ]
  },
  {
   "cell_type": "code",
   "execution_count": 47,
   "metadata": {
    "collapsed": false
   },
   "outputs": [
    {
     "data": {
      "text/plain": [
       "(1856, 8378)"
      ]
     },
     "execution_count": 47,
     "metadata": {},
     "output_type": "execute_result"
    }
   ],
   "source": [
    "len(chech_muslim), len(dag_muslim)"
   ]
  },
  {
   "cell_type": "code",
   "execution_count": 49,
   "metadata": {
    "collapsed": false
   },
   "outputs": [
    {
     "data": {
      "text/plain": [
       "212       0.192258\n",
       "213       0.323287\n",
       "214       0.175416\n",
       "215       0.228923\n",
       "216       0.197402\n",
       "217       0.133191\n",
       "218       0.220945\n",
       "219       0.196106\n",
       "220       0.038398\n",
       "221       0.062363\n",
       "222       0.105635\n",
       "223       0.067518\n",
       "224       0.041564\n",
       "225       0.134469\n",
       "226       0.067882\n",
       "227       0.076321\n",
       "228       0.138725\n",
       "229       0.146464\n",
       "230       0.094430\n",
       "231       0.226140\n",
       "232       0.173031\n",
       "233       0.046473\n",
       "234       0.052301\n",
       "235       0.054943\n",
       "236       0.060092\n",
       "237       0.134184\n",
       "238       0.244496\n",
       "239       0.060317\n",
       "240       0.179441\n",
       "241       0.221936\n",
       "            ...   \n",
       "237988    0.422849\n",
       "237989    0.265045\n",
       "237990    0.248111\n",
       "237991    0.127010\n",
       "237992    0.234738\n",
       "237993    0.308898\n",
       "237994    0.091605\n",
       "237995    0.172209\n",
       "237996    0.199255\n",
       "237997    0.357041\n",
       "237998    0.043853\n",
       "237999    0.144405\n",
       "238000    0.096206\n",
       "238001    0.000017\n",
       "238002    0.000066\n",
       "238223    0.000016\n",
       "238224    0.005392\n",
       "238225    0.000015\n",
       "238226    0.004168\n",
       "238227    0.000022\n",
       "238228    0.000046\n",
       "239140    0.000119\n",
       "239380    0.015760\n",
       "239381    0.036249\n",
       "239382    0.111021\n",
       "239383    0.128253\n",
       "239425    0.021489\n",
       "239426    0.000018\n",
       "239427    0.192625\n",
       "239428    0.000049\n",
       "Name: topic_130, dtype: float64"
      ]
     },
     "execution_count": 49,
     "metadata": {},
     "output_type": "execute_result"
    }
   ],
   "source": [
    "dag_muslim"
   ]
  },
  {
   "cell_type": "code",
   "execution_count": 46,
   "metadata": {
    "collapsed": false
   },
   "outputs": [
    {
     "ename": "ValueError",
     "evalue": "qk and pk must have same length.",
     "output_type": "error",
     "traceback": [
      "\u001b[0;31m---------------------------------------------------------------------------\u001b[0m",
      "\u001b[0;31mValueError\u001b[0m                                Traceback (most recent call last)",
      "\u001b[0;32m<ipython-input-46-70b233b97820>\u001b[0m in \u001b[0;36m<module>\u001b[0;34m()\u001b[0m\n\u001b[0;32m----> 1\u001b[0;31m \u001b[0mjsd_m\u001b[0m\u001b[0;34m(\u001b[0m\u001b[0mchech_muslim\u001b[0m\u001b[0;34m,\u001b[0m \u001b[0mdag_muslim\u001b[0m\u001b[0;34m)\u001b[0m\u001b[0;34m\u001b[0m\u001b[0m\n\u001b[0m",
      "\u001b[0;32m<ipython-input-30-5379a6c1954a>\u001b[0m in \u001b[0;36mjsd_m\u001b[0;34m(p, q)\u001b[0m\n\u001b[1;32m      1\u001b[0m \u001b[0;32mdef\u001b[0m \u001b[0mjsd_m\u001b[0m\u001b[0;34m(\u001b[0m\u001b[0mp\u001b[0m\u001b[0;34m,\u001b[0m \u001b[0mq\u001b[0m\u001b[0;34m)\u001b[0m\u001b[0;34m:\u001b[0m\u001b[0;34m\u001b[0m\u001b[0m\n\u001b[0;32m----> 2\u001b[0;31m     \u001b[0;32mreturn\u001b[0m \u001b[0mnp\u001b[0m\u001b[0;34m.\u001b[0m\u001b[0msqrt\u001b[0m\u001b[0;34m(\u001b[0m\u001b[0;36m2\u001b[0m\u001b[0;34m*\u001b[0m\u001b[0mjsd\u001b[0m\u001b[0;34m(\u001b[0m\u001b[0mp\u001b[0m\u001b[0;34m,\u001b[0m \u001b[0mq\u001b[0m\u001b[0;34m)\u001b[0m\u001b[0;34m)\u001b[0m\u001b[0;34m\u001b[0m\u001b[0m\n\u001b[0m",
      "\u001b[0;32m<ipython-input-21-62854419f5b1>\u001b[0m in \u001b[0;36mjsd\u001b[0;34m(p, q)\u001b[0m\n\u001b[1;32m      1\u001b[0m \u001b[0;32mdef\u001b[0m \u001b[0mjsd\u001b[0m\u001b[0;34m(\u001b[0m\u001b[0mp\u001b[0m\u001b[0;34m,\u001b[0m \u001b[0mq\u001b[0m\u001b[0;34m)\u001b[0m\u001b[0;34m:\u001b[0m\u001b[0;34m\u001b[0m\u001b[0m\n\u001b[1;32m      2\u001b[0m     \u001b[0mm\u001b[0m \u001b[0;34m=\u001b[0m \u001b[0;34m(\u001b[0m\u001b[0mp\u001b[0m \u001b[0;34m+\u001b[0m \u001b[0mq\u001b[0m\u001b[0;34m)\u001b[0m \u001b[0;34m/\u001b[0m \u001b[0;36m2\u001b[0m\u001b[0;34m\u001b[0m\u001b[0m\n\u001b[0;32m----> 3\u001b[0;31m     \u001b[0;32mreturn\u001b[0m \u001b[0;34m(\u001b[0m\u001b[0mstats\u001b[0m\u001b[0;34m.\u001b[0m\u001b[0mentropy\u001b[0m\u001b[0;34m(\u001b[0m\u001b[0mp\u001b[0m\u001b[0;34m,\u001b[0m \u001b[0mm\u001b[0m\u001b[0;34m)\u001b[0m \u001b[0;34m+\u001b[0m \u001b[0mstats\u001b[0m\u001b[0;34m.\u001b[0m\u001b[0mentropy\u001b[0m\u001b[0;34m(\u001b[0m\u001b[0mq\u001b[0m\u001b[0;34m,\u001b[0m \u001b[0mm\u001b[0m\u001b[0;34m)\u001b[0m\u001b[0;34m)\u001b[0m \u001b[0;34m/\u001b[0m \u001b[0;36m2\u001b[0m\u001b[0;34m\u001b[0m\u001b[0m\n\u001b[0m",
      "\u001b[0;32m/Users/Hun/Python_env/Python3_env/lib/python3.5/site-packages/scipy/stats/_distn_infrastructure.py\u001b[0m in \u001b[0;36mentropy\u001b[0;34m(pk, qk, base)\u001b[0m\n\u001b[1;32m   2497\u001b[0m         \u001b[0mqk\u001b[0m \u001b[0;34m=\u001b[0m \u001b[0masarray\u001b[0m\u001b[0;34m(\u001b[0m\u001b[0mqk\u001b[0m\u001b[0;34m)\u001b[0m\u001b[0;34m\u001b[0m\u001b[0m\n\u001b[1;32m   2498\u001b[0m         \u001b[0;32mif\u001b[0m \u001b[0mlen\u001b[0m\u001b[0;34m(\u001b[0m\u001b[0mqk\u001b[0m\u001b[0;34m)\u001b[0m \u001b[0;34m!=\u001b[0m \u001b[0mlen\u001b[0m\u001b[0;34m(\u001b[0m\u001b[0mpk\u001b[0m\u001b[0;34m)\u001b[0m\u001b[0;34m:\u001b[0m\u001b[0;34m\u001b[0m\u001b[0m\n\u001b[0;32m-> 2499\u001b[0;31m             \u001b[0;32mraise\u001b[0m \u001b[0mValueError\u001b[0m\u001b[0;34m(\u001b[0m\u001b[0;34m\"qk and pk must have same length.\"\u001b[0m\u001b[0;34m)\u001b[0m\u001b[0;34m\u001b[0m\u001b[0m\n\u001b[0m\u001b[1;32m   2500\u001b[0m         \u001b[0mqk\u001b[0m \u001b[0;34m=\u001b[0m \u001b[0;36m1.0\u001b[0m\u001b[0;34m*\u001b[0m\u001b[0mqk\u001b[0m \u001b[0;34m/\u001b[0m \u001b[0msum\u001b[0m\u001b[0;34m(\u001b[0m\u001b[0mqk\u001b[0m\u001b[0;34m,\u001b[0m \u001b[0maxis\u001b[0m\u001b[0;34m=\u001b[0m\u001b[0;36m0\u001b[0m\u001b[0;34m)\u001b[0m\u001b[0;34m\u001b[0m\u001b[0m\n\u001b[1;32m   2501\u001b[0m         \u001b[0mvec\u001b[0m \u001b[0;34m=\u001b[0m \u001b[0mkl_div\u001b[0m\u001b[0;34m(\u001b[0m\u001b[0mpk\u001b[0m\u001b[0;34m,\u001b[0m \u001b[0mqk\u001b[0m\u001b[0;34m)\u001b[0m\u001b[0;34m\u001b[0m\u001b[0m\n",
      "\u001b[0;31mValueError\u001b[0m: qk and pk must have same length."
     ]
    }
   ],
   "source": [
    "jsd_m(chech_muslim, dag_muslim)"
   ]
  },
  {
   "cell_type": "code",
   "execution_count": null,
   "metadata": {
    "collapsed": true
   },
   "outputs": [],
   "source": []
  }
 ],
 "metadata": {
  "kernelspec": {
   "display_name": "Python 3",
   "language": "python",
   "name": "python3"
  },
  "language_info": {
   "codemirror_mode": {
    "name": "ipython",
    "version": 3
   },
   "file_extension": ".py",
   "mimetype": "text/x-python",
   "name": "python",
   "nbconvert_exporter": "python",
   "pygments_lexer": "ipython3",
   "version": "3.5.0"
  }
 },
 "nbformat": 4,
 "nbformat_minor": 0
}
