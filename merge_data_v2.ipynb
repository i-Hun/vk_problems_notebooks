{
 "cells": [
  {
   "cell_type": "code",
   "execution_count": 1,
   "metadata": {
    "collapsed": true
   },
   "outputs": [],
   "source": [
    "import pandas as pd\n",
    "import numpy as np\n",
    "import csv"
   ]
  },
  {
   "cell_type": "code",
   "execution_count": 4,
   "metadata": {
    "collapsed": false
   },
   "outputs": [
    {
     "name": "stderr",
     "output_type": "stream",
     "text": [
      "/Users/Hun/Python_env/Python3_env/lib/python3.5/site-packages/IPython/core/interactiveshell.py:2723: DtypeWarning: Columns (11,23) have mixed types. Specify dtype option on import or set low_memory=False.\n",
      "  interactivity=interactivity, compiler=compiler, result=result)\n"
     ]
    }
   ],
   "source": [
    "data = pd.read_csv(\"/Volumes/BigData/Science/hse_thesis/merged_data_final.csv\", header=None,\n",
    "             sep=\";\", quoting=csv.QUOTE_ALL)"
   ]
  },
  {
   "cell_type": "code",
   "execution_count": 5,
   "metadata": {
    "collapsed": false
   },
   "outputs": [
    {
     "data": {
      "text/html": [
       "<div>\n",
       "<table border=\"1\" class=\"dataframe\">\n",
       "  <thead>\n",
       "    <tr style=\"text-align: right;\">\n",
       "      <th></th>\n",
       "      <th>0</th>\n",
       "      <th>1</th>\n",
       "      <th>2</th>\n",
       "      <th>3</th>\n",
       "      <th>4</th>\n",
       "      <th>5</th>\n",
       "      <th>6</th>\n",
       "      <th>7</th>\n",
       "      <th>8</th>\n",
       "      <th>9</th>\n",
       "      <th>...</th>\n",
       "      <th>15</th>\n",
       "      <th>16</th>\n",
       "      <th>17</th>\n",
       "      <th>18</th>\n",
       "      <th>19</th>\n",
       "      <th>20</th>\n",
       "      <th>21</th>\n",
       "      <th>22</th>\n",
       "      <th>23</th>\n",
       "      <th>24</th>\n",
       "    </tr>\n",
       "  </thead>\n",
       "  <tbody>\n",
       "    <tr>\n",
       "      <th>0</th>\n",
       "      <td>General Lee</td>\n",
       "      <td>general lee</td>\n",
       "      <td>49154141</td>\n",
       "      <td>49154141</td>\n",
       "      <td>2404</td>\n",
       "      <td>Владимир</td>\n",
       "      <td>2012-02-24 11:54:20</td>\n",
       "      <td>Дмитрий</td>\n",
       "      <td>Владимирская область</td>\n",
       "      <td>True</td>\n",
       "      <td>...</td>\n",
       "      <td>1352.0</td>\n",
       "      <td>0.0</td>\n",
       "      <td>2670.0</td>\n",
       "      <td>0.0</td>\n",
       "      <td>198.0</td>\n",
       "      <td>106.0</td>\n",
       "      <td>113.0</td>\n",
       "      <td>2.0</td>\n",
       "      <td>0</td>\n",
       "      <td>0.0</td>\n",
       "    </tr>\n",
       "    <tr>\n",
       "      <th>1</th>\n",
       "      <td>Shelby GT500</td>\n",
       "      <td>shelby</td>\n",
       "      <td>49154141</td>\n",
       "      <td>49154141</td>\n",
       "      <td>2405</td>\n",
       "      <td>Владимир</td>\n",
       "      <td>2012-02-24 11:54:33</td>\n",
       "      <td>Дмитрий</td>\n",
       "      <td>Владимирская область</td>\n",
       "      <td>True</td>\n",
       "      <td>...</td>\n",
       "      <td>1352.0</td>\n",
       "      <td>0.0</td>\n",
       "      <td>2670.0</td>\n",
       "      <td>0.0</td>\n",
       "      <td>198.0</td>\n",
       "      <td>106.0</td>\n",
       "      <td>113.0</td>\n",
       "      <td>1.0</td>\n",
       "      <td>0</td>\n",
       "      <td>0.0</td>\n",
       "    </tr>\n",
       "    <tr>\n",
       "      <th>2</th>\n",
       "      <td>1969 Ford Mustang</td>\n",
       "      <td>ford mustang</td>\n",
       "      <td>49154141</td>\n",
       "      <td>49154141</td>\n",
       "      <td>2411</td>\n",
       "      <td>Владимир</td>\n",
       "      <td>2012-02-25 22:27:35</td>\n",
       "      <td>Дмитрий</td>\n",
       "      <td>Владимирская область</td>\n",
       "      <td>True</td>\n",
       "      <td>...</td>\n",
       "      <td>1352.0</td>\n",
       "      <td>0.0</td>\n",
       "      <td>2670.0</td>\n",
       "      <td>0.0</td>\n",
       "      <td>198.0</td>\n",
       "      <td>106.0</td>\n",
       "      <td>113.0</td>\n",
       "      <td>1.0</td>\n",
       "      <td>0</td>\n",
       "      <td>0.0</td>\n",
       "    </tr>\n",
       "    <tr>\n",
       "      <th>3</th>\n",
       "      <td>Murcielago</td>\n",
       "      <td>murcielago</td>\n",
       "      <td>49154141</td>\n",
       "      <td>49154141</td>\n",
       "      <td>2400</td>\n",
       "      <td>Владимир</td>\n",
       "      <td>2012-02-24 11:53:51</td>\n",
       "      <td>Дмитрий</td>\n",
       "      <td>Владимирская область</td>\n",
       "      <td>True</td>\n",
       "      <td>...</td>\n",
       "      <td>1352.0</td>\n",
       "      <td>0.0</td>\n",
       "      <td>2670.0</td>\n",
       "      <td>0.0</td>\n",
       "      <td>198.0</td>\n",
       "      <td>106.0</td>\n",
       "      <td>113.0</td>\n",
       "      <td>1.0</td>\n",
       "      <td>0</td>\n",
       "      <td>0.0</td>\n",
       "    </tr>\n",
       "    <tr>\n",
       "      <th>4</th>\n",
       "      <td>Суровый водитель</td>\n",
       "      <td>суровый водитель</td>\n",
       "      <td>49154141</td>\n",
       "      <td>49154141</td>\n",
       "      <td>2392</td>\n",
       "      <td>Владимир</td>\n",
       "      <td>2012-02-23 16:22:56</td>\n",
       "      <td>Дмитрий</td>\n",
       "      <td>Владимирская область</td>\n",
       "      <td>True</td>\n",
       "      <td>...</td>\n",
       "      <td>1352.0</td>\n",
       "      <td>0.0</td>\n",
       "      <td>2670.0</td>\n",
       "      <td>0.0</td>\n",
       "      <td>198.0</td>\n",
       "      <td>106.0</td>\n",
       "      <td>113.0</td>\n",
       "      <td>1.0</td>\n",
       "      <td>0</td>\n",
       "      <td>0.0</td>\n",
       "    </tr>\n",
       "  </tbody>\n",
       "</table>\n",
       "<p>5 rows × 25 columns</p>\n",
       "</div>"
      ],
      "text/plain": [
       "                  0                  1         2         3     4         5   \\\n",
       "0        General Lee       general lee   49154141  49154141  2404  Владимир   \n",
       "1       Shelby GT500            shelby   49154141  49154141  2405  Владимир   \n",
       "2  1969 Ford Mustang      ford mustang   49154141  49154141  2411  Владимир   \n",
       "3         Murcielago        murcielago   49154141  49154141  2400  Владимир   \n",
       "4   Суровый водитель  суровый водитель   49154141  49154141  2392  Владимир   \n",
       "\n",
       "                    6        7                     8     9  ...       15   16  \\\n",
       "0  2012-02-24 11:54:20  Дмитрий  Владимирская область  True ...   1352.0  0.0   \n",
       "1  2012-02-24 11:54:33  Дмитрий  Владимирская область  True ...   1352.0  0.0   \n",
       "2  2012-02-25 22:27:35  Дмитрий  Владимирская область  True ...   1352.0  0.0   \n",
       "3  2012-02-24 11:53:51  Дмитрий  Владимирская область  True ...   1352.0  0.0   \n",
       "4  2012-02-23 16:22:56  Дмитрий  Владимирская область  True ...   1352.0  0.0   \n",
       "\n",
       "       17   18     19     20     21   22  23   24  \n",
       "0  2670.0  0.0  198.0  106.0  113.0  2.0   0  0.0  \n",
       "1  2670.0  0.0  198.0  106.0  113.0  1.0   0  0.0  \n",
       "2  2670.0  0.0  198.0  106.0  113.0  1.0   0  0.0  \n",
       "3  2670.0  0.0  198.0  106.0  113.0  1.0   0  0.0  \n",
       "4  2670.0  0.0  198.0  106.0  113.0  1.0   0  0.0  \n",
       "\n",
       "[5 rows x 25 columns]"
      ]
     },
     "execution_count": 5,
     "metadata": {},
     "output_type": "execute_result"
    }
   ],
   "source": [
    "data.head()"
   ]
  },
  {
   "cell_type": "code",
   "execution_count": null,
   "metadata": {
    "collapsed": true
   },
   "outputs": [],
   "source": [
    "columns = []"
   ]
  }
 ],
 "metadata": {
  "kernelspec": {
   "display_name": "Python 3",
   "language": "python",
   "name": "python3"
  },
  "language_info": {
   "codemirror_mode": {
    "name": "ipython",
    "version": 3
   },
   "file_extension": ".py",
   "mimetype": "text/x-python",
   "name": "python",
   "nbconvert_exporter": "python",
   "pygments_lexer": "ipython3",
   "version": "3.5.0"
  }
 },
 "nbformat": 4,
 "nbformat_minor": 0
}
