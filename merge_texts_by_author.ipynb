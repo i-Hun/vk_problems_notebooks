{
 "cells": [
  {
   "cell_type": "code",
   "execution_count": 1,
   "metadata": {
    "collapsed": true
   },
   "outputs": [],
   "source": [
    "import pandas as pd\n",
    "import feather\n",
    "import numpy as np\n",
    "import csv\n",
    "import datetime\n",
    "pd.set_option('display.max_columns', 30)"
   ]
  },
  {
   "cell_type": "code",
   "execution_count": 2,
   "metadata": {
    "collapsed": false
   },
   "outputs": [
    {
     "name": "stderr",
     "output_type": "stream",
     "text": [
      "/Users/Hun/Python_env/Python3_env/lib/python3.5/site-packages/IPython/core/interactiveshell.py:2717: DtypeWarning: Columns (11,23) have mixed types. Specify dtype option on import or set low_memory=False.\n",
      "  interactivity=interactivity, compiler=compiler, result=result)\n"
     ]
    }
   ],
   "source": [
    "data = pd.read_csv(\"/Volumes/BigData/Science/hse_thesis/metadata_for_every_post_and_merged_texts/merged_data_final.csv\", parse_dates=[\"date\"])"
   ]
  },
  {
   "cell_type": "code",
   "execution_count": 12,
   "metadata": {
    "collapsed": false
   },
   "outputs": [
    {
     "data": {
      "text/html": [
       "<div>\n",
       "<table border=\"1\" class=\"dataframe\">\n",
       "  <thead>\n",
       "    <tr style=\"text-align: right;\">\n",
       "      <th></th>\n",
       "      <th>original_texts</th>\n",
       "      <th>text</th>\n",
       "      <th>author_id</th>\n",
       "      <th>wall_id</th>\n",
       "      <th>post_comment_id_int</th>\n",
       "      <th>city</th>\n",
       "      <th>date</th>\n",
       "      <th>name</th>\n",
       "      <th>region</th>\n",
       "      <th>is_post</th>\n",
       "      <th>surname</th>\n",
       "      <th>sex</th>\n",
       "      <th>country</th>\n",
       "      <th>posts</th>\n",
       "      <th>comments</th>\n",
       "      <th>likes</th>\n",
       "      <th>res_comments</th>\n",
       "      <th>res_postlikes</th>\n",
       "      <th>res_comments_likes</th>\n",
       "      <th>friends</th>\n",
       "      <th>groups</th>\n",
       "      <th>followers</th>\n",
       "      <th>post_likes</th>\n",
       "      <th>post_repost</th>\n",
       "      <th>post_comments</th>\n",
       "      <th>text_length</th>\n",
       "    </tr>\n",
       "  </thead>\n",
       "  <tbody>\n",
       "    <tr>\n",
       "      <th>0</th>\n",
       "      <td>General Lee</td>\n",
       "      <td>general lee</td>\n",
       "      <td>49154141</td>\n",
       "      <td>49154141</td>\n",
       "      <td>2404</td>\n",
       "      <td>Владимир</td>\n",
       "      <td>2012-02-24 11:54:20</td>\n",
       "      <td>Дмитрий</td>\n",
       "      <td>Владимирская область</td>\n",
       "      <td>True</td>\n",
       "      <td>Филиппов</td>\n",
       "      <td>2</td>\n",
       "      <td>Россия</td>\n",
       "      <td>2133.0</td>\n",
       "      <td>0.0</td>\n",
       "      <td>1352.0</td>\n",
       "      <td>0.0</td>\n",
       "      <td>2670.0</td>\n",
       "      <td>0.0</td>\n",
       "      <td>198.0</td>\n",
       "      <td>106.0</td>\n",
       "      <td>113.0</td>\n",
       "      <td>2.0</td>\n",
       "      <td>0.0</td>\n",
       "      <td>0.0</td>\n",
       "      <td>2</td>\n",
       "    </tr>\n",
       "    <tr>\n",
       "      <th>1</th>\n",
       "      <td>Shelby GT500</td>\n",
       "      <td>shelby</td>\n",
       "      <td>49154141</td>\n",
       "      <td>49154141</td>\n",
       "      <td>2405</td>\n",
       "      <td>Владимир</td>\n",
       "      <td>2012-02-24 11:54:33</td>\n",
       "      <td>Дмитрий</td>\n",
       "      <td>Владимирская область</td>\n",
       "      <td>True</td>\n",
       "      <td>Филиппов</td>\n",
       "      <td>2</td>\n",
       "      <td>Россия</td>\n",
       "      <td>2133.0</td>\n",
       "      <td>0.0</td>\n",
       "      <td>1352.0</td>\n",
       "      <td>0.0</td>\n",
       "      <td>2670.0</td>\n",
       "      <td>0.0</td>\n",
       "      <td>198.0</td>\n",
       "      <td>106.0</td>\n",
       "      <td>113.0</td>\n",
       "      <td>1.0</td>\n",
       "      <td>0.0</td>\n",
       "      <td>0.0</td>\n",
       "      <td>1</td>\n",
       "    </tr>\n",
       "    <tr>\n",
       "      <th>2</th>\n",
       "      <td>1969 Ford Mustang</td>\n",
       "      <td>ford mustang</td>\n",
       "      <td>49154141</td>\n",
       "      <td>49154141</td>\n",
       "      <td>2411</td>\n",
       "      <td>Владимир</td>\n",
       "      <td>2012-02-25 22:27:35</td>\n",
       "      <td>Дмитрий</td>\n",
       "      <td>Владимирская область</td>\n",
       "      <td>True</td>\n",
       "      <td>Филиппов</td>\n",
       "      <td>2</td>\n",
       "      <td>Россия</td>\n",
       "      <td>2133.0</td>\n",
       "      <td>0.0</td>\n",
       "      <td>1352.0</td>\n",
       "      <td>0.0</td>\n",
       "      <td>2670.0</td>\n",
       "      <td>0.0</td>\n",
       "      <td>198.0</td>\n",
       "      <td>106.0</td>\n",
       "      <td>113.0</td>\n",
       "      <td>1.0</td>\n",
       "      <td>0.0</td>\n",
       "      <td>0.0</td>\n",
       "      <td>2</td>\n",
       "    </tr>\n",
       "    <tr>\n",
       "      <th>3</th>\n",
       "      <td>Murcielago</td>\n",
       "      <td>murcielago</td>\n",
       "      <td>49154141</td>\n",
       "      <td>49154141</td>\n",
       "      <td>2400</td>\n",
       "      <td>Владимир</td>\n",
       "      <td>2012-02-24 11:53:51</td>\n",
       "      <td>Дмитрий</td>\n",
       "      <td>Владимирская область</td>\n",
       "      <td>True</td>\n",
       "      <td>Филиппов</td>\n",
       "      <td>2</td>\n",
       "      <td>Россия</td>\n",
       "      <td>2133.0</td>\n",
       "      <td>0.0</td>\n",
       "      <td>1352.0</td>\n",
       "      <td>0.0</td>\n",
       "      <td>2670.0</td>\n",
       "      <td>0.0</td>\n",
       "      <td>198.0</td>\n",
       "      <td>106.0</td>\n",
       "      <td>113.0</td>\n",
       "      <td>1.0</td>\n",
       "      <td>0.0</td>\n",
       "      <td>0.0</td>\n",
       "      <td>1</td>\n",
       "    </tr>\n",
       "    <tr>\n",
       "      <th>4</th>\n",
       "      <td>Суровый водитель</td>\n",
       "      <td>суровый водитель</td>\n",
       "      <td>49154141</td>\n",
       "      <td>49154141</td>\n",
       "      <td>2392</td>\n",
       "      <td>Владимир</td>\n",
       "      <td>2012-02-23 16:22:56</td>\n",
       "      <td>Дмитрий</td>\n",
       "      <td>Владимирская область</td>\n",
       "      <td>True</td>\n",
       "      <td>Филиппов</td>\n",
       "      <td>2</td>\n",
       "      <td>Россия</td>\n",
       "      <td>2133.0</td>\n",
       "      <td>0.0</td>\n",
       "      <td>1352.0</td>\n",
       "      <td>0.0</td>\n",
       "      <td>2670.0</td>\n",
       "      <td>0.0</td>\n",
       "      <td>198.0</td>\n",
       "      <td>106.0</td>\n",
       "      <td>113.0</td>\n",
       "      <td>1.0</td>\n",
       "      <td>0.0</td>\n",
       "      <td>0.0</td>\n",
       "      <td>2</td>\n",
       "    </tr>\n",
       "  </tbody>\n",
       "</table>\n",
       "</div>"
      ],
      "text/plain": [
       "      original_texts               text  author_id   wall_id  \\\n",
       "0        General Lee       general lee    49154141  49154141   \n",
       "1       Shelby GT500            shelby    49154141  49154141   \n",
       "2  1969 Ford Mustang      ford mustang    49154141  49154141   \n",
       "3         Murcielago        murcielago    49154141  49154141   \n",
       "4   Суровый водитель  суровый водитель    49154141  49154141   \n",
       "\n",
       "   post_comment_id_int      city                date     name  \\\n",
       "0                 2404  Владимир 2012-02-24 11:54:20  Дмитрий   \n",
       "1                 2405  Владимир 2012-02-24 11:54:33  Дмитрий   \n",
       "2                 2411  Владимир 2012-02-25 22:27:35  Дмитрий   \n",
       "3                 2400  Владимир 2012-02-24 11:53:51  Дмитрий   \n",
       "4                 2392  Владимир 2012-02-23 16:22:56  Дмитрий   \n",
       "\n",
       "                 region is_post   surname sex  country   posts  comments  \\\n",
       "0  Владимирская область    True  Филиппов   2   Россия  2133.0       0.0   \n",
       "1  Владимирская область    True  Филиппов   2   Россия  2133.0       0.0   \n",
       "2  Владимирская область    True  Филиппов   2   Россия  2133.0       0.0   \n",
       "3  Владимирская область    True  Филиппов   2   Россия  2133.0       0.0   \n",
       "4  Владимирская область    True  Филиппов   2   Россия  2133.0       0.0   \n",
       "\n",
       "    likes  res_comments  res_postlikes  res_comments_likes  friends  groups  \\\n",
       "0  1352.0           0.0         2670.0                 0.0    198.0   106.0   \n",
       "1  1352.0           0.0         2670.0                 0.0    198.0   106.0   \n",
       "2  1352.0           0.0         2670.0                 0.0    198.0   106.0   \n",
       "3  1352.0           0.0         2670.0                 0.0    198.0   106.0   \n",
       "4  1352.0           0.0         2670.0                 0.0    198.0   106.0   \n",
       "\n",
       "   followers  post_likes  post_repost  post_comments  text_length  \n",
       "0      113.0         2.0          0.0            0.0            2  \n",
       "1      113.0         1.0          0.0            0.0            1  \n",
       "2      113.0         1.0          0.0            0.0            2  \n",
       "3      113.0         1.0          0.0            0.0            1  \n",
       "4      113.0         1.0          0.0            0.0            2  "
      ]
     },
     "execution_count": 12,
     "metadata": {},
     "output_type": "execute_result"
    }
   ],
   "source": [
    "data.head()"
   ]
  },
  {
   "cell_type": "code",
   "execution_count": 30,
   "metadata": {
    "collapsed": false
   },
   "outputs": [
    {
     "data": {
      "text/plain": [
       "Index(['original_texts', 'text', 'author_id', 'wall_id', 'post_comment_id_int',\n",
       "       'city', 'date', 'name', 'region', 'is_post', 'surname', 'sex',\n",
       "       'country', 'posts', 'comments', 'likes', 'res_comments',\n",
       "       'res_postlikes', 'res_comments_likes', 'friends', 'groups', 'followers',\n",
       "       'post_likes', 'post_repost', 'post_comments', 'text_length'],\n",
       "      dtype='object')"
      ]
     },
     "execution_count": 30,
     "metadata": {},
     "output_type": "execute_result"
    }
   ],
   "source": [
    "data.columns"
   ]
  },
  {
   "cell_type": "code",
   "execution_count": 4,
   "metadata": {
    "collapsed": false
   },
   "outputs": [
    {
     "data": {
      "text/plain": [
       "original_texts                 object\n",
       "text                           object\n",
       "author_id                       int64\n",
       "wall_id                         int64\n",
       "post_comment_id_int             int64\n",
       "city                           object\n",
       "date                   datetime64[ns]\n",
       "name                           object\n",
       "region                         object\n",
       "is_post                          bool\n",
       "surname                        object\n",
       "sex                            object\n",
       "country                        object\n",
       "posts                         float64\n",
       "comments                      float64\n",
       "likes                         float64\n",
       "res_comments                  float64\n",
       "res_postlikes                 float64\n",
       "res_comments_likes            float64\n",
       "friends                       float64\n",
       "groups                        float64\n",
       "followers                     float64\n",
       "post_likes                    float64\n",
       "post_repost                    object\n",
       "post_comments                 float64\n",
       "text_length                     int64\n",
       "dtype: object"
      ]
     },
     "execution_count": 4,
     "metadata": {},
     "output_type": "execute_result"
    }
   ],
   "source": [
    "data.dtypes"
   ]
  },
  {
   "cell_type": "code",
   "execution_count": 5,
   "metadata": {
    "collapsed": true
   },
   "outputs": [],
   "source": [
    "def aa(val):\n",
    "    try:\n",
    "        res = float(val)\n",
    "        return res\n",
    "    except ValueError as err:\n",
    "        print(err, val)\n",
    "        return np.nan"
   ]
  },
  {
   "cell_type": "code",
   "execution_count": 6,
   "metadata": {
    "collapsed": false
   },
   "outputs": [
    {
     "name": "stdout",
     "output_type": "stream",
     "text": [
      "could not convert string to float:   \n",
      "could not convert string to float:   \n"
     ]
    }
   ],
   "source": [
    "data[\"post_repost\"] = data[\"post_repost\"].apply(aa)"
   ]
  },
  {
   "cell_type": "code",
   "execution_count": 7,
   "metadata": {
    "collapsed": true
   },
   "outputs": [],
   "source": [
    "data[\"original_texts\"] = data[\"original_texts\"].apply(lambda x: str(x))\n",
    "data[\"text\"] = data[\"text\"].apply(lambda x: str(x))"
   ]
  },
  {
   "cell_type": "code",
   "execution_count": 8,
   "metadata": {
    "collapsed": false
   },
   "outputs": [
    {
     "data": {
      "text/plain": [
       "(5121979, 26)"
      ]
     },
     "execution_count": 8,
     "metadata": {},
     "output_type": "execute_result"
    }
   ],
   "source": [
    "data_good_date = data[data.date >= datetime.date(year=2010,month=10,day=21)]\n",
    "data_good_date.shape"
   ]
  },
  {
   "cell_type": "code",
   "execution_count": 9,
   "metadata": {
    "collapsed": false
   },
   "outputs": [
    {
     "data": {
      "text/plain": [
       "(4890025, 26)"
      ]
     },
     "execution_count": 9,
     "metadata": {},
     "output_type": "execute_result"
    }
   ],
   "source": [
    "data_good_date = data_good_date[data_good_date[\"author_id\"] != 0]\n",
    "data_good_date.shape"
   ]
  },
  {
   "cell_type": "code",
   "execution_count": null,
   "metadata": {
    "collapsed": true
   },
   "outputs": [],
   "source": [
    "from collections import defaultdict\n",
    "merged_authors_dict = {}\n",
    "for author_id, author_data in data_good_date.groupby(\"author_id\"):\n",
    "    texts_number = len(author_data[\"text\"])\n",
    "    orig_texts_storage = \"\"\n",
    "    texts_storage = \"\"\n",
    "    post_likes_storage = 0\n",
    "    post_repost_storage = 0\n",
    "    post_comments_storage = 0\n",
    "    auth_dict = {}\n",
    "    auth_dict[\"region\"] = author_data[\"region\"].iloc[0]\n",
    "    auth_dict[\"city\"] = author_data[\"city\"].iloc[0]\n",
    "    auth_dict[\"sex\"] = author_data[\"sex\"].iloc[0]\n",
    "    auth_dict[\"friends\"] = author_data[\"friends\"].iloc[0]\n",
    "    auth_dict[\"followers\"] = author_data[\"followers\"].iloc[0]\n",
    "    auth_dict[\"likes\"] = author_data[\"likes\"].iloc[0]\n",
    "    auth_dict[\"posts\"] = author_data[\"posts\"].iloc[0]\n",
    "    auth_dict[\"comments\"] = author_data[\"comments\"].iloc[0]\n",
    "    auth_dict[\"res_comments\"] = author_data[\"res_comments\"].iloc[0]\n",
    "    auth_dict[\"res_comments_likes\"] = author_data[\"res_comments_likes\"].iloc[0]\n",
    "    auth_dict[\"res_postlikes\"] = author_data[\"res_postlikes\"].iloc[0]\n",
    "    auth_dict[\"groups\"] = author_data[\"groups\"].iloc[0]\n",
    "    \n",
    "    for text_num, text in enumerate(author_data[\"text\"]):\n",
    "        orig_texts_storage += author_data[\"original_texts\"].iloc[text_num] + \" \"\n",
    "        texts_storage += text + \" \"\n",
    "        post_likes_storage += author_data[\"post_likes\"].iloc[text_num]\n",
    "        post_repost_storage += author_data[\"post_repost\"].iloc[text_num]\n",
    "        post_comments_storage += author_data[\"post_comments\"].iloc[text_num]\n",
    "        \n",
    "    auth_dict[\"original_texts\"] = orig_texts_storage\n",
    "    auth_dict[\"texts\"] = texts_storage\n",
    "    auth_dict[\"post_likes\"] = post_likes_storage\n",
    "    auth_dict[\"post_repost\"] = post_repost_storage\n",
    "    auth_dict[\"post_comments\"] = post_comments_storage\n",
    "    \n",
    "    merged_authors_dict[author_id] = auth_dict"
   ]
  },
  {
   "cell_type": "code",
   "execution_count": 13,
   "metadata": {
    "collapsed": false
   },
   "outputs": [
    {
     "data": {
      "text/plain": [
       "379765"
      ]
     },
     "execution_count": 13,
     "metadata": {},
     "output_type": "execute_result"
    }
   ],
   "source": [
    "len(merged_authors_dict)"
   ]
  },
  {
   "cell_type": "code",
   "execution_count": 20,
   "metadata": {
    "collapsed": false
   },
   "outputs": [
    {
     "data": {
      "text/plain": [
       "{'city': 'Барнаул',\n",
       " 'comments': 1.0,\n",
       " 'docs': [],\n",
       " 'followers': 100.0,\n",
       " 'friends': 106.0,\n",
       " 'groups': 43.0,\n",
       " 'likes': 4.0,\n",
       " 'original_texts': 'Что пожелать тебе родная,Богатства или красоты?Не лучше ль будет если в жизниВсегда счастливой будешь ты?Чтоб места не было беде,И чтоб никто не догадалсяКоторый год идёт тебе.Бери от жизни всё, что можешь,Всё ,что просто и светло,Ведь жизнь на жизнь не перемножить,А дважды жить не суждено. Что пожелать тебе родная,Богатства или красоты?Не лучше ль будет если в жизниВсегда счастливой будешь ты?Чтоб места не было беде,И чтоб никто не догадалсяКоторый год идёт тебе.Бери от жизни всё, что можешь,Всё ,что просто и светло,Ведь жизнь на жизнь не перемножить,А дважды жить не суждено. ',\n",
       " 'post_comments': 0.0,\n",
       " 'post_likes': 0.0,\n",
       " 'post_repost': 0.0,\n",
       " 'posts': 1.0,\n",
       " 'region': 'Алтайский край',\n",
       " 'res_comments': 0.0,\n",
       " 'res_comments_likes': 0.0,\n",
       " 'res_postlikes': 0.0,\n",
       " 'sex': '1',\n",
       " 'texts': '{пожелать} {родной} {богатство} {красота} {хороший} {жизнивсегда} {счастливый} {место} {беда} {брать} {жизнь} {светло} {жизнь} {жизнь} {перемножать} {дважды} {жить} {сужденный} {пожелать} {родной} {богатство} {красота} {хороший} {жизнивсегда} {счастливый} {место} {беда} {брать} {жизнь} {светло} {жизнь} {жизнь} {перемножать} {дважды} {жить} {сужденный}'}"
      ]
     },
     "execution_count": 20,
     "metadata": {},
     "output_type": "execute_result"
    }
   ],
   "source": [
    "next (iter (merged_authors_dict.values()))"
   ]
  },
  {
   "cell_type": "code",
   "execution_count": 19,
   "metadata": {
    "collapsed": true
   },
   "outputs": [],
   "source": [
    "for author in merged_authors_dict:\n",
    "    merged_authors_dict[author][\"texts\"] = \" \".join([\"{\" + token + \"}\"for token in merged_authors_dict[author][\"texts\"].split()])"
   ]
  },
  {
   "cell_type": "code",
   "execution_count": 22,
   "metadata": {
    "collapsed": false
   },
   "outputs": [],
   "source": [
    "with open(\"/Volumes/BigData/Science/hse_thesis/metadata_for_every_post_and_merged_texts/aggregated_by_author_texts.csv\", \"wt\", newline=\"\") as f:\n",
    "    fieldnames = [\"author_id\", \"region\", \"city\", \"groups\", \"likes\", \"sex\",\n",
    "                  \"res_comments_likes\", \"res_comments\", \"res_postlikes\",\n",
    "                  \"friends\", \"followers\", \"comments\", \"text\", \"o_text\",\n",
    "                  \"post_comments\", \"post_likes\", \"post_repost\", \"posts\"]\n",
    "    writer = csv.DictWriter(f, fieldnames=fieldnames)\n",
    "    writer.writeheader()\n",
    "    for auth_id, val in merged_authors_dict.items():\n",
    "        row_dict = {\n",
    "            \"author_id\": auth_id,\n",
    "            \"region\": val[\"region\"],\n",
    "            \"city\": val[\"city\"],\n",
    "            \"groups\": val[\"groups\"],\n",
    "            \"likes\": val[\"likes\"],\n",
    "            \"sex\": val[\"sex\"],\n",
    "            \"res_comments\": val[\"res_comments\"],\n",
    "            \"res_comments_likes\": val[\"res_comments_likes\"],\n",
    "            \"res_postlikes\": val[\"res_postlikes\"],\n",
    "            \"friends\": val[\"friends\"],\n",
    "            \"followers\": val[\"followers\"],\n",
    "            \"comments\": val[\"comments\"],\n",
    "            \"text\": val[\"texts\"],\n",
    "            \"o_text\": val[\"original_texts\"],\n",
    "            \"post_comments\": val[\"post_comments\"],\n",
    "            \"post_likes\": val[\"post_likes\"],\n",
    "            \"post_repost\": val[\"post_repost\"],\n",
    "            \"posts\": val[\"posts\"],\n",
    "        }\n",
    "        writer.writerow(row_dict)"
   ]
  },
  {
   "cell_type": "code",
   "execution_count": 23,
   "metadata": {
    "collapsed": true
   },
   "outputs": [],
   "source": [
    "merged_authors_pd = pd.read_csv(\"/Volumes/BigData/Science/hse_thesis/metadata_for_every_post_and_merged_texts/aggregated_by_author_texts.csv\")"
   ]
  },
  {
   "cell_type": "code",
   "execution_count": 26,
   "metadata": {
    "collapsed": false
   },
   "outputs": [
    {
     "data": {
      "text/plain": [
       "(379765, 18)"
      ]
     },
     "execution_count": 26,
     "metadata": {},
     "output_type": "execute_result"
    }
   ],
   "source": [
    "merged_authors_pd.shape"
   ]
  },
  {
   "cell_type": "code",
   "execution_count": 27,
   "metadata": {
    "collapsed": true
   },
   "outputs": [],
   "source": [
    "fieldnames = [\"o_text\", \"text\", \"author_id\", \"region\", \"city\", \"groups\", \"likes\", \"sex\",\n",
    "              \"res_comments_likes\", \"res_comments\", \"res_postlikes\",\n",
    "              \"friends\", \"followers\", \"posts\", \"comments\",\n",
    "              \"post_comments\", \"post_likes\", \"post_repost\"]\n",
    "merged_authors_pd = merged_authors_pd[fieldnames]"
   ]
  },
  {
   "cell_type": "code",
   "execution_count": 28,
   "metadata": {
    "collapsed": false
   },
   "outputs": [
    {
     "data": {
      "text/html": [
       "<div>\n",
       "<table border=\"1\" class=\"dataframe\">\n",
       "  <thead>\n",
       "    <tr style=\"text-align: right;\">\n",
       "      <th></th>\n",
       "      <th>o_text</th>\n",
       "      <th>text</th>\n",
       "      <th>author_id</th>\n",
       "      <th>region</th>\n",
       "      <th>city</th>\n",
       "      <th>groups</th>\n",
       "      <th>likes</th>\n",
       "      <th>sex</th>\n",
       "      <th>res_comments_likes</th>\n",
       "      <th>res_comments</th>\n",
       "      <th>res_postlikes</th>\n",
       "      <th>friends</th>\n",
       "      <th>followers</th>\n",
       "      <th>posts</th>\n",
       "      <th>comments</th>\n",
       "      <th>post_comments</th>\n",
       "      <th>post_likes</th>\n",
       "      <th>post_repost</th>\n",
       "    </tr>\n",
       "  </thead>\n",
       "  <tbody>\n",
       "    <tr>\n",
       "      <th>0</th>\n",
       "      <td>Что пожелать тебе родная,Богатства или красоты...</td>\n",
       "      <td>{пожелать} {родной} {богатство} {красота} {хор...</td>\n",
       "      <td>185597961</td>\n",
       "      <td>Алтайский край</td>\n",
       "      <td>Барнаул</td>\n",
       "      <td>43.0</td>\n",
       "      <td>4.0</td>\n",
       "      <td>1</td>\n",
       "      <td>0.0</td>\n",
       "      <td>0.0</td>\n",
       "      <td>0.0</td>\n",
       "      <td>106.0</td>\n",
       "      <td>100.0</td>\n",
       "      <td>1.0</td>\n",
       "      <td>1.0</td>\n",
       "      <td>0.0</td>\n",
       "      <td>0.0</td>\n",
       "      <td>0.0</td>\n",
       "    </tr>\n",
       "    <tr>\n",
       "      <th>1</th>\n",
       "      <td>с днём рождения!)</td>\n",
       "      <td>{день} {рождение}</td>\n",
       "      <td>144703498</td>\n",
       "      <td>Мордовия</td>\n",
       "      <td>Саранск</td>\n",
       "      <td>86.0</td>\n",
       "      <td>0.0</td>\n",
       "      <td>1</td>\n",
       "      <td>0.0</td>\n",
       "      <td>0.0</td>\n",
       "      <td>0.0</td>\n",
       "      <td>70.0</td>\n",
       "      <td>489.0</td>\n",
       "      <td>1.0</td>\n",
       "      <td>0.0</td>\n",
       "      <td>0.0</td>\n",
       "      <td>0.0</td>\n",
       "      <td>0.0</td>\n",
       "    </tr>\n",
       "    <tr>\n",
       "      <th>2</th>\n",
       "      <td>с днем рождения!!!!</td>\n",
       "      <td>{день} {рождение}</td>\n",
       "      <td>105906189</td>\n",
       "      <td>Пензенская область</td>\n",
       "      <td>Земетчино</td>\n",
       "      <td>92.0</td>\n",
       "      <td>0.0</td>\n",
       "      <td>2.0</td>\n",
       "      <td>0.0</td>\n",
       "      <td>0.0</td>\n",
       "      <td>0.0</td>\n",
       "      <td>358.0</td>\n",
       "      <td>1630.0</td>\n",
       "      <td>1.0</td>\n",
       "      <td>0.0</td>\n",
       "      <td>0.0</td>\n",
       "      <td>0.0</td>\n",
       "      <td>0.0</td>\n",
       "    </tr>\n",
       "    <tr>\n",
       "      <th>3</th>\n",
       "      <td>Мужская солидарность Лемурьей мудрости пост. О...</td>\n",
       "      <td>{мужской} {солидарность} {лемурьей} {мудрость}...</td>\n",
       "      <td>12582933</td>\n",
       "      <td>Севастопольский городской совет</td>\n",
       "      <td>Севастополь</td>\n",
       "      <td>37.0</td>\n",
       "      <td>85.0</td>\n",
       "      <td>2</td>\n",
       "      <td>4.0</td>\n",
       "      <td>15.0</td>\n",
       "      <td>240.0</td>\n",
       "      <td>139.0</td>\n",
       "      <td>47.0</td>\n",
       "      <td>101.0</td>\n",
       "      <td>21.0</td>\n",
       "      <td>14.0</td>\n",
       "      <td>117.0</td>\n",
       "      <td>8.0</td>\n",
       "    </tr>\n",
       "    <tr>\n",
       "      <th>4</th>\n",
       "      <td>?Отправлено через https://vk.com/top_cards#386...</td>\n",
       "      <td>{отправлять} {vk} {top} {cards} {vk} {loc} {vk...</td>\n",
       "      <td>139460631</td>\n",
       "      <td>NaN</td>\n",
       "      <td>NaN</td>\n",
       "      <td>66.0</td>\n",
       "      <td>1.0</td>\n",
       "      <td>1.0</td>\n",
       "      <td>0.0</td>\n",
       "      <td>0.0</td>\n",
       "      <td>3.0</td>\n",
       "      <td>105.0</td>\n",
       "      <td>74.0</td>\n",
       "      <td>8.0</td>\n",
       "      <td>0.0</td>\n",
       "      <td>0.0</td>\n",
       "      <td>3.0</td>\n",
       "      <td>0.0</td>\n",
       "    </tr>\n",
       "  </tbody>\n",
       "</table>\n",
       "</div>"
      ],
      "text/plain": [
       "                                              o_text  \\\n",
       "0  Что пожелать тебе родная,Богатства или красоты...   \n",
       "1                                 с днём рождения!)    \n",
       "2                               с днем рождения!!!!    \n",
       "3  Мужская солидарность Лемурьей мудрости пост. О...   \n",
       "4  ?Отправлено через https://vk.com/top_cards#386...   \n",
       "\n",
       "                                                text  author_id  \\\n",
       "0  {пожелать} {родной} {богатство} {красота} {хор...  185597961   \n",
       "1                                  {день} {рождение}  144703498   \n",
       "2                                  {день} {рождение}  105906189   \n",
       "3  {мужской} {солидарность} {лемурьей} {мудрость}...   12582933   \n",
       "4  {отправлять} {vk} {top} {cards} {vk} {loc} {vk...  139460631   \n",
       "\n",
       "                            region         city  groups  likes  sex  \\\n",
       "0                   Алтайский край      Барнаул    43.0    4.0    1   \n",
       "1                         Мордовия      Саранск    86.0    0.0    1   \n",
       "2               Пензенская область    Земетчино    92.0    0.0  2.0   \n",
       "3  Севастопольский городской совет  Севастополь    37.0   85.0    2   \n",
       "4                              NaN          NaN    66.0    1.0  1.0   \n",
       "\n",
       "   res_comments_likes  res_comments  res_postlikes  friends  followers  posts  \\\n",
       "0                 0.0           0.0            0.0    106.0      100.0    1.0   \n",
       "1                 0.0           0.0            0.0     70.0      489.0    1.0   \n",
       "2                 0.0           0.0            0.0    358.0     1630.0    1.0   \n",
       "3                 4.0          15.0          240.0    139.0       47.0  101.0   \n",
       "4                 0.0           0.0            3.0    105.0       74.0    8.0   \n",
       "\n",
       "   comments  post_comments  post_likes  post_repost  \n",
       "0       1.0            0.0         0.0          0.0  \n",
       "1       0.0            0.0         0.0          0.0  \n",
       "2       0.0            0.0         0.0          0.0  \n",
       "3      21.0           14.0       117.0          8.0  \n",
       "4       0.0            0.0         3.0          0.0  "
      ]
     },
     "execution_count": 28,
     "metadata": {},
     "output_type": "execute_result"
    }
   ],
   "source": [
    "merged_authors_pd.head()"
   ]
  },
  {
   "cell_type": "code",
   "execution_count": 29,
   "metadata": {
    "collapsed": true
   },
   "outputs": [],
   "source": [
    "merged_authors_pd.to_csv(\"/Volumes/BigData/Science/hse_thesis/metadata_for_every_post_and_merged_texts/aggregated_by_author_texts.csv\",\n",
    "                         header=False, index=False, sep=\";\", quoting=csv.QUOTE_ALL, line_terminator=\";\\r\\n\")"
   ]
  },
  {
   "cell_type": "code",
   "execution_count": null,
   "metadata": {
    "collapsed": true
   },
   "outputs": [],
   "source": []
  }
 ],
 "metadata": {
  "kernelspec": {
   "display_name": "Python 3",
   "language": "python",
   "name": "python3"
  },
  "language_info": {
   "codemirror_mode": {
    "name": "ipython",
    "version": 3
   },
   "file_extension": ".py",
   "mimetype": "text/x-python",
   "name": "python",
   "nbconvert_exporter": "python",
   "pygments_lexer": "ipython3",
   "version": "3.5.2"
  }
 },
 "nbformat": 4,
 "nbformat_minor": 1
}
