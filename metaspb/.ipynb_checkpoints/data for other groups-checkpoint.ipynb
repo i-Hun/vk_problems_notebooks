{
 "cells": [
  {
   "cell_type": "code",
   "execution_count": 1,
   "metadata": {
    "collapsed": true
   },
   "outputs": [],
   "source": [
    "%matplotlib inline\n",
    "import geopandas as gpd\n",
    "import matplotlib.pyplot as plt\n",
    "import pandas as pd\n",
    "import seaborn as sns\n",
    "import numpy as np"
   ]
  },
  {
   "cell_type": "code",
   "execution_count": 11,
   "metadata": {
    "collapsed": false
   },
   "outputs": [],
   "source": [
    "final_data = pd.read_csv(\"/Users/Hun/Desktop/Traces/final_data.csv\", sep=\";\", parse_dates=[\"local_time\", \"UTS_time\"])"
   ]
  },
  {
   "cell_type": "code",
   "execution_count": 12,
   "metadata": {
    "collapsed": false
   },
   "outputs": [
    {
     "data": {
      "text/html": [
       "<div>\n",
       "<table border=\"1\" class=\"dataframe\">\n",
       "  <thead>\n",
       "    <tr style=\"text-align: right;\">\n",
       "      <th></th>\n",
       "      <th>id</th>\n",
       "      <th>lat</th>\n",
       "      <th>lon</th>\n",
       "      <th>UTS_time</th>\n",
       "      <th>username</th>\n",
       "      <th>type</th>\n",
       "      <th>URL</th>\n",
       "      <th>tags</th>\n",
       "      <th>local_time</th>\n",
       "      <th>local_hour</th>\n",
       "      <th>...</th>\n",
       "      <th>local_month</th>\n",
       "      <th>basename</th>\n",
       "      <th>local_path</th>\n",
       "      <th>google_tag</th>\n",
       "      <th>PC_google_1</th>\n",
       "      <th>PC_google_2</th>\n",
       "      <th>PC_google_user</th>\n",
       "      <th>days</th>\n",
       "      <th>is_tourist</th>\n",
       "      <th>PC_usertag</th>\n",
       "    </tr>\n",
       "  </thead>\n",
       "  <tbody>\n",
       "    <tr>\n",
       "      <th>0</th>\n",
       "      <td>1019121614306305534_1210712456</td>\n",
       "      <td>59.938839</td>\n",
       "      <td>30.214373</td>\n",
       "      <td>2015-06-30 22:59:45</td>\n",
       "      <td>anastasiyaklep</td>\n",
       "      <td>image</td>\n",
       "      <td>https://scontent.cdninstagram.com/t51.2885-15/...</td>\n",
       "      <td>NaN</td>\n",
       "      <td>2015-07-01 01:59:45</td>\n",
       "      <td>1</td>\n",
       "      <td>...</td>\n",
       "      <td>7</td>\n",
       "      <td>11250247_455535837958292_1752377395_n.jpg</td>\n",
       "      <td>9/11250247_455535837958292_1752377395_n.jpg</td>\n",
       "      <td>NaN</td>\n",
       "      <td>NaN</td>\n",
       "      <td>NaN</td>\n",
       "      <td>NaN</td>\n",
       "      <td>NaN</td>\n",
       "      <td>NaN</td>\n",
       "      <td>NaN</td>\n",
       "    </tr>\n",
       "    <tr>\n",
       "      <th>1</th>\n",
       "      <td>1019118321601692005_269937639</td>\n",
       "      <td>59.938839</td>\n",
       "      <td>30.214373</td>\n",
       "      <td>2015-06-30 22:53:12</td>\n",
       "      <td>andreyroki</td>\n",
       "      <td>image</td>\n",
       "      <td>https://scontent.cdninstagram.com/t51.2885-15/...</td>\n",
       "      <td>NaN</td>\n",
       "      <td>2015-07-01 01:53:12</td>\n",
       "      <td>1</td>\n",
       "      <td>...</td>\n",
       "      <td>7</td>\n",
       "      <td>11419062_1589903957942434_866590870_n.jpg</td>\n",
       "      <td>31/11419062_1589903957942434_866590870_n.jpg</td>\n",
       "      <td>NaN</td>\n",
       "      <td>NaN</td>\n",
       "      <td>NaN</td>\n",
       "      <td>NaN</td>\n",
       "      <td>0.0</td>\n",
       "      <td>True</td>\n",
       "      <td>NaN</td>\n",
       "    </tr>\n",
       "    <tr>\n",
       "      <th>2</th>\n",
       "      <td>1019117742863237464_269937639</td>\n",
       "      <td>59.938839</td>\n",
       "      <td>30.214373</td>\n",
       "      <td>2015-06-30 22:52:03</td>\n",
       "      <td>andreyroki</td>\n",
       "      <td>image</td>\n",
       "      <td>https://scontent.cdninstagram.com/t51.2885-15/...</td>\n",
       "      <td>бро</td>\n",
       "      <td>2015-07-01 01:52:03</td>\n",
       "      <td>1</td>\n",
       "      <td>...</td>\n",
       "      <td>7</td>\n",
       "      <td>11240677_714859628643068_230939050_n.jpg</td>\n",
       "      <td>41/11240677_714859628643068_230939050_n.jpg</td>\n",
       "      <td>NaN</td>\n",
       "      <td>NaN</td>\n",
       "      <td>NaN</td>\n",
       "      <td>NaN</td>\n",
       "      <td>0.0</td>\n",
       "      <td>True</td>\n",
       "      <td>NaN</td>\n",
       "    </tr>\n",
       "    <tr>\n",
       "      <th>3</th>\n",
       "      <td>1019117535498700775_335464448</td>\n",
       "      <td>59.938946</td>\n",
       "      <td>30.214831</td>\n",
       "      <td>2015-06-30 22:51:39</td>\n",
       "      <td>julia_bashkevich</td>\n",
       "      <td>image</td>\n",
       "      <td>https://scontent.cdninstagram.com/t51.2885-15/...</td>\n",
       "      <td>NaN</td>\n",
       "      <td>2015-07-01 01:51:39</td>\n",
       "      <td>1</td>\n",
       "      <td>...</td>\n",
       "      <td>7</td>\n",
       "      <td>11820464_1059052310806702_265288563_n.jpg</td>\n",
       "      <td>26/11820464_1059052310806702_265288563_n.jpg</td>\n",
       "      <td>NaN</td>\n",
       "      <td>NaN</td>\n",
       "      <td>NaN</td>\n",
       "      <td>NaN</td>\n",
       "      <td>NaN</td>\n",
       "      <td>NaN</td>\n",
       "      <td>NaN</td>\n",
       "    </tr>\n",
       "    <tr>\n",
       "      <th>4</th>\n",
       "      <td>1019116267590338967_240775721</td>\n",
       "      <td>59.963889</td>\n",
       "      <td>30.222222</td>\n",
       "      <td>2015-06-30 22:49:07</td>\n",
       "      <td>aselya_nk</td>\n",
       "      <td>image</td>\n",
       "      <td>https://scontent.cdninstagram.com/t51.2885-15/...</td>\n",
       "      <td>NaN</td>\n",
       "      <td>2015-07-01 01:49:07</td>\n",
       "      <td>1</td>\n",
       "      <td>...</td>\n",
       "      <td>7</td>\n",
       "      <td>11208251_885698674853086_309345100_n.jpg</td>\n",
       "      <td>19/11208251_885698674853086_309345100_n.jpg</td>\n",
       "      <td>NaN</td>\n",
       "      <td>NaN</td>\n",
       "      <td>NaN</td>\n",
       "      <td>NaN</td>\n",
       "      <td>NaN</td>\n",
       "      <td>NaN</td>\n",
       "      <td>NaN</td>\n",
       "    </tr>\n",
       "  </tbody>\n",
       "</table>\n",
       "<p>5 rows × 21 columns</p>\n",
       "</div>"
      ],
      "text/plain": [
       "                               id        lat        lon            UTS_time  \\\n",
       "0  1019121614306305534_1210712456  59.938839  30.214373 2015-06-30 22:59:45   \n",
       "1   1019118321601692005_269937639  59.938839  30.214373 2015-06-30 22:53:12   \n",
       "2   1019117742863237464_269937639  59.938839  30.214373 2015-06-30 22:52:03   \n",
       "3   1019117535498700775_335464448  59.938946  30.214831 2015-06-30 22:51:39   \n",
       "4   1019116267590338967_240775721  59.963889  30.222222 2015-06-30 22:49:07   \n",
       "\n",
       "           username   type                                                URL  \\\n",
       "0    anastasiyaklep  image  https://scontent.cdninstagram.com/t51.2885-15/...   \n",
       "1        andreyroki  image  https://scontent.cdninstagram.com/t51.2885-15/...   \n",
       "2        andreyroki  image  https://scontent.cdninstagram.com/t51.2885-15/...   \n",
       "3  julia_bashkevich  image  https://scontent.cdninstagram.com/t51.2885-15/...   \n",
       "4         aselya_nk  image  https://scontent.cdninstagram.com/t51.2885-15/...   \n",
       "\n",
       "  tags          local_time  local_hour    ...      local_month  \\\n",
       "0  NaN 2015-07-01 01:59:45           1    ...                7   \n",
       "1  NaN 2015-07-01 01:53:12           1    ...                7   \n",
       "2  бро 2015-07-01 01:52:03           1    ...                7   \n",
       "3  NaN 2015-07-01 01:51:39           1    ...                7   \n",
       "4  NaN 2015-07-01 01:49:07           1    ...                7   \n",
       "\n",
       "                                    basename  \\\n",
       "0  11250247_455535837958292_1752377395_n.jpg   \n",
       "1  11419062_1589903957942434_866590870_n.jpg   \n",
       "2   11240677_714859628643068_230939050_n.jpg   \n",
       "3  11820464_1059052310806702_265288563_n.jpg   \n",
       "4   11208251_885698674853086_309345100_n.jpg   \n",
       "\n",
       "                                     local_path google_tag PC_google_1  \\\n",
       "0   9/11250247_455535837958292_1752377395_n.jpg        NaN         NaN   \n",
       "1  31/11419062_1589903957942434_866590870_n.jpg        NaN         NaN   \n",
       "2   41/11240677_714859628643068_230939050_n.jpg        NaN         NaN   \n",
       "3  26/11820464_1059052310806702_265288563_n.jpg        NaN         NaN   \n",
       "4   19/11208251_885698674853086_309345100_n.jpg        NaN         NaN   \n",
       "\n",
       "  PC_google_2 PC_google_user days  is_tourist PC_usertag  \n",
       "0         NaN            NaN  NaN         NaN        NaN  \n",
       "1         NaN            NaN  0.0        True        NaN  \n",
       "2         NaN            NaN  0.0        True        NaN  \n",
       "3         NaN            NaN  NaN         NaN        NaN  \n",
       "4         NaN            NaN  NaN         NaN        NaN  \n",
       "\n",
       "[5 rows x 21 columns]"
      ]
     },
     "execution_count": 12,
     "metadata": {},
     "output_type": "execute_result"
    }
   ],
   "source": [
    "final_data.head()"
   ]
  },
  {
   "cell_type": "code",
   "execution_count": null,
   "metadata": {
    "collapsed": true
   },
   "outputs": [],
   "source": []
  },
  {
   "cell_type": "code",
   "execution_count": 13,
   "metadata": {
    "collapsed": false
   },
   "outputs": [
    {
     "data": {
      "text/plain": [
       "(424089, 21)"
      ]
     },
     "execution_count": 13,
     "metadata": {},
     "output_type": "execute_result"
    }
   ],
   "source": [
    "final_data.shape"
   ]
  },
  {
   "cell_type": "code",
   "execution_count": 10,
   "metadata": {
    "collapsed": false
   },
   "outputs": [
    {
     "data": {
      "text/plain": [
       "Index(['id', 'lat', 'lon', 'UTS_time', 'username', 'type', 'URL', 'tags',\n",
       "       'local_time', 'local_hour', 'local_wday', 'local_month', 'basename',\n",
       "       'local_path', 'google_tag', 'PC_google_1', 'PC_google_2',\n",
       "       'PC_google_user', 'days', 'is_tourist', 'PC_usertag'],\n",
       "      dtype='object')"
      ]
     },
     "execution_count": 10,
     "metadata": {},
     "output_type": "execute_result"
    }
   ],
   "source": [
    "final_data.columns"
   ]
  },
  {
   "cell_type": "code",
   "execution_count": 16,
   "metadata": {
    "collapsed": false
   },
   "outputs": [
    {
     "data": {
      "text/plain": [
       "142482"
      ]
     },
     "execution_count": 16,
     "metadata": {},
     "output_type": "execute_result"
    }
   ],
   "source": [
    "len(final_data.groupby(\"username\"))"
   ]
  },
  {
   "cell_type": "code",
   "execution_count": null,
   "metadata": {
    "collapsed": true
   },
   "outputs": [],
   "source": []
  }
 ],
 "metadata": {
  "kernelspec": {
   "display_name": "Python 3",
   "language": "python",
   "name": "python3"
  },
  "language_info": {
   "codemirror_mode": {
    "name": "ipython",
    "version": 3
   },
   "file_extension": ".py",
   "mimetype": "text/x-python",
   "name": "python",
   "nbconvert_exporter": "python",
   "pygments_lexer": "ipython3",
   "version": "3.5.2"
  }
 },
 "nbformat": 4,
 "nbformat_minor": 1
}
