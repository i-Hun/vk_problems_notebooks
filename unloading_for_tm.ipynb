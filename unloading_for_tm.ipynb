{
 "cells": [
  {
   "cell_type": "code",
   "execution_count": 1,
   "metadata": {
    "collapsed": true
   },
   "outputs": [],
   "source": [
    "import pandas as pd\n",
    "import feather\n",
    "import numpy as np\n",
    "import csv\n",
    "import datetime"
   ]
  },
  {
   "cell_type": "code",
   "execution_count": 8,
   "metadata": {
    "collapsed": true
   },
   "outputs": [],
   "source": [
    "data = pd.read_csv(\"/Users/Hun/hse_thesis/Vk_csv_full_lem_CORRECTED.csv\",\n",
    "                   encoding=\"CP1251\",\n",
    "                   sep=\";\",\n",
    "                   header=None,\n",
    "                   parse_dates=[4],\n",
    "                   usecols=range(9),\n",
    "                   names=[\"text\", \"author_id\", \"wall_id\", \"post_comment_id\", \"date\", \"name\", \"surname\", \"city\", \"region\"])"
   ]
  },
  {
   "cell_type": "code",
   "execution_count": 10,
   "metadata": {
    "collapsed": false
   },
   "outputs": [
    {
     "data": {
      "text/html": [
       "<div>\n",
       "<table border=\"1\" class=\"dataframe\">\n",
       "  <thead>\n",
       "    <tr style=\"text-align: right;\">\n",
       "      <th></th>\n",
       "      <th>text</th>\n",
       "      <th>author_id</th>\n",
       "      <th>wall_id</th>\n",
       "      <th>post_comment_id</th>\n",
       "      <th>date</th>\n",
       "      <th>name</th>\n",
       "      <th>surname</th>\n",
       "      <th>city</th>\n",
       "      <th>region</th>\n",
       "    </tr>\n",
       "  </thead>\n",
       "  <tbody>\n",
       "    <tr>\n",
       "      <th>0</th>\n",
       "      <td>general lee</td>\n",
       "      <td>49154141</td>\n",
       "      <td>49154141</td>\n",
       "      <td>post 2404</td>\n",
       "      <td>2012-02-24 11:54:20</td>\n",
       "      <td>Дмитрий</td>\n",
       "      <td>Филиппов</td>\n",
       "      <td>Владимир</td>\n",
       "      <td>Владимирская область</td>\n",
       "    </tr>\n",
       "    <tr>\n",
       "      <th>1</th>\n",
       "      <td>shelby</td>\n",
       "      <td>49154141</td>\n",
       "      <td>49154141</td>\n",
       "      <td>post 2405</td>\n",
       "      <td>2012-02-24 11:54:33</td>\n",
       "      <td>Дмитрий</td>\n",
       "      <td>Филиппов</td>\n",
       "      <td>Владимир</td>\n",
       "      <td>Владимирская область</td>\n",
       "    </tr>\n",
       "    <tr>\n",
       "      <th>2</th>\n",
       "      <td>ford mustang</td>\n",
       "      <td>49154141</td>\n",
       "      <td>49154141</td>\n",
       "      <td>post 2411</td>\n",
       "      <td>2012-02-25 22:27:35</td>\n",
       "      <td>Дмитрий</td>\n",
       "      <td>Филиппов</td>\n",
       "      <td>Владимир</td>\n",
       "      <td>Владимирская область</td>\n",
       "    </tr>\n",
       "    <tr>\n",
       "      <th>3</th>\n",
       "      <td>murcielago</td>\n",
       "      <td>49154141</td>\n",
       "      <td>49154141</td>\n",
       "      <td>post 2400</td>\n",
       "      <td>2012-02-24 11:53:51</td>\n",
       "      <td>Дмитрий</td>\n",
       "      <td>Филиппов</td>\n",
       "      <td>Владимир</td>\n",
       "      <td>Владимирская область</td>\n",
       "    </tr>\n",
       "    <tr>\n",
       "      <th>4</th>\n",
       "      <td>суровый водитель</td>\n",
       "      <td>49154141</td>\n",
       "      <td>49154141</td>\n",
       "      <td>post 2392</td>\n",
       "      <td>2012-02-23 16:22:56</td>\n",
       "      <td>Дмитрий</td>\n",
       "      <td>Филиппов</td>\n",
       "      <td>Владимир</td>\n",
       "      <td>Владимирская область</td>\n",
       "    </tr>\n",
       "  </tbody>\n",
       "</table>\n",
       "</div>"
      ],
      "text/plain": [
       "                text  author_id   wall_id post_comment_id                date  \\\n",
       "0       general lee    49154141  49154141       post 2404 2012-02-24 11:54:20   \n",
       "1            shelby    49154141  49154141       post 2405 2012-02-24 11:54:33   \n",
       "2      ford mustang    49154141  49154141       post 2411 2012-02-25 22:27:35   \n",
       "3        murcielago    49154141  49154141       post 2400 2012-02-24 11:53:51   \n",
       "4  суровый водитель    49154141  49154141       post 2392 2012-02-23 16:22:56   \n",
       "\n",
       "      name   surname      city                region  \n",
       "0  Дмитрий  Филиппов  Владимир  Владимирская область  \n",
       "1  Дмитрий  Филиппов  Владимир  Владимирская область  \n",
       "2  Дмитрий  Филиппов  Владимир  Владимирская область  \n",
       "3  Дмитрий  Филиппов  Владимир  Владимирская область  \n",
       "4  Дмитрий  Филиппов  Владимир  Владимирская область  "
      ]
     },
     "execution_count": 10,
     "metadata": {},
     "output_type": "execute_result"
    }
   ],
   "source": [
    "data[\"wall_id\"] = data[\"wall_id\"].apply(lambda text: int(text.split()[-1]))\n",
    "data.head()"
   ]
  },
  {
   "cell_type": "code",
   "execution_count": 17,
   "metadata": {
    "collapsed": false
   },
   "outputs": [],
   "source": [
    "original_texts = []\n",
    "with open(\"/Users/Hun/hse_thesis/selected_texts.csv\", \"rt\", newline=\"\") as f:\n",
    "    for line in f.readlines():\n",
    "        text = line.split(\";\")[0]\n",
    "        original_texts.append(text)"
   ]
  },
  {
   "cell_type": "code",
   "execution_count": 18,
   "metadata": {
    "collapsed": false
   },
   "outputs": [
    {
     "data": {
      "text/plain": [
       "5392586"
      ]
     },
     "execution_count": 18,
     "metadata": {},
     "output_type": "execute_result"
    }
   ],
   "source": [
    "len(original_texts)"
   ]
  },
  {
   "cell_type": "code",
   "execution_count": 19,
   "metadata": {
    "collapsed": false
   },
   "outputs": [
    {
     "data": {
      "text/plain": [
       "'\"General Lee\"'"
      ]
     },
     "execution_count": 19,
     "metadata": {},
     "output_type": "execute_result"
    }
   ],
   "source": [
    "original_texts[0]"
   ]
  },
  {
   "cell_type": "code",
   "execution_count": 20,
   "metadata": {
    "collapsed": true
   },
   "outputs": [],
   "source": [
    "data[\"original_texts\"] = original_texts"
   ]
  },
  {
   "cell_type": "code",
   "execution_count": 9,
   "metadata": {
    "collapsed": false
   },
   "outputs": [
    {
     "data": {
      "text/html": [
       "<div>\n",
       "<table border=\"1\" class=\"dataframe\">\n",
       "  <thead>\n",
       "    <tr style=\"text-align: right;\">\n",
       "      <th></th>\n",
       "      <th>author_id</th>\n",
       "      <th>city</th>\n",
       "      <th>date</th>\n",
       "      <th>name</th>\n",
       "      <th>original_texts</th>\n",
       "      <th>post_comment_id</th>\n",
       "      <th>region</th>\n",
       "      <th>surname</th>\n",
       "      <th>text</th>\n",
       "      <th>wall_id</th>\n",
       "    </tr>\n",
       "  </thead>\n",
       "  <tbody>\n",
       "    <tr>\n",
       "      <th>0</th>\n",
       "      <td>49154141</td>\n",
       "      <td>Владимир</td>\n",
       "      <td>2012-02-24 11:54:20</td>\n",
       "      <td>Дмитрий</td>\n",
       "      <td>\"General Lee\"</td>\n",
       "      <td>post 2404</td>\n",
       "      <td>Владимирская область</td>\n",
       "      <td>Филиппов</td>\n",
       "      <td>general lee</td>\n",
       "      <td>49154141</td>\n",
       "    </tr>\n",
       "    <tr>\n",
       "      <th>1</th>\n",
       "      <td>49154141</td>\n",
       "      <td>Владимир</td>\n",
       "      <td>2012-02-24 11:54:33</td>\n",
       "      <td>Дмитрий</td>\n",
       "      <td>\"Shelby GT500\"</td>\n",
       "      <td>post 2405</td>\n",
       "      <td>Владимирская область</td>\n",
       "      <td>Филиппов</td>\n",
       "      <td>shelby</td>\n",
       "      <td>49154141</td>\n",
       "    </tr>\n",
       "    <tr>\n",
       "      <th>2</th>\n",
       "      <td>49154141</td>\n",
       "      <td>Владимир</td>\n",
       "      <td>2012-02-25 22:27:35</td>\n",
       "      <td>Дмитрий</td>\n",
       "      <td>\"1969 Ford Mustang\"</td>\n",
       "      <td>post 2411</td>\n",
       "      <td>Владимирская область</td>\n",
       "      <td>Филиппов</td>\n",
       "      <td>ford mustang</td>\n",
       "      <td>49154141</td>\n",
       "    </tr>\n",
       "    <tr>\n",
       "      <th>3</th>\n",
       "      <td>49154141</td>\n",
       "      <td>Владимир</td>\n",
       "      <td>2012-02-24 11:53:51</td>\n",
       "      <td>Дмитрий</td>\n",
       "      <td>\"Murcielago\"</td>\n",
       "      <td>post 2400</td>\n",
       "      <td>Владимирская область</td>\n",
       "      <td>Филиппов</td>\n",
       "      <td>murcielago</td>\n",
       "      <td>49154141</td>\n",
       "    </tr>\n",
       "    <tr>\n",
       "      <th>4</th>\n",
       "      <td>49154141</td>\n",
       "      <td>Владимир</td>\n",
       "      <td>2012-02-23 16:22:56</td>\n",
       "      <td>Дмитрий</td>\n",
       "      <td>\"Суровый водитель\"</td>\n",
       "      <td>post 2392</td>\n",
       "      <td>Владимирская область</td>\n",
       "      <td>Филиппов</td>\n",
       "      <td>суровый водитель</td>\n",
       "      <td>49154141</td>\n",
       "    </tr>\n",
       "  </tbody>\n",
       "</table>\n",
       "</div>"
      ],
      "text/plain": [
       "   author_id      city                date     name       original_texts  \\\n",
       "0   49154141  Владимир 2012-02-24 11:54:20  Дмитрий        \"General Lee\"   \n",
       "1   49154141  Владимир 2012-02-24 11:54:33  Дмитрий       \"Shelby GT500\"   \n",
       "2   49154141  Владимир 2012-02-25 22:27:35  Дмитрий  \"1969 Ford Mustang\"   \n",
       "3   49154141  Владимир 2012-02-24 11:53:51  Дмитрий         \"Murcielago\"   \n",
       "4   49154141  Владимир 2012-02-23 16:22:56  Дмитрий   \"Суровый водитель\"   \n",
       "\n",
       "  post_comment_id                region   surname               text   wall_id  \n",
       "0       post 2404  Владимирская область  Филиппов       general lee   49154141  \n",
       "1       post 2405  Владимирская область  Филиппов            shelby   49154141  \n",
       "2       post 2411  Владимирская область  Филиппов      ford mustang   49154141  \n",
       "3       post 2400  Владимирская область  Филиппов        murcielago   49154141  \n",
       "4       post 2392  Владимирская область  Филиппов  суровый водитель   49154141  "
      ]
     },
     "execution_count": 9,
     "metadata": {},
     "output_type": "execute_result"
    }
   ],
   "source": [
    "data.head()"
   ]
  },
  {
   "cell_type": "code",
   "execution_count": 20,
   "metadata": {
    "collapsed": false
   },
   "outputs": [
    {
     "data": {
      "text/plain": [
       "(5392586, 11)"
      ]
     },
     "execution_count": 20,
     "metadata": {},
     "output_type": "execute_result"
    }
   ],
   "source": [
    "data.shape"
   ]
  },
  {
   "cell_type": "code",
   "execution_count": 38,
   "metadata": {
    "collapsed": false
   },
   "outputs": [],
   "source": [
    "cols = data.columns.tolist()"
   ]
  },
  {
   "cell_type": "code",
   "execution_count": 39,
   "metadata": {
    "collapsed": false
   },
   "outputs": [
    {
     "data": {
      "text/plain": [
       "['original_texts',\n",
       " 'text',\n",
       " 'author_id',\n",
       " 'wall_id',\n",
       " 'post_comment_id',\n",
       " 'date',\n",
       " 'name',\n",
       " 'surname',\n",
       " 'city',\n",
       " 'region']"
      ]
     },
     "execution_count": 39,
     "metadata": {},
     "output_type": "execute_result"
    }
   ],
   "source": [
    "cols = cols[-1:] + cols[:-1]\n",
    "cols"
   ]
  },
  {
   "cell_type": "code",
   "execution_count": 40,
   "metadata": {
    "collapsed": true
   },
   "outputs": [],
   "source": [
    "data = data[cols]"
   ]
  },
  {
   "cell_type": "code",
   "execution_count": 11,
   "metadata": {
    "collapsed": false
   },
   "outputs": [
    {
     "data": {
      "text/html": [
       "<div>\n",
       "<table border=\"1\" class=\"dataframe\">\n",
       "  <thead>\n",
       "    <tr style=\"text-align: right;\">\n",
       "      <th></th>\n",
       "      <th>author_id</th>\n",
       "      <th>city</th>\n",
       "      <th>date</th>\n",
       "      <th>name</th>\n",
       "      <th>original_texts</th>\n",
       "      <th>post_comment_id</th>\n",
       "      <th>region</th>\n",
       "      <th>surname</th>\n",
       "      <th>text</th>\n",
       "      <th>wall_id</th>\n",
       "    </tr>\n",
       "  </thead>\n",
       "  <tbody>\n",
       "    <tr>\n",
       "      <th>0</th>\n",
       "      <td>49154141</td>\n",
       "      <td>Владимир</td>\n",
       "      <td>2012-02-24 11:54:20</td>\n",
       "      <td>Дмитрий</td>\n",
       "      <td>\"General Lee\"</td>\n",
       "      <td>post 2404</td>\n",
       "      <td>Владимирская область</td>\n",
       "      <td>Филиппов</td>\n",
       "      <td>general lee</td>\n",
       "      <td>49154141</td>\n",
       "    </tr>\n",
       "    <tr>\n",
       "      <th>1</th>\n",
       "      <td>49154141</td>\n",
       "      <td>Владимир</td>\n",
       "      <td>2012-02-24 11:54:33</td>\n",
       "      <td>Дмитрий</td>\n",
       "      <td>\"Shelby GT500\"</td>\n",
       "      <td>post 2405</td>\n",
       "      <td>Владимирская область</td>\n",
       "      <td>Филиппов</td>\n",
       "      <td>shelby</td>\n",
       "      <td>49154141</td>\n",
       "    </tr>\n",
       "    <tr>\n",
       "      <th>2</th>\n",
       "      <td>49154141</td>\n",
       "      <td>Владимир</td>\n",
       "      <td>2012-02-25 22:27:35</td>\n",
       "      <td>Дмитрий</td>\n",
       "      <td>\"1969 Ford Mustang\"</td>\n",
       "      <td>post 2411</td>\n",
       "      <td>Владимирская область</td>\n",
       "      <td>Филиппов</td>\n",
       "      <td>ford mustang</td>\n",
       "      <td>49154141</td>\n",
       "    </tr>\n",
       "    <tr>\n",
       "      <th>3</th>\n",
       "      <td>49154141</td>\n",
       "      <td>Владимир</td>\n",
       "      <td>2012-02-24 11:53:51</td>\n",
       "      <td>Дмитрий</td>\n",
       "      <td>\"Murcielago\"</td>\n",
       "      <td>post 2400</td>\n",
       "      <td>Владимирская область</td>\n",
       "      <td>Филиппов</td>\n",
       "      <td>murcielago</td>\n",
       "      <td>49154141</td>\n",
       "    </tr>\n",
       "    <tr>\n",
       "      <th>4</th>\n",
       "      <td>49154141</td>\n",
       "      <td>Владимир</td>\n",
       "      <td>2012-02-23 16:22:56</td>\n",
       "      <td>Дмитрий</td>\n",
       "      <td>\"Суровый водитель\"</td>\n",
       "      <td>post 2392</td>\n",
       "      <td>Владимирская область</td>\n",
       "      <td>Филиппов</td>\n",
       "      <td>суровый водитель</td>\n",
       "      <td>49154141</td>\n",
       "    </tr>\n",
       "  </tbody>\n",
       "</table>\n",
       "</div>"
      ],
      "text/plain": [
       "   author_id      city                date     name       original_texts  \\\n",
       "0   49154141  Владимир 2012-02-24 11:54:20  Дмитрий        \"General Lee\"   \n",
       "1   49154141  Владимир 2012-02-24 11:54:33  Дмитрий       \"Shelby GT500\"   \n",
       "2   49154141  Владимир 2012-02-25 22:27:35  Дмитрий  \"1969 Ford Mustang\"   \n",
       "3   49154141  Владимир 2012-02-24 11:53:51  Дмитрий         \"Murcielago\"   \n",
       "4   49154141  Владимир 2012-02-23 16:22:56  Дмитрий   \"Суровый водитель\"   \n",
       "\n",
       "  post_comment_id                region   surname               text   wall_id  \n",
       "0       post 2404  Владимирская область  Филиппов       general lee   49154141  \n",
       "1       post 2405  Владимирская область  Филиппов            shelby   49154141  \n",
       "2       post 2411  Владимирская область  Филиппов      ford mustang   49154141  \n",
       "3       post 2400  Владимирская область  Филиппов        murcielago   49154141  \n",
       "4       post 2392  Владимирская область  Филиппов  суровый водитель   49154141  "
      ]
     },
     "execution_count": 11,
     "metadata": {},
     "output_type": "execute_result"
    }
   ],
   "source": [
    "data.head()"
   ]
  },
  {
   "cell_type": "code",
   "execution_count": 44,
   "metadata": {
    "collapsed": false
   },
   "outputs": [],
   "source": [
    "feather.write_dataframe(data, \"/Volumes/BigData/Science/hse_thesis/hse_thesis_with_original.feather\")"
   ]
  },
  {
   "cell_type": "code",
   "execution_count": 2,
   "metadata": {
    "collapsed": true
   },
   "outputs": [],
   "source": [
    "data = feather.read_dataframe(\"/Volumes/BigData/Science/hse_thesis/hse_thesis_with_original.feather\")"
   ]
  },
  {
   "cell_type": "code",
   "execution_count": 27,
   "metadata": {
    "collapsed": false
   },
   "outputs": [
    {
     "name": "stderr",
     "output_type": "stream",
     "text": [
      "/Users/Hun/Python_env/Python3_env/lib/python3.5/site-packages/IPython/core/interactiveshell.py:2723: DtypeWarning: Columns (7,20,21,22) have mixed types. Specify dtype option on import or set low_memory=False.\n",
      "  interactivity=interactivity, compiler=compiler, result=result)\n"
     ]
    }
   ],
   "source": [
    "add_data = pd.read_csv(\"/Volumes/BigData/Science/hse_thesis/metas.csv\", encoding=\"CP1251\")"
   ]
  },
  {
   "cell_type": "code",
   "execution_count": 28,
   "metadata": {
    "collapsed": false
   },
   "outputs": [],
   "source": [
    "add_data.drop(\"Unnamed: 0\", axis=1, inplace=True)"
   ]
  },
  {
   "cell_type": "code",
   "execution_count": 29,
   "metadata": {
    "collapsed": false
   },
   "outputs": [
    {
     "data": {
      "text/html": [
       "<div>\n",
       "<table border=\"1\" class=\"dataframe\">\n",
       "  <thead>\n",
       "    <tr style=\"text-align: right;\">\n",
       "      <th></th>\n",
       "      <th>author_id</th>\n",
       "      <th>wall_id</th>\n",
       "      <th>post_comment_id</th>\n",
       "      <th>date</th>\n",
       "      <th>name</th>\n",
       "      <th>surname</th>\n",
       "      <th>sex</th>\n",
       "      <th>city</th>\n",
       "      <th>region</th>\n",
       "      <th>country</th>\n",
       "      <th>...</th>\n",
       "      <th>likes</th>\n",
       "      <th>reposts</th>\n",
       "      <th>res_postlikes</th>\n",
       "      <th>res_comments</th>\n",
       "      <th>friends</th>\n",
       "      <th>groups</th>\n",
       "      <th>followers</th>\n",
       "      <th>post_likes</th>\n",
       "      <th>post_repost</th>\n",
       "      <th>x</th>\n",
       "    </tr>\n",
       "  </thead>\n",
       "  <tbody>\n",
       "    <tr>\n",
       "      <th>0</th>\n",
       "      <td>28098487</td>\n",
       "      <td>Wall 28098487</td>\n",
       "      <td>post 249</td>\n",
       "      <td>20.01.2015 3:10:53</td>\n",
       "      <td>Валера</td>\n",
       "      <td>Гончаров</td>\n",
       "      <td>2</td>\n",
       "      <td>Майкоп</td>\n",
       "      <td>Адыгея</td>\n",
       "      <td>Россия</td>\n",
       "      <td>...</td>\n",
       "      <td>2.0</td>\n",
       "      <td>0.0</td>\n",
       "      <td>18.0</td>\n",
       "      <td>0.0</td>\n",
       "      <td>59.0</td>\n",
       "      <td>55.0</td>\n",
       "      <td>8.0</td>\n",
       "      <td>2</td>\n",
       "      <td>0</td>\n",
       "      <td>0</td>\n",
       "    </tr>\n",
       "    <tr>\n",
       "      <th>1</th>\n",
       "      <td>28098487</td>\n",
       "      <td>Wall 28098487</td>\n",
       "      <td>post 246</td>\n",
       "      <td>09.07.2014 16:21:49</td>\n",
       "      <td>Валера</td>\n",
       "      <td>Гончаров</td>\n",
       "      <td>2</td>\n",
       "      <td>Майкоп</td>\n",
       "      <td>Адыгея</td>\n",
       "      <td>Россия</td>\n",
       "      <td>...</td>\n",
       "      <td>2.0</td>\n",
       "      <td>0.0</td>\n",
       "      <td>18.0</td>\n",
       "      <td>0.0</td>\n",
       "      <td>59.0</td>\n",
       "      <td>55.0</td>\n",
       "      <td>8.0</td>\n",
       "      <td>1</td>\n",
       "      <td>0</td>\n",
       "      <td>0</td>\n",
       "    </tr>\n",
       "    <tr>\n",
       "      <th>2</th>\n",
       "      <td>28098487</td>\n",
       "      <td>Wall 28098487</td>\n",
       "      <td>post 245</td>\n",
       "      <td>09.07.2014 16:09:04</td>\n",
       "      <td>Валера</td>\n",
       "      <td>Гончаров</td>\n",
       "      <td>2</td>\n",
       "      <td>Майкоп</td>\n",
       "      <td>Адыгея</td>\n",
       "      <td>Россия</td>\n",
       "      <td>...</td>\n",
       "      <td>2.0</td>\n",
       "      <td>0.0</td>\n",
       "      <td>18.0</td>\n",
       "      <td>0.0</td>\n",
       "      <td>59.0</td>\n",
       "      <td>55.0</td>\n",
       "      <td>8.0</td>\n",
       "      <td>0</td>\n",
       "      <td>0</td>\n",
       "      <td>0</td>\n",
       "    </tr>\n",
       "    <tr>\n",
       "      <th>3</th>\n",
       "      <td>28098487</td>\n",
       "      <td>Wall 28098487</td>\n",
       "      <td>post 244</td>\n",
       "      <td>09.07.2014 16:00:54</td>\n",
       "      <td>Валера</td>\n",
       "      <td>Гончаров</td>\n",
       "      <td>2</td>\n",
       "      <td>Майкоп</td>\n",
       "      <td>Адыгея</td>\n",
       "      <td>Россия</td>\n",
       "      <td>...</td>\n",
       "      <td>2.0</td>\n",
       "      <td>0.0</td>\n",
       "      <td>18.0</td>\n",
       "      <td>0.0</td>\n",
       "      <td>59.0</td>\n",
       "      <td>55.0</td>\n",
       "      <td>8.0</td>\n",
       "      <td>0</td>\n",
       "      <td>0</td>\n",
       "      <td>0</td>\n",
       "    </tr>\n",
       "    <tr>\n",
       "      <th>4</th>\n",
       "      <td>28098487</td>\n",
       "      <td>Wall 28098487</td>\n",
       "      <td>post 243</td>\n",
       "      <td>09.07.2014 15:55:18</td>\n",
       "      <td>Валера</td>\n",
       "      <td>Гончаров</td>\n",
       "      <td>2</td>\n",
       "      <td>Майкоп</td>\n",
       "      <td>Адыгея</td>\n",
       "      <td>Россия</td>\n",
       "      <td>...</td>\n",
       "      <td>2.0</td>\n",
       "      <td>0.0</td>\n",
       "      <td>18.0</td>\n",
       "      <td>0.0</td>\n",
       "      <td>59.0</td>\n",
       "      <td>55.0</td>\n",
       "      <td>8.0</td>\n",
       "      <td>0</td>\n",
       "      <td>0</td>\n",
       "      <td>0</td>\n",
       "    </tr>\n",
       "  </tbody>\n",
       "</table>\n",
       "<p>5 rows × 22 columns</p>\n",
       "</div>"
      ],
      "text/plain": [
       "   author_id        wall_id post_comment_id                 date    name  \\\n",
       "0   28098487  Wall 28098487        post 249   20.01.2015 3:10:53  Валера   \n",
       "1   28098487  Wall 28098487        post 246  09.07.2014 16:21:49  Валера   \n",
       "2   28098487  Wall 28098487        post 245  09.07.2014 16:09:04  Валера   \n",
       "3   28098487  Wall 28098487        post 244  09.07.2014 16:00:54  Валера   \n",
       "4   28098487  Wall 28098487        post 243  09.07.2014 15:55:18  Валера   \n",
       "\n",
       "     surname sex     city    region  country ...  likes  reposts  \\\n",
       "0   Гончаров   2   Майкоп   Адыгея    Россия ...    2.0      0.0   \n",
       "1   Гончаров   2   Майкоп   Адыгея    Россия ...    2.0      0.0   \n",
       "2   Гончаров   2   Майкоп   Адыгея    Россия ...    2.0      0.0   \n",
       "3   Гончаров   2   Майкоп   Адыгея    Россия ...    2.0      0.0   \n",
       "4   Гончаров   2   Майкоп   Адыгея    Россия ...    2.0      0.0   \n",
       "\n",
       "   res_postlikes  res_comments  friends  groups  followers  post_likes  \\\n",
       "0           18.0           0.0     59.0    55.0        8.0           2   \n",
       "1           18.0           0.0     59.0    55.0        8.0           1   \n",
       "2           18.0           0.0     59.0    55.0        8.0           0   \n",
       "3           18.0           0.0     59.0    55.0        8.0           0   \n",
       "4           18.0           0.0     59.0    55.0        8.0           0   \n",
       "\n",
       "   post_repost  x  \n",
       "0            0  0  \n",
       "1            0  0  \n",
       "2            0  0  \n",
       "3            0  0  \n",
       "4            0  0  \n",
       "\n",
       "[5 rows x 22 columns]"
      ]
     },
     "execution_count": 29,
     "metadata": {},
     "output_type": "execute_result"
    }
   ],
   "source": [
    "add_data.head()"
   ]
  },
  {
   "cell_type": "code",
   "execution_count": 30,
   "metadata": {
    "collapsed": true
   },
   "outputs": [],
   "source": [
    "add_data[\"wall_id\"] = add_data[\"wall_id\"].apply(lambda text: int(text.split()[-1]))\n",
    "\n",
    "add_data[\"post_comment_id_int\"] = add_data[\"post_comment_id\"].apply(lambda text: int(text.split()[-1]))\n",
    "add_data[\"is_post\"] = add_data[\"post_comment_id\"].apply(lambda text: text.split()[0] == \"post\")\n",
    "add_data.drop(\"post_comment_id\", axis=1, inplace=True)"
   ]
  },
  {
   "cell_type": "code",
   "execution_count": 6,
   "metadata": {
    "collapsed": false
   },
   "outputs": [
    {
     "name": "stderr",
     "output_type": "stream",
     "text": [
      "/Users/Hun/Python_env/Python3_env/lib/python3.5/site-packages/IPython/core/interactiveshell.py:2723: DtypeWarning: Columns (7) have mixed types. Specify dtype option on import or set low_memory=False.\n",
      "  interactivity=interactivity, compiler=compiler, result=result)\n"
     ]
    }
   ],
   "source": [
    "add_data = pd.read_csv(\"/Users/Hun/1-3-test/metadata.csv\", encoding=\"CP1251\", header=None)\n",
    "add_data.drop(0, axis=1, inplace=True)\n",
    "col_names=[\"author_id\", \"wall_id\", \"post_comment_id\", \"date\", \"name\", \"surname\", \"sex\", \"city\", \"region\",\n",
    "      \"country\", \"posts\", \"comments\", \"likes\", \"reposts\", \"res_postlikes\", \"res_comments\", \"university\",\n",
    "       \"freinds\", \"groups\", \"followers\", \"post_likes\", \"post_repost\"]\n",
    "add_data.columns = col_names\n",
    "add_data[\"wall_id\"] = add_data[\"wall_id\"].apply(lambda text: int(text.split()[-1]))\n",
    "\n",
    "add_data[\"post_comment_id_int\"] = add_data[\"post_comment_id\"].apply(lambda text: int(text.split()[-1]))\n",
    "add_data[\"is_post\"] = add_data[\"post_comment_id\"].apply(lambda text: text.split()[0] == \"post\")\n",
    "add_data.drop(\"post_comment_id\", axis=1, inplace=True)"
   ]
  },
  {
   "cell_type": "code",
   "execution_count": 7,
   "metadata": {
    "collapsed": false
   },
   "outputs": [
    {
     "data": {
      "text/plain": [
       "22"
      ]
     },
     "execution_count": 7,
     "metadata": {},
     "output_type": "execute_result"
    }
   ],
   "source": [
    "len(col_names)"
   ]
  },
  {
   "cell_type": "code",
   "execution_count": 8,
   "metadata": {
    "collapsed": false
   },
   "outputs": [
    {
     "data": {
      "text/plain": [
       "Index(['author_id', 'wall_id', 'date', 'name', 'surname', 'sex', 'city',\n",
       "       'region', 'country', 'posts', 'comments', 'likes', 'reposts',\n",
       "       'res_postlikes', 'res_comments', 'university', 'freinds', 'groups',\n",
       "       'followers', 'post_likes', 'post_repost', 'post_comment_id_int',\n",
       "       'is_post'],\n",
       "      dtype='object')"
      ]
     },
     "execution_count": 8,
     "metadata": {},
     "output_type": "execute_result"
    }
   ],
   "source": [
    "add_data.columns"
   ]
  },
  {
   "cell_type": "code",
   "execution_count": 31,
   "metadata": {
    "collapsed": false
   },
   "outputs": [
    {
     "data": {
      "text/html": [
       "<div>\n",
       "<table border=\"1\" class=\"dataframe\">\n",
       "  <thead>\n",
       "    <tr style=\"text-align: right;\">\n",
       "      <th></th>\n",
       "      <th>author_id</th>\n",
       "      <th>wall_id</th>\n",
       "      <th>date</th>\n",
       "      <th>name</th>\n",
       "      <th>surname</th>\n",
       "      <th>sex</th>\n",
       "      <th>city</th>\n",
       "      <th>region</th>\n",
       "      <th>country</th>\n",
       "      <th>posts</th>\n",
       "      <th>...</th>\n",
       "      <th>res_postlikes</th>\n",
       "      <th>res_comments</th>\n",
       "      <th>friends</th>\n",
       "      <th>groups</th>\n",
       "      <th>followers</th>\n",
       "      <th>post_likes</th>\n",
       "      <th>post_repost</th>\n",
       "      <th>x</th>\n",
       "      <th>post_comment_id_int</th>\n",
       "      <th>is_post</th>\n",
       "    </tr>\n",
       "  </thead>\n",
       "  <tbody>\n",
       "    <tr>\n",
       "      <th>0</th>\n",
       "      <td>28098487</td>\n",
       "      <td>28098487</td>\n",
       "      <td>20.01.2015 3:10:53</td>\n",
       "      <td>Валера</td>\n",
       "      <td>Гончаров</td>\n",
       "      <td>2</td>\n",
       "      <td>Майкоп</td>\n",
       "      <td>Адыгея</td>\n",
       "      <td>Россия</td>\n",
       "      <td>12.0</td>\n",
       "      <td>...</td>\n",
       "      <td>18.0</td>\n",
       "      <td>0.0</td>\n",
       "      <td>59.0</td>\n",
       "      <td>55.0</td>\n",
       "      <td>8.0</td>\n",
       "      <td>2</td>\n",
       "      <td>0</td>\n",
       "      <td>0</td>\n",
       "      <td>249</td>\n",
       "      <td>True</td>\n",
       "    </tr>\n",
       "    <tr>\n",
       "      <th>1</th>\n",
       "      <td>28098487</td>\n",
       "      <td>28098487</td>\n",
       "      <td>09.07.2014 16:21:49</td>\n",
       "      <td>Валера</td>\n",
       "      <td>Гончаров</td>\n",
       "      <td>2</td>\n",
       "      <td>Майкоп</td>\n",
       "      <td>Адыгея</td>\n",
       "      <td>Россия</td>\n",
       "      <td>12.0</td>\n",
       "      <td>...</td>\n",
       "      <td>18.0</td>\n",
       "      <td>0.0</td>\n",
       "      <td>59.0</td>\n",
       "      <td>55.0</td>\n",
       "      <td>8.0</td>\n",
       "      <td>1</td>\n",
       "      <td>0</td>\n",
       "      <td>0</td>\n",
       "      <td>246</td>\n",
       "      <td>True</td>\n",
       "    </tr>\n",
       "    <tr>\n",
       "      <th>2</th>\n",
       "      <td>28098487</td>\n",
       "      <td>28098487</td>\n",
       "      <td>09.07.2014 16:09:04</td>\n",
       "      <td>Валера</td>\n",
       "      <td>Гончаров</td>\n",
       "      <td>2</td>\n",
       "      <td>Майкоп</td>\n",
       "      <td>Адыгея</td>\n",
       "      <td>Россия</td>\n",
       "      <td>12.0</td>\n",
       "      <td>...</td>\n",
       "      <td>18.0</td>\n",
       "      <td>0.0</td>\n",
       "      <td>59.0</td>\n",
       "      <td>55.0</td>\n",
       "      <td>8.0</td>\n",
       "      <td>0</td>\n",
       "      <td>0</td>\n",
       "      <td>0</td>\n",
       "      <td>245</td>\n",
       "      <td>True</td>\n",
       "    </tr>\n",
       "    <tr>\n",
       "      <th>3</th>\n",
       "      <td>28098487</td>\n",
       "      <td>28098487</td>\n",
       "      <td>09.07.2014 16:00:54</td>\n",
       "      <td>Валера</td>\n",
       "      <td>Гончаров</td>\n",
       "      <td>2</td>\n",
       "      <td>Майкоп</td>\n",
       "      <td>Адыгея</td>\n",
       "      <td>Россия</td>\n",
       "      <td>12.0</td>\n",
       "      <td>...</td>\n",
       "      <td>18.0</td>\n",
       "      <td>0.0</td>\n",
       "      <td>59.0</td>\n",
       "      <td>55.0</td>\n",
       "      <td>8.0</td>\n",
       "      <td>0</td>\n",
       "      <td>0</td>\n",
       "      <td>0</td>\n",
       "      <td>244</td>\n",
       "      <td>True</td>\n",
       "    </tr>\n",
       "    <tr>\n",
       "      <th>4</th>\n",
       "      <td>28098487</td>\n",
       "      <td>28098487</td>\n",
       "      <td>09.07.2014 15:55:18</td>\n",
       "      <td>Валера</td>\n",
       "      <td>Гончаров</td>\n",
       "      <td>2</td>\n",
       "      <td>Майкоп</td>\n",
       "      <td>Адыгея</td>\n",
       "      <td>Россия</td>\n",
       "      <td>12.0</td>\n",
       "      <td>...</td>\n",
       "      <td>18.0</td>\n",
       "      <td>0.0</td>\n",
       "      <td>59.0</td>\n",
       "      <td>55.0</td>\n",
       "      <td>8.0</td>\n",
       "      <td>0</td>\n",
       "      <td>0</td>\n",
       "      <td>0</td>\n",
       "      <td>243</td>\n",
       "      <td>True</td>\n",
       "    </tr>\n",
       "  </tbody>\n",
       "</table>\n",
       "<p>5 rows × 23 columns</p>\n",
       "</div>"
      ],
      "text/plain": [
       "   author_id   wall_id                 date    name    surname sex     city  \\\n",
       "0   28098487  28098487   20.01.2015 3:10:53  Валера   Гончаров   2   Майкоп   \n",
       "1   28098487  28098487  09.07.2014 16:21:49  Валера   Гончаров   2   Майкоп   \n",
       "2   28098487  28098487  09.07.2014 16:09:04  Валера   Гончаров   2   Майкоп   \n",
       "3   28098487  28098487  09.07.2014 16:00:54  Валера   Гончаров   2   Майкоп   \n",
       "4   28098487  28098487  09.07.2014 15:55:18  Валера   Гончаров   2   Майкоп   \n",
       "\n",
       "     region  country  posts   ...    res_postlikes  res_comments  friends  \\\n",
       "0   Адыгея    Россия   12.0   ...             18.0           0.0     59.0   \n",
       "1   Адыгея    Россия   12.0   ...             18.0           0.0     59.0   \n",
       "2   Адыгея    Россия   12.0   ...             18.0           0.0     59.0   \n",
       "3   Адыгея    Россия   12.0   ...             18.0           0.0     59.0   \n",
       "4   Адыгея    Россия   12.0   ...             18.0           0.0     59.0   \n",
       "\n",
       "   groups  followers  post_likes  post_repost  x post_comment_id_int is_post  \n",
       "0    55.0        8.0           2            0  0                 249    True  \n",
       "1    55.0        8.0           1            0  0                 246    True  \n",
       "2    55.0        8.0           0            0  0                 245    True  \n",
       "3    55.0        8.0           0            0  0                 244    True  \n",
       "4    55.0        8.0           0            0  0                 243    True  \n",
       "\n",
       "[5 rows x 23 columns]"
      ]
     },
     "execution_count": 31,
     "metadata": {},
     "output_type": "execute_result"
    }
   ],
   "source": [
    "add_data.head()"
   ]
  },
  {
   "cell_type": "code",
   "execution_count": 10,
   "metadata": {
    "collapsed": true
   },
   "outputs": [],
   "source": [
    "data[\"post_comment_id_int\"] = data[\"post_comment_id\"].apply(lambda text: int(text.split()[-1]))\n",
    "data[\"is_post\"] = data[\"post_comment_id\"].apply(lambda text: text.split()[0] == \"post\")"
   ]
  },
  {
   "cell_type": "code",
   "execution_count": 11,
   "metadata": {
    "collapsed": true
   },
   "outputs": [],
   "source": [
    "data.drop(\"post_comment_id\", axis=1, inplace=True)"
   ]
  },
  {
   "cell_type": "code",
   "execution_count": 12,
   "metadata": {
    "collapsed": false,
    "scrolled": true
   },
   "outputs": [
    {
     "data": {
      "text/html": [
       "<div>\n",
       "<table border=\"1\" class=\"dataframe\">\n",
       "  <thead>\n",
       "    <tr style=\"text-align: right;\">\n",
       "      <th></th>\n",
       "      <th>author_id</th>\n",
       "      <th>city</th>\n",
       "      <th>date</th>\n",
       "      <th>name</th>\n",
       "      <th>original_texts</th>\n",
       "      <th>region</th>\n",
       "      <th>surname</th>\n",
       "      <th>text</th>\n",
       "      <th>wall_id</th>\n",
       "      <th>post_comment_id_int</th>\n",
       "      <th>is_post</th>\n",
       "    </tr>\n",
       "  </thead>\n",
       "  <tbody>\n",
       "    <tr>\n",
       "      <th>0</th>\n",
       "      <td>49154141</td>\n",
       "      <td>Владимир</td>\n",
       "      <td>2012-02-24 11:54:20</td>\n",
       "      <td>Дмитрий</td>\n",
       "      <td>\"General Lee\"</td>\n",
       "      <td>Владимирская область</td>\n",
       "      <td>Филиппов</td>\n",
       "      <td>general lee</td>\n",
       "      <td>49154141</td>\n",
       "      <td>2404</td>\n",
       "      <td>True</td>\n",
       "    </tr>\n",
       "    <tr>\n",
       "      <th>1</th>\n",
       "      <td>49154141</td>\n",
       "      <td>Владимир</td>\n",
       "      <td>2012-02-24 11:54:33</td>\n",
       "      <td>Дмитрий</td>\n",
       "      <td>\"Shelby GT500\"</td>\n",
       "      <td>Владимирская область</td>\n",
       "      <td>Филиппов</td>\n",
       "      <td>shelby</td>\n",
       "      <td>49154141</td>\n",
       "      <td>2405</td>\n",
       "      <td>True</td>\n",
       "    </tr>\n",
       "    <tr>\n",
       "      <th>2</th>\n",
       "      <td>49154141</td>\n",
       "      <td>Владимир</td>\n",
       "      <td>2012-02-25 22:27:35</td>\n",
       "      <td>Дмитрий</td>\n",
       "      <td>\"1969 Ford Mustang\"</td>\n",
       "      <td>Владимирская область</td>\n",
       "      <td>Филиппов</td>\n",
       "      <td>ford mustang</td>\n",
       "      <td>49154141</td>\n",
       "      <td>2411</td>\n",
       "      <td>True</td>\n",
       "    </tr>\n",
       "    <tr>\n",
       "      <th>3</th>\n",
       "      <td>49154141</td>\n",
       "      <td>Владимир</td>\n",
       "      <td>2012-02-24 11:53:51</td>\n",
       "      <td>Дмитрий</td>\n",
       "      <td>\"Murcielago\"</td>\n",
       "      <td>Владимирская область</td>\n",
       "      <td>Филиппов</td>\n",
       "      <td>murcielago</td>\n",
       "      <td>49154141</td>\n",
       "      <td>2400</td>\n",
       "      <td>True</td>\n",
       "    </tr>\n",
       "    <tr>\n",
       "      <th>4</th>\n",
       "      <td>49154141</td>\n",
       "      <td>Владимир</td>\n",
       "      <td>2012-02-23 16:22:56</td>\n",
       "      <td>Дмитрий</td>\n",
       "      <td>\"Суровый водитель\"</td>\n",
       "      <td>Владимирская область</td>\n",
       "      <td>Филиппов</td>\n",
       "      <td>суровый водитель</td>\n",
       "      <td>49154141</td>\n",
       "      <td>2392</td>\n",
       "      <td>True</td>\n",
       "    </tr>\n",
       "  </tbody>\n",
       "</table>\n",
       "</div>"
      ],
      "text/plain": [
       "   author_id      city                date     name       original_texts  \\\n",
       "0   49154141  Владимир 2012-02-24 11:54:20  Дмитрий        \"General Lee\"   \n",
       "1   49154141  Владимир 2012-02-24 11:54:33  Дмитрий       \"Shelby GT500\"   \n",
       "2   49154141  Владимир 2012-02-25 22:27:35  Дмитрий  \"1969 Ford Mustang\"   \n",
       "3   49154141  Владимир 2012-02-24 11:53:51  Дмитрий         \"Murcielago\"   \n",
       "4   49154141  Владимир 2012-02-23 16:22:56  Дмитрий   \"Суровый водитель\"   \n",
       "\n",
       "                 region   surname               text   wall_id  \\\n",
       "0  Владимирская область  Филиппов       general lee   49154141   \n",
       "1  Владимирская область  Филиппов            shelby   49154141   \n",
       "2  Владимирская область  Филиппов      ford mustang   49154141   \n",
       "3  Владимирская область  Филиппов        murcielago   49154141   \n",
       "4  Владимирская область  Филиппов  суровый водитель   49154141   \n",
       "\n",
       "   post_comment_id_int is_post  \n",
       "0                 2404    True  \n",
       "1                 2405    True  \n",
       "2                 2411    True  \n",
       "3                 2400    True  \n",
       "4                 2392    True  "
      ]
     },
     "execution_count": 12,
     "metadata": {},
     "output_type": "execute_result"
    }
   ],
   "source": [
    "data.head()"
   ]
  },
  {
   "cell_type": "code",
   "execution_count": 32,
   "metadata": {
    "collapsed": false
   },
   "outputs": [
    {
     "data": {
      "text/plain": [
       "(8175246, 23)"
      ]
     },
     "execution_count": 32,
     "metadata": {},
     "output_type": "execute_result"
    }
   ],
   "source": [
    "add_data.shape"
   ]
  },
  {
   "cell_type": "code",
   "execution_count": 33,
   "metadata": {
    "collapsed": false
   },
   "outputs": [],
   "source": [
    "add_data = add_data.drop_duplicates(subset=[\"wall_id\", \"post_comment_id_int\", \"author_id\", \"is_post\"])"
   ]
  },
  {
   "cell_type": "code",
   "execution_count": 34,
   "metadata": {
    "collapsed": false
   },
   "outputs": [
    {
     "data": {
      "text/plain": [
       "(8154503, 23)"
      ]
     },
     "execution_count": 34,
     "metadata": {},
     "output_type": "execute_result"
    }
   ],
   "source": [
    "add_data.shape"
   ]
  },
  {
   "cell_type": "code",
   "execution_count": 35,
   "metadata": {
    "collapsed": false
   },
   "outputs": [],
   "source": [
    "data_2 = pd.merge(data, add_data, on=[\"wall_id\", \"post_comment_id_int\", \"author_id\", \"is_post\"], how=\"left\")"
   ]
  },
  {
   "cell_type": "code",
   "execution_count": 36,
   "metadata": {
    "collapsed": false
   },
   "outputs": [
    {
     "data": {
      "text/html": [
       "<div>\n",
       "<table border=\"1\" class=\"dataframe\">\n",
       "  <thead>\n",
       "    <tr style=\"text-align: right;\">\n",
       "      <th></th>\n",
       "      <th>author_id</th>\n",
       "      <th>city_x</th>\n",
       "      <th>date_x</th>\n",
       "      <th>name_x</th>\n",
       "      <th>original_texts</th>\n",
       "      <th>region_x</th>\n",
       "      <th>surname_x</th>\n",
       "      <th>text</th>\n",
       "      <th>wall_id</th>\n",
       "      <th>post_comment_id_int</th>\n",
       "      <th>...</th>\n",
       "      <th>likes</th>\n",
       "      <th>reposts</th>\n",
       "      <th>res_postlikes</th>\n",
       "      <th>res_comments</th>\n",
       "      <th>friends</th>\n",
       "      <th>groups</th>\n",
       "      <th>followers</th>\n",
       "      <th>post_likes</th>\n",
       "      <th>post_repost</th>\n",
       "      <th>x</th>\n",
       "    </tr>\n",
       "  </thead>\n",
       "  <tbody>\n",
       "    <tr>\n",
       "      <th>0</th>\n",
       "      <td>49154141</td>\n",
       "      <td>Владимир</td>\n",
       "      <td>2012-02-24 11:54:20</td>\n",
       "      <td>Дмитрий</td>\n",
       "      <td>\"General Lee\"</td>\n",
       "      <td>Владимирская область</td>\n",
       "      <td>Филиппов</td>\n",
       "      <td>general lee</td>\n",
       "      <td>49154141</td>\n",
       "      <td>2404</td>\n",
       "      <td>...</td>\n",
       "      <td>1352.0</td>\n",
       "      <td>0.0</td>\n",
       "      <td>2670.0</td>\n",
       "      <td>0.0</td>\n",
       "      <td>198.0</td>\n",
       "      <td>106.0</td>\n",
       "      <td>113.0</td>\n",
       "      <td>2</td>\n",
       "      <td>0</td>\n",
       "      <td>0</td>\n",
       "    </tr>\n",
       "    <tr>\n",
       "      <th>1</th>\n",
       "      <td>49154141</td>\n",
       "      <td>Владимир</td>\n",
       "      <td>2012-02-24 11:54:33</td>\n",
       "      <td>Дмитрий</td>\n",
       "      <td>\"Shelby GT500\"</td>\n",
       "      <td>Владимирская область</td>\n",
       "      <td>Филиппов</td>\n",
       "      <td>shelby</td>\n",
       "      <td>49154141</td>\n",
       "      <td>2405</td>\n",
       "      <td>...</td>\n",
       "      <td>1352.0</td>\n",
       "      <td>0.0</td>\n",
       "      <td>2670.0</td>\n",
       "      <td>0.0</td>\n",
       "      <td>198.0</td>\n",
       "      <td>106.0</td>\n",
       "      <td>113.0</td>\n",
       "      <td>1</td>\n",
       "      <td>0</td>\n",
       "      <td>0</td>\n",
       "    </tr>\n",
       "    <tr>\n",
       "      <th>2</th>\n",
       "      <td>49154141</td>\n",
       "      <td>Владимир</td>\n",
       "      <td>2012-02-25 22:27:35</td>\n",
       "      <td>Дмитрий</td>\n",
       "      <td>\"1969 Ford Mustang\"</td>\n",
       "      <td>Владимирская область</td>\n",
       "      <td>Филиппов</td>\n",
       "      <td>ford mustang</td>\n",
       "      <td>49154141</td>\n",
       "      <td>2411</td>\n",
       "      <td>...</td>\n",
       "      <td>1352.0</td>\n",
       "      <td>0.0</td>\n",
       "      <td>2670.0</td>\n",
       "      <td>0.0</td>\n",
       "      <td>198.0</td>\n",
       "      <td>106.0</td>\n",
       "      <td>113.0</td>\n",
       "      <td>1</td>\n",
       "      <td>0</td>\n",
       "      <td>0</td>\n",
       "    </tr>\n",
       "    <tr>\n",
       "      <th>3</th>\n",
       "      <td>49154141</td>\n",
       "      <td>Владимир</td>\n",
       "      <td>2012-02-24 11:53:51</td>\n",
       "      <td>Дмитрий</td>\n",
       "      <td>\"Murcielago\"</td>\n",
       "      <td>Владимирская область</td>\n",
       "      <td>Филиппов</td>\n",
       "      <td>murcielago</td>\n",
       "      <td>49154141</td>\n",
       "      <td>2400</td>\n",
       "      <td>...</td>\n",
       "      <td>1352.0</td>\n",
       "      <td>0.0</td>\n",
       "      <td>2670.0</td>\n",
       "      <td>0.0</td>\n",
       "      <td>198.0</td>\n",
       "      <td>106.0</td>\n",
       "      <td>113.0</td>\n",
       "      <td>1</td>\n",
       "      <td>0</td>\n",
       "      <td>0</td>\n",
       "    </tr>\n",
       "    <tr>\n",
       "      <th>4</th>\n",
       "      <td>49154141</td>\n",
       "      <td>Владимир</td>\n",
       "      <td>2012-02-23 16:22:56</td>\n",
       "      <td>Дмитрий</td>\n",
       "      <td>\"Суровый водитель\"</td>\n",
       "      <td>Владимирская область</td>\n",
       "      <td>Филиппов</td>\n",
       "      <td>суровый водитель</td>\n",
       "      <td>49154141</td>\n",
       "      <td>2392</td>\n",
       "      <td>...</td>\n",
       "      <td>1352.0</td>\n",
       "      <td>0.0</td>\n",
       "      <td>2670.0</td>\n",
       "      <td>0.0</td>\n",
       "      <td>198.0</td>\n",
       "      <td>106.0</td>\n",
       "      <td>113.0</td>\n",
       "      <td>1</td>\n",
       "      <td>0</td>\n",
       "      <td>0</td>\n",
       "    </tr>\n",
       "  </tbody>\n",
       "</table>\n",
       "<p>5 rows × 30 columns</p>\n",
       "</div>"
      ],
      "text/plain": [
       "   author_id    city_x              date_x   name_x       original_texts  \\\n",
       "0   49154141  Владимир 2012-02-24 11:54:20  Дмитрий        \"General Lee\"   \n",
       "1   49154141  Владимир 2012-02-24 11:54:33  Дмитрий       \"Shelby GT500\"   \n",
       "2   49154141  Владимир 2012-02-25 22:27:35  Дмитрий  \"1969 Ford Mustang\"   \n",
       "3   49154141  Владимир 2012-02-24 11:53:51  Дмитрий         \"Murcielago\"   \n",
       "4   49154141  Владимир 2012-02-23 16:22:56  Дмитрий   \"Суровый водитель\"   \n",
       "\n",
       "               region_x surname_x               text   wall_id  \\\n",
       "0  Владимирская область  Филиппов       general lee   49154141   \n",
       "1  Владимирская область  Филиппов            shelby   49154141   \n",
       "2  Владимирская область  Филиппов      ford mustang   49154141   \n",
       "3  Владимирская область  Филиппов        murcielago   49154141   \n",
       "4  Владимирская область  Филиппов  суровый водитель   49154141   \n",
       "\n",
       "   post_comment_id_int ...   likes reposts res_postlikes res_comments friends  \\\n",
       "0                 2404 ...  1352.0     0.0        2670.0          0.0   198.0   \n",
       "1                 2405 ...  1352.0     0.0        2670.0          0.0   198.0   \n",
       "2                 2411 ...  1352.0     0.0        2670.0          0.0   198.0   \n",
       "3                 2400 ...  1352.0     0.0        2670.0          0.0   198.0   \n",
       "4                 2392 ...  1352.0     0.0        2670.0          0.0   198.0   \n",
       "\n",
       "  groups followers post_likes  post_repost  x  \n",
       "0  106.0     113.0          2            0  0  \n",
       "1  106.0     113.0          1            0  0  \n",
       "2  106.0     113.0          1            0  0  \n",
       "3  106.0     113.0          1            0  0  \n",
       "4  106.0     113.0          1            0  0  \n",
       "\n",
       "[5 rows x 30 columns]"
      ]
     },
     "execution_count": 36,
     "metadata": {},
     "output_type": "execute_result"
    }
   ],
   "source": [
    "data_2.head()"
   ]
  },
  {
   "cell_type": "code",
   "execution_count": 37,
   "metadata": {
    "collapsed": false
   },
   "outputs": [
    {
     "data": {
      "text/plain": [
       "((5392586, 11), (5392586, 30))"
      ]
     },
     "execution_count": 37,
     "metadata": {},
     "output_type": "execute_result"
    }
   ],
   "source": [
    "data.shape, data_2.shape"
   ]
  },
  {
   "cell_type": "code",
   "execution_count": 40,
   "metadata": {
    "collapsed": false
   },
   "outputs": [
    {
     "data": {
      "text/plain": [
       "Index(['author_id', 'city_x', 'date_x', 'name_x', 'original_texts', 'region_x',\n",
       "       'surname_x', 'text', 'wall_id', 'post_comment_id_int', 'is_post', 'sex',\n",
       "       'country', 'posts', 'comments', 'likes', 'reposts', 'res_postlikes',\n",
       "       'res_comments', 'friends', 'groups', 'followers', 'post_likes',\n",
       "       'post_repost', 'x'],\n",
       "      dtype='object')"
      ]
     },
     "execution_count": 40,
     "metadata": {},
     "output_type": "execute_result"
    }
   ],
   "source": [
    "data_2.columns"
   ]
  },
  {
   "cell_type": "code",
   "execution_count": 39,
   "metadata": {
    "collapsed": false
   },
   "outputs": [],
   "source": [
    "data_2.drop([\"city_y\", \"region_y\", \"date_y\", \"name_y\", \"surname_y\"], axis=1, inplace=True)"
   ]
  },
  {
   "cell_type": "code",
   "execution_count": 24,
   "metadata": {
    "collapsed": true
   },
   "outputs": [],
   "source": [
    "cols_order = ['original_texts', 'text', 'author_id', 'city_x', 'date_x', 'name_x', 'region_x',\n",
    "       'surname_x', 'wall_id', 'post_comment_id_int', 'is_post', 'sex',\n",
    "       'country', 'posts', 'comments', 'likes', 'reposts', 'res_postlikes',\n",
    "       'res_comments', 'university', 'freinds', 'groups', 'followers',\n",
    "       'post_likes', 'post_repost']"
   ]
  },
  {
   "cell_type": "code",
   "execution_count": 41,
   "metadata": {
    "collapsed": false
   },
   "outputs": [],
   "source": [
    "data_2 = data_2[['original_texts', 'text', 'author_id', 'wall_id', 'post_comment_id_int', \n",
    "                 'city_x', 'date_x', 'name_x', 'region_x','is_post', \n",
    "       'surname_x', 'sex',\n",
    "       'country', 'posts', 'comments', 'likes', 'reposts', 'res_postlikes',\n",
    "       'res_comments', 'friends', 'groups', 'followers', 'post_likes',\n",
    "       'post_repost', 'x']]"
   ]
  },
  {
   "cell_type": "code",
   "execution_count": 42,
   "metadata": {
    "collapsed": true
   },
   "outputs": [],
   "source": [
    "def q_strip(string):\n",
    "    if type(string) is str:\n",
    "        if string.startswith('\"') and string.endswith('\"'):\n",
    "            return string[1:-1]"
   ]
  },
  {
   "cell_type": "code",
   "execution_count": 43,
   "metadata": {
    "collapsed": false
   },
   "outputs": [],
   "source": [
    "data_2[\"original_texts\"] = data_2[\"original_texts\"].apply(lambda string: q_strip(string))"
   ]
  },
  {
   "cell_type": "code",
   "execution_count": 44,
   "metadata": {
    "collapsed": false
   },
   "outputs": [
    {
     "data": {
      "text/html": [
       "<div>\n",
       "<table border=\"1\" class=\"dataframe\">\n",
       "  <thead>\n",
       "    <tr style=\"text-align: right;\">\n",
       "      <th></th>\n",
       "      <th>original_texts</th>\n",
       "      <th>text</th>\n",
       "      <th>author_id</th>\n",
       "      <th>wall_id</th>\n",
       "      <th>post_comment_id_int</th>\n",
       "      <th>city_x</th>\n",
       "      <th>date_x</th>\n",
       "      <th>name_x</th>\n",
       "      <th>region_x</th>\n",
       "      <th>is_post</th>\n",
       "      <th>...</th>\n",
       "      <th>likes</th>\n",
       "      <th>reposts</th>\n",
       "      <th>res_postlikes</th>\n",
       "      <th>res_comments</th>\n",
       "      <th>friends</th>\n",
       "      <th>groups</th>\n",
       "      <th>followers</th>\n",
       "      <th>post_likes</th>\n",
       "      <th>post_repost</th>\n",
       "      <th>x</th>\n",
       "    </tr>\n",
       "  </thead>\n",
       "  <tbody>\n",
       "    <tr>\n",
       "      <th>0</th>\n",
       "      <td>General Lee</td>\n",
       "      <td>general lee</td>\n",
       "      <td>49154141</td>\n",
       "      <td>49154141</td>\n",
       "      <td>2404</td>\n",
       "      <td>Владимир</td>\n",
       "      <td>2012-02-24 11:54:20</td>\n",
       "      <td>Дмитрий</td>\n",
       "      <td>Владимирская область</td>\n",
       "      <td>True</td>\n",
       "      <td>...</td>\n",
       "      <td>1352.0</td>\n",
       "      <td>0.0</td>\n",
       "      <td>2670.0</td>\n",
       "      <td>0.0</td>\n",
       "      <td>198.0</td>\n",
       "      <td>106.0</td>\n",
       "      <td>113.0</td>\n",
       "      <td>2</td>\n",
       "      <td>0</td>\n",
       "      <td>0</td>\n",
       "    </tr>\n",
       "    <tr>\n",
       "      <th>1</th>\n",
       "      <td>Shelby GT500</td>\n",
       "      <td>shelby</td>\n",
       "      <td>49154141</td>\n",
       "      <td>49154141</td>\n",
       "      <td>2405</td>\n",
       "      <td>Владимир</td>\n",
       "      <td>2012-02-24 11:54:33</td>\n",
       "      <td>Дмитрий</td>\n",
       "      <td>Владимирская область</td>\n",
       "      <td>True</td>\n",
       "      <td>...</td>\n",
       "      <td>1352.0</td>\n",
       "      <td>0.0</td>\n",
       "      <td>2670.0</td>\n",
       "      <td>0.0</td>\n",
       "      <td>198.0</td>\n",
       "      <td>106.0</td>\n",
       "      <td>113.0</td>\n",
       "      <td>1</td>\n",
       "      <td>0</td>\n",
       "      <td>0</td>\n",
       "    </tr>\n",
       "    <tr>\n",
       "      <th>2</th>\n",
       "      <td>1969 Ford Mustang</td>\n",
       "      <td>ford mustang</td>\n",
       "      <td>49154141</td>\n",
       "      <td>49154141</td>\n",
       "      <td>2411</td>\n",
       "      <td>Владимир</td>\n",
       "      <td>2012-02-25 22:27:35</td>\n",
       "      <td>Дмитрий</td>\n",
       "      <td>Владимирская область</td>\n",
       "      <td>True</td>\n",
       "      <td>...</td>\n",
       "      <td>1352.0</td>\n",
       "      <td>0.0</td>\n",
       "      <td>2670.0</td>\n",
       "      <td>0.0</td>\n",
       "      <td>198.0</td>\n",
       "      <td>106.0</td>\n",
       "      <td>113.0</td>\n",
       "      <td>1</td>\n",
       "      <td>0</td>\n",
       "      <td>0</td>\n",
       "    </tr>\n",
       "    <tr>\n",
       "      <th>3</th>\n",
       "      <td>Murcielago</td>\n",
       "      <td>murcielago</td>\n",
       "      <td>49154141</td>\n",
       "      <td>49154141</td>\n",
       "      <td>2400</td>\n",
       "      <td>Владимир</td>\n",
       "      <td>2012-02-24 11:53:51</td>\n",
       "      <td>Дмитрий</td>\n",
       "      <td>Владимирская область</td>\n",
       "      <td>True</td>\n",
       "      <td>...</td>\n",
       "      <td>1352.0</td>\n",
       "      <td>0.0</td>\n",
       "      <td>2670.0</td>\n",
       "      <td>0.0</td>\n",
       "      <td>198.0</td>\n",
       "      <td>106.0</td>\n",
       "      <td>113.0</td>\n",
       "      <td>1</td>\n",
       "      <td>0</td>\n",
       "      <td>0</td>\n",
       "    </tr>\n",
       "    <tr>\n",
       "      <th>4</th>\n",
       "      <td>Суровый водитель</td>\n",
       "      <td>суровый водитель</td>\n",
       "      <td>49154141</td>\n",
       "      <td>49154141</td>\n",
       "      <td>2392</td>\n",
       "      <td>Владимир</td>\n",
       "      <td>2012-02-23 16:22:56</td>\n",
       "      <td>Дмитрий</td>\n",
       "      <td>Владимирская область</td>\n",
       "      <td>True</td>\n",
       "      <td>...</td>\n",
       "      <td>1352.0</td>\n",
       "      <td>0.0</td>\n",
       "      <td>2670.0</td>\n",
       "      <td>0.0</td>\n",
       "      <td>198.0</td>\n",
       "      <td>106.0</td>\n",
       "      <td>113.0</td>\n",
       "      <td>1</td>\n",
       "      <td>0</td>\n",
       "      <td>0</td>\n",
       "    </tr>\n",
       "  </tbody>\n",
       "</table>\n",
       "<p>5 rows × 25 columns</p>\n",
       "</div>"
      ],
      "text/plain": [
       "      original_texts               text  author_id   wall_id  \\\n",
       "0        General Lee       general lee    49154141  49154141   \n",
       "1       Shelby GT500            shelby    49154141  49154141   \n",
       "2  1969 Ford Mustang      ford mustang    49154141  49154141   \n",
       "3         Murcielago        murcielago    49154141  49154141   \n",
       "4   Суровый водитель  суровый водитель    49154141  49154141   \n",
       "\n",
       "   post_comment_id_int    city_x              date_x   name_x  \\\n",
       "0                 2404  Владимир 2012-02-24 11:54:20  Дмитрий   \n",
       "1                 2405  Владимир 2012-02-24 11:54:33  Дмитрий   \n",
       "2                 2411  Владимир 2012-02-25 22:27:35  Дмитрий   \n",
       "3                 2400  Владимир 2012-02-24 11:53:51  Дмитрий   \n",
       "4                 2392  Владимир 2012-02-23 16:22:56  Дмитрий   \n",
       "\n",
       "               region_x is_post ...   likes reposts res_postlikes  \\\n",
       "0  Владимирская область    True ...  1352.0     0.0        2670.0   \n",
       "1  Владимирская область    True ...  1352.0     0.0        2670.0   \n",
       "2  Владимирская область    True ...  1352.0     0.0        2670.0   \n",
       "3  Владимирская область    True ...  1352.0     0.0        2670.0   \n",
       "4  Владимирская область    True ...  1352.0     0.0        2670.0   \n",
       "\n",
       "   res_comments  friends  groups  followers  post_likes  post_repost  x  \n",
       "0           0.0    198.0   106.0      113.0           2            0  0  \n",
       "1           0.0    198.0   106.0      113.0           1            0  0  \n",
       "2           0.0    198.0   106.0      113.0           1            0  0  \n",
       "3           0.0    198.0   106.0      113.0           1            0  0  \n",
       "4           0.0    198.0   106.0      113.0           1            0  0  \n",
       "\n",
       "[5 rows x 25 columns]"
      ]
     },
     "execution_count": 44,
     "metadata": {},
     "output_type": "execute_result"
    }
   ],
   "source": [
    "data_2.head()"
   ]
  },
  {
   "cell_type": "code",
   "execution_count": 57,
   "metadata": {
    "collapsed": false
   },
   "outputs": [],
   "source": [
    "data_2.to_csv(\"/Volumes/BigData/Science/hse_thesis/metadata_for_every_post_and_merged_texts/merged_data_final.csv\", header=False, index=False,\n",
    "             sep=\";\", quoting=csv.QUOTE_ALL)"
   ]
  },
  {
   "cell_type": "code",
   "execution_count": null,
   "metadata": {
    "collapsed": true
   },
   "outputs": [],
   "source": []
  },
  {
   "cell_type": "code",
   "execution_count": 53,
   "metadata": {
    "collapsed": false
   },
   "outputs": [
    {
     "name": "stderr",
     "output_type": "stream",
     "text": [
      "/Users/Hun/Python_env/Python3_env/lib/python3.5/site-packages/IPython/core/interactiveshell.py:2723: DtypeWarning: Columns (11,23) have mixed types. Specify dtype option on import or set low_memory=False.\n",
      "  interactivity=interactivity, compiler=compiler, result=result)\n"
     ]
    }
   ],
   "source": [
    "data = pd.read_csv(\"/Volumes/BigData/Science/hse_thesis/metadata_for_every_post_and_merged_texts/merged_data_final.csv\", header=None,\n",
    "             sep=\";\", quoting=csv.QUOTE_ALL)"
   ]
  },
  {
   "cell_type": "code",
   "execution_count": 45,
   "metadata": {
    "collapsed": false
   },
   "outputs": [
    {
     "data": {
      "text/html": [
       "<div>\n",
       "<table border=\"1\" class=\"dataframe\">\n",
       "  <thead>\n",
       "    <tr style=\"text-align: right;\">\n",
       "      <th></th>\n",
       "      <th>0</th>\n",
       "      <th>1</th>\n",
       "      <th>2</th>\n",
       "      <th>3</th>\n",
       "      <th>4</th>\n",
       "      <th>5</th>\n",
       "      <th>6</th>\n",
       "      <th>7</th>\n",
       "      <th>8</th>\n",
       "      <th>9</th>\n",
       "      <th>10</th>\n",
       "      <th>11</th>\n",
       "      <th>12</th>\n",
       "      <th>13</th>\n",
       "      <th>14</th>\n",
       "      <th>15</th>\n",
       "      <th>16</th>\n",
       "      <th>17</th>\n",
       "      <th>18</th>\n",
       "      <th>19</th>\n",
       "      <th>20</th>\n",
       "      <th>21</th>\n",
       "      <th>22</th>\n",
       "      <th>23</th>\n",
       "      <th>24</th>\n",
       "    </tr>\n",
       "  </thead>\n",
       "  <tbody>\n",
       "    <tr>\n",
       "      <th>0</th>\n",
       "      <td>General Lee</td>\n",
       "      <td>general lee</td>\n",
       "      <td>49154141</td>\n",
       "      <td>49154141</td>\n",
       "      <td>2404</td>\n",
       "      <td>Владимир</td>\n",
       "      <td>2012-02-24 11:54:20</td>\n",
       "      <td>Дмитрий</td>\n",
       "      <td>Владимирская область</td>\n",
       "      <td>True</td>\n",
       "      <td>Филиппов</td>\n",
       "      <td>2</td>\n",
       "      <td>Россия</td>\n",
       "      <td>2133.0</td>\n",
       "      <td>0.0</td>\n",
       "      <td>1352.0</td>\n",
       "      <td>0.0</td>\n",
       "      <td>2670.0</td>\n",
       "      <td>0.0</td>\n",
       "      <td>198.0</td>\n",
       "      <td>106.0</td>\n",
       "      <td>113.0</td>\n",
       "      <td>2.0</td>\n",
       "      <td>0</td>\n",
       "      <td>0.0</td>\n",
       "    </tr>\n",
       "    <tr>\n",
       "      <th>1</th>\n",
       "      <td>Shelby GT500</td>\n",
       "      <td>shelby</td>\n",
       "      <td>49154141</td>\n",
       "      <td>49154141</td>\n",
       "      <td>2405</td>\n",
       "      <td>Владимир</td>\n",
       "      <td>2012-02-24 11:54:33</td>\n",
       "      <td>Дмитрий</td>\n",
       "      <td>Владимирская область</td>\n",
       "      <td>True</td>\n",
       "      <td>Филиппов</td>\n",
       "      <td>2</td>\n",
       "      <td>Россия</td>\n",
       "      <td>2133.0</td>\n",
       "      <td>0.0</td>\n",
       "      <td>1352.0</td>\n",
       "      <td>0.0</td>\n",
       "      <td>2670.0</td>\n",
       "      <td>0.0</td>\n",
       "      <td>198.0</td>\n",
       "      <td>106.0</td>\n",
       "      <td>113.0</td>\n",
       "      <td>1.0</td>\n",
       "      <td>0</td>\n",
       "      <td>0.0</td>\n",
       "    </tr>\n",
       "    <tr>\n",
       "      <th>2</th>\n",
       "      <td>1969 Ford Mustang</td>\n",
       "      <td>ford mustang</td>\n",
       "      <td>49154141</td>\n",
       "      <td>49154141</td>\n",
       "      <td>2411</td>\n",
       "      <td>Владимир</td>\n",
       "      <td>2012-02-25 22:27:35</td>\n",
       "      <td>Дмитрий</td>\n",
       "      <td>Владимирская область</td>\n",
       "      <td>True</td>\n",
       "      <td>Филиппов</td>\n",
       "      <td>2</td>\n",
       "      <td>Россия</td>\n",
       "      <td>2133.0</td>\n",
       "      <td>0.0</td>\n",
       "      <td>1352.0</td>\n",
       "      <td>0.0</td>\n",
       "      <td>2670.0</td>\n",
       "      <td>0.0</td>\n",
       "      <td>198.0</td>\n",
       "      <td>106.0</td>\n",
       "      <td>113.0</td>\n",
       "      <td>1.0</td>\n",
       "      <td>0</td>\n",
       "      <td>0.0</td>\n",
       "    </tr>\n",
       "    <tr>\n",
       "      <th>3</th>\n",
       "      <td>Murcielago</td>\n",
       "      <td>murcielago</td>\n",
       "      <td>49154141</td>\n",
       "      <td>49154141</td>\n",
       "      <td>2400</td>\n",
       "      <td>Владимир</td>\n",
       "      <td>2012-02-24 11:53:51</td>\n",
       "      <td>Дмитрий</td>\n",
       "      <td>Владимирская область</td>\n",
       "      <td>True</td>\n",
       "      <td>Филиппов</td>\n",
       "      <td>2</td>\n",
       "      <td>Россия</td>\n",
       "      <td>2133.0</td>\n",
       "      <td>0.0</td>\n",
       "      <td>1352.0</td>\n",
       "      <td>0.0</td>\n",
       "      <td>2670.0</td>\n",
       "      <td>0.0</td>\n",
       "      <td>198.0</td>\n",
       "      <td>106.0</td>\n",
       "      <td>113.0</td>\n",
       "      <td>1.0</td>\n",
       "      <td>0</td>\n",
       "      <td>0.0</td>\n",
       "    </tr>\n",
       "    <tr>\n",
       "      <th>4</th>\n",
       "      <td>Суровый водитель</td>\n",
       "      <td>суровый водитель</td>\n",
       "      <td>49154141</td>\n",
       "      <td>49154141</td>\n",
       "      <td>2392</td>\n",
       "      <td>Владимир</td>\n",
       "      <td>2012-02-23 16:22:56</td>\n",
       "      <td>Дмитрий</td>\n",
       "      <td>Владимирская область</td>\n",
       "      <td>True</td>\n",
       "      <td>Филиппов</td>\n",
       "      <td>2</td>\n",
       "      <td>Россия</td>\n",
       "      <td>2133.0</td>\n",
       "      <td>0.0</td>\n",
       "      <td>1352.0</td>\n",
       "      <td>0.0</td>\n",
       "      <td>2670.0</td>\n",
       "      <td>0.0</td>\n",
       "      <td>198.0</td>\n",
       "      <td>106.0</td>\n",
       "      <td>113.0</td>\n",
       "      <td>1.0</td>\n",
       "      <td>0</td>\n",
       "      <td>0.0</td>\n",
       "    </tr>\n",
       "  </tbody>\n",
       "</table>\n",
       "</div>"
      ],
      "text/plain": [
       "                  0                  1         2         3     4         5   \\\n",
       "0        General Lee       general lee   49154141  49154141  2404  Владимир   \n",
       "1       Shelby GT500            shelby   49154141  49154141  2405  Владимир   \n",
       "2  1969 Ford Mustang      ford mustang   49154141  49154141  2411  Владимир   \n",
       "3         Murcielago        murcielago   49154141  49154141  2400  Владимир   \n",
       "4   Суровый водитель  суровый водитель   49154141  49154141  2392  Владимир   \n",
       "\n",
       "                    6        7                     8     9         10 11  \\\n",
       "0  2012-02-24 11:54:20  Дмитрий  Владимирская область  True  Филиппов  2   \n",
       "1  2012-02-24 11:54:33  Дмитрий  Владимирская область  True  Филиппов  2   \n",
       "2  2012-02-25 22:27:35  Дмитрий  Владимирская область  True  Филиппов  2   \n",
       "3  2012-02-24 11:53:51  Дмитрий  Владимирская область  True  Филиппов  2   \n",
       "4  2012-02-23 16:22:56  Дмитрий  Владимирская область  True  Филиппов  2   \n",
       "\n",
       "        12      13   14      15   16      17   18     19     20     21   22  \\\n",
       "0   Россия  2133.0  0.0  1352.0  0.0  2670.0  0.0  198.0  106.0  113.0  2.0   \n",
       "1   Россия  2133.0  0.0  1352.0  0.0  2670.0  0.0  198.0  106.0  113.0  1.0   \n",
       "2   Россия  2133.0  0.0  1352.0  0.0  2670.0  0.0  198.0  106.0  113.0  1.0   \n",
       "3   Россия  2133.0  0.0  1352.0  0.0  2670.0  0.0  198.0  106.0  113.0  1.0   \n",
       "4   Россия  2133.0  0.0  1352.0  0.0  2670.0  0.0  198.0  106.0  113.0  1.0   \n",
       "\n",
       "  23   24  \n",
       "0  0  0.0  \n",
       "1  0  0.0  \n",
       "2  0  0.0  \n",
       "3  0  0.0  \n",
       "4  0  0.0  "
      ]
     },
     "execution_count": 45,
     "metadata": {},
     "output_type": "execute_result"
    }
   ],
   "source": [
    "data.head()"
   ]
  },
  {
   "cell_type": "code",
   "execution_count": 63,
   "metadata": {
    "collapsed": false
   },
   "outputs": [],
   "source": [
    "pd.set_option('display.max_columns', 30)"
   ]
  },
  {
   "cell_type": "code",
   "execution_count": 49,
   "metadata": {
    "collapsed": false
   },
   "outputs": [
    {
     "data": {
      "text/html": [
       "<div>\n",
       "<table border=\"1\" class=\"dataframe\">\n",
       "  <thead>\n",
       "    <tr style=\"text-align: right;\">\n",
       "      <th></th>\n",
       "      <th>original_texts</th>\n",
       "      <th>text</th>\n",
       "      <th>author_id</th>\n",
       "      <th>wall_id</th>\n",
       "      <th>post_comment_id_int</th>\n",
       "      <th>city</th>\n",
       "      <th>date</th>\n",
       "      <th>name</th>\n",
       "      <th>region</th>\n",
       "      <th>is_post</th>\n",
       "      <th>surname</th>\n",
       "      <th>sex</th>\n",
       "      <th>country</th>\n",
       "      <th>posts</th>\n",
       "      <th>comments</th>\n",
       "      <th>likes</th>\n",
       "      <th>res_comments</th>\n",
       "      <th>res_postlikes</th>\n",
       "      <th>res_comments_likes</th>\n",
       "      <th>friends</th>\n",
       "      <th>groups</th>\n",
       "      <th>followers</th>\n",
       "      <th>post_likes</th>\n",
       "      <th>post_repost</th>\n",
       "      <th>post_comments</th>\n",
       "    </tr>\n",
       "  </thead>\n",
       "  <tbody>\n",
       "    <tr>\n",
       "      <th>455174</th>\n",
       "      <td>Голубые глаза великолепны!</td>\n",
       "      <td>голубой глаз великолепный</td>\n",
       "      <td>279868603</td>\n",
       "      <td>279868603</td>\n",
       "      <td>121</td>\n",
       "      <td>Комсомольский</td>\n",
       "      <td>2015-08-23 21:25:22</td>\n",
       "      <td>Виктор</td>\n",
       "      <td>Адыгея</td>\n",
       "      <td>True</td>\n",
       "      <td>Даниленко</td>\n",
       "      <td>2</td>\n",
       "      <td>Россия</td>\n",
       "      <td>118.0</td>\n",
       "      <td>9.0</td>\n",
       "      <td>2.0</td>\n",
       "      <td>13.0</td>\n",
       "      <td>67.0</td>\n",
       "      <td>0.0</td>\n",
       "      <td>35.0</td>\n",
       "      <td>12.0</td>\n",
       "      <td>1.0</td>\n",
       "      <td>1.0</td>\n",
       "      <td>0</td>\n",
       "      <td>2.0</td>\n",
       "    </tr>\n",
       "    <tr>\n",
       "      <th>473941</th>\n",
       "      <td>Поддерживаю!) ?</td>\n",
       "      <td>поддерживать</td>\n",
       "      <td>0</td>\n",
       "      <td>279868603</td>\n",
       "      <td>121</td>\n",
       "      <td>Комсомольский</td>\n",
       "      <td>2015-08-24 00:26:33</td>\n",
       "      <td>Виктор</td>\n",
       "      <td>Адыгея</td>\n",
       "      <td>False</td>\n",
       "      <td>Даниленко</td>\n",
       "      <td>2</td>\n",
       "      <td>Россия</td>\n",
       "      <td>118.0</td>\n",
       "      <td>9.0</td>\n",
       "      <td>2.0</td>\n",
       "      <td>13.0</td>\n",
       "      <td>67.0</td>\n",
       "      <td>0.0</td>\n",
       "      <td>35.0</td>\n",
       "      <td>12.0</td>\n",
       "      <td>1.0</td>\n",
       "      <td>0.0</td>\n",
       "      <td>0</td>\n",
       "      <td>0.0</td>\n",
       "    </tr>\n",
       "  </tbody>\n",
       "</table>\n",
       "</div>"
      ],
      "text/plain": [
       "                    original_texts                        text  author_id  \\\n",
       "455174  Голубые глаза великолепны!  голубой глаз великолепный   279868603   \n",
       "473941             Поддерживаю!) ?               поддерживать           0   \n",
       "\n",
       "          wall_id  post_comment_id_int           city                 date  \\\n",
       "455174  279868603                  121  Комсомольский  2015-08-23 21:25:22   \n",
       "473941  279868603                  121  Комсомольский  2015-08-24 00:26:33   \n",
       "\n",
       "          name  region is_post    surname sex  country  posts  comments  \\\n",
       "455174  Виктор  Адыгея    True  Даниленко   2   Россия  118.0       9.0   \n",
       "473941  Виктор  Адыгея   False  Даниленко   2   Россия  118.0       9.0   \n",
       "\n",
       "        likes  res_comments  res_postlikes  res_comments_likes  friends  \\\n",
       "455174    2.0          13.0           67.0                 0.0     35.0   \n",
       "473941    2.0          13.0           67.0                 0.0     35.0   \n",
       "\n",
       "        groups  followers  post_likes post_repost  post_comments  \n",
       "455174    12.0        1.0         1.0           0            2.0  \n",
       "473941    12.0        1.0         0.0           0            0.0  "
      ]
     },
     "execution_count": 49,
     "metadata": {},
     "output_type": "execute_result"
    }
   ],
   "source": [
    "data[(data[\"wall_id\"] == 279868603) & (data[\"post_comment_id_int\"] == 121)]"
   ]
  },
  {
   "cell_type": "code",
   "execution_count": 47,
   "metadata": {
    "collapsed": true
   },
   "outputs": [],
   "source": [
    "cols = ['original_texts', 'text', 'author_id', 'wall_id', 'post_comment_id_int', \n",
    "        'city', 'date', 'name', 'region','is_post', 'surname', 'sex',\n",
    "       'country', 'posts', 'comments', 'likes', 'res_comments', 'res_postlikes',\n",
    "       'res_comments_likes', 'friends', 'groups', 'followers', 'post_likes',\n",
    "       'post_repost', 'post_comments']"
   ]
  },
  {
   "cell_type": "code",
   "execution_count": 54,
   "metadata": {
    "collapsed": true
   },
   "outputs": [],
   "source": [
    "data.columns = cols"
   ]
  },
  {
   "cell_type": "code",
   "execution_count": 73,
   "metadata": {
    "collapsed": false
   },
   "outputs": [
    {
     "data": {
      "text/html": [
       "<div>\n",
       "<table border=\"1\" class=\"dataframe\">\n",
       "  <thead>\n",
       "    <tr style=\"text-align: right;\">\n",
       "      <th></th>\n",
       "      <th>original_texts</th>\n",
       "      <th>text</th>\n",
       "      <th>author_id</th>\n",
       "      <th>wall_id</th>\n",
       "      <th>post_comment_id_int</th>\n",
       "      <th>city</th>\n",
       "      <th>date</th>\n",
       "      <th>name</th>\n",
       "      <th>region</th>\n",
       "      <th>is_post</th>\n",
       "      <th>surname</th>\n",
       "      <th>sex</th>\n",
       "      <th>country</th>\n",
       "      <th>posts</th>\n",
       "      <th>comments</th>\n",
       "      <th>likes</th>\n",
       "      <th>res_comments</th>\n",
       "      <th>res_postlikes</th>\n",
       "      <th>res_comments_likes</th>\n",
       "      <th>friends</th>\n",
       "      <th>groups</th>\n",
       "      <th>followers</th>\n",
       "      <th>post_likes</th>\n",
       "      <th>post_repost</th>\n",
       "      <th>post_comments</th>\n",
       "      <th>text_length</th>\n",
       "    </tr>\n",
       "  </thead>\n",
       "  <tbody>\n",
       "    <tr>\n",
       "      <th>0</th>\n",
       "      <td>General Lee</td>\n",
       "      <td>general lee</td>\n",
       "      <td>49154141</td>\n",
       "      <td>49154141</td>\n",
       "      <td>2404</td>\n",
       "      <td>Владимир</td>\n",
       "      <td>2012-02-24 11:54:20</td>\n",
       "      <td>Дмитрий</td>\n",
       "      <td>Владимирская область</td>\n",
       "      <td>True</td>\n",
       "      <td>Филиппов</td>\n",
       "      <td>2</td>\n",
       "      <td>Россия</td>\n",
       "      <td>2133.0</td>\n",
       "      <td>0.0</td>\n",
       "      <td>1352.0</td>\n",
       "      <td>0.0</td>\n",
       "      <td>2670.0</td>\n",
       "      <td>0.0</td>\n",
       "      <td>198.0</td>\n",
       "      <td>106.0</td>\n",
       "      <td>113.0</td>\n",
       "      <td>2.0</td>\n",
       "      <td>0</td>\n",
       "      <td>0.0</td>\n",
       "      <td>2</td>\n",
       "    </tr>\n",
       "    <tr>\n",
       "      <th>1</th>\n",
       "      <td>Shelby GT500</td>\n",
       "      <td>shelby</td>\n",
       "      <td>49154141</td>\n",
       "      <td>49154141</td>\n",
       "      <td>2405</td>\n",
       "      <td>Владимир</td>\n",
       "      <td>2012-02-24 11:54:33</td>\n",
       "      <td>Дмитрий</td>\n",
       "      <td>Владимирская область</td>\n",
       "      <td>True</td>\n",
       "      <td>Филиппов</td>\n",
       "      <td>2</td>\n",
       "      <td>Россия</td>\n",
       "      <td>2133.0</td>\n",
       "      <td>0.0</td>\n",
       "      <td>1352.0</td>\n",
       "      <td>0.0</td>\n",
       "      <td>2670.0</td>\n",
       "      <td>0.0</td>\n",
       "      <td>198.0</td>\n",
       "      <td>106.0</td>\n",
       "      <td>113.0</td>\n",
       "      <td>1.0</td>\n",
       "      <td>0</td>\n",
       "      <td>0.0</td>\n",
       "      <td>1</td>\n",
       "    </tr>\n",
       "    <tr>\n",
       "      <th>2</th>\n",
       "      <td>1969 Ford Mustang</td>\n",
       "      <td>ford mustang</td>\n",
       "      <td>49154141</td>\n",
       "      <td>49154141</td>\n",
       "      <td>2411</td>\n",
       "      <td>Владимир</td>\n",
       "      <td>2012-02-25 22:27:35</td>\n",
       "      <td>Дмитрий</td>\n",
       "      <td>Владимирская область</td>\n",
       "      <td>True</td>\n",
       "      <td>Филиппов</td>\n",
       "      <td>2</td>\n",
       "      <td>Россия</td>\n",
       "      <td>2133.0</td>\n",
       "      <td>0.0</td>\n",
       "      <td>1352.0</td>\n",
       "      <td>0.0</td>\n",
       "      <td>2670.0</td>\n",
       "      <td>0.0</td>\n",
       "      <td>198.0</td>\n",
       "      <td>106.0</td>\n",
       "      <td>113.0</td>\n",
       "      <td>1.0</td>\n",
       "      <td>0</td>\n",
       "      <td>0.0</td>\n",
       "      <td>2</td>\n",
       "    </tr>\n",
       "    <tr>\n",
       "      <th>3</th>\n",
       "      <td>Murcielago</td>\n",
       "      <td>murcielago</td>\n",
       "      <td>49154141</td>\n",
       "      <td>49154141</td>\n",
       "      <td>2400</td>\n",
       "      <td>Владимир</td>\n",
       "      <td>2012-02-24 11:53:51</td>\n",
       "      <td>Дмитрий</td>\n",
       "      <td>Владимирская область</td>\n",
       "      <td>True</td>\n",
       "      <td>Филиппов</td>\n",
       "      <td>2</td>\n",
       "      <td>Россия</td>\n",
       "      <td>2133.0</td>\n",
       "      <td>0.0</td>\n",
       "      <td>1352.0</td>\n",
       "      <td>0.0</td>\n",
       "      <td>2670.0</td>\n",
       "      <td>0.0</td>\n",
       "      <td>198.0</td>\n",
       "      <td>106.0</td>\n",
       "      <td>113.0</td>\n",
       "      <td>1.0</td>\n",
       "      <td>0</td>\n",
       "      <td>0.0</td>\n",
       "      <td>1</td>\n",
       "    </tr>\n",
       "    <tr>\n",
       "      <th>4</th>\n",
       "      <td>Суровый водитель</td>\n",
       "      <td>суровый водитель</td>\n",
       "      <td>49154141</td>\n",
       "      <td>49154141</td>\n",
       "      <td>2392</td>\n",
       "      <td>Владимир</td>\n",
       "      <td>2012-02-23 16:22:56</td>\n",
       "      <td>Дмитрий</td>\n",
       "      <td>Владимирская область</td>\n",
       "      <td>True</td>\n",
       "      <td>Филиппов</td>\n",
       "      <td>2</td>\n",
       "      <td>Россия</td>\n",
       "      <td>2133.0</td>\n",
       "      <td>0.0</td>\n",
       "      <td>1352.0</td>\n",
       "      <td>0.0</td>\n",
       "      <td>2670.0</td>\n",
       "      <td>0.0</td>\n",
       "      <td>198.0</td>\n",
       "      <td>106.0</td>\n",
       "      <td>113.0</td>\n",
       "      <td>1.0</td>\n",
       "      <td>0</td>\n",
       "      <td>0.0</td>\n",
       "      <td>2</td>\n",
       "    </tr>\n",
       "    <tr>\n",
       "      <th>5</th>\n",
       "      <td>Shelby GT</td>\n",
       "      <td>shelby</td>\n",
       "      <td>49154141</td>\n",
       "      <td>49154141</td>\n",
       "      <td>2399</td>\n",
       "      <td>Владимир</td>\n",
       "      <td>2012-02-24 11:53:47</td>\n",
       "      <td>Дмитрий</td>\n",
       "      <td>Владимирская область</td>\n",
       "      <td>True</td>\n",
       "      <td>Филиппов</td>\n",
       "      <td>2</td>\n",
       "      <td>Россия</td>\n",
       "      <td>2133.0</td>\n",
       "      <td>0.0</td>\n",
       "      <td>1352.0</td>\n",
       "      <td>0.0</td>\n",
       "      <td>2670.0</td>\n",
       "      <td>0.0</td>\n",
       "      <td>198.0</td>\n",
       "      <td>106.0</td>\n",
       "      <td>113.0</td>\n",
       "      <td>1.0</td>\n",
       "      <td>0</td>\n",
       "      <td>0.0</td>\n",
       "      <td>1</td>\n",
       "    </tr>\n",
       "    <tr>\n",
       "      <th>6</th>\n",
       "      <td>Dodge Challenger</td>\n",
       "      <td>dodge challenger</td>\n",
       "      <td>49154141</td>\n",
       "      <td>49154141</td>\n",
       "      <td>2398</td>\n",
       "      <td>Владимир</td>\n",
       "      <td>2012-02-24 11:53:43</td>\n",
       "      <td>Дмитрий</td>\n",
       "      <td>Владимирская область</td>\n",
       "      <td>True</td>\n",
       "      <td>Филиппов</td>\n",
       "      <td>2</td>\n",
       "      <td>Россия</td>\n",
       "      <td>2133.0</td>\n",
       "      <td>0.0</td>\n",
       "      <td>1352.0</td>\n",
       "      <td>0.0</td>\n",
       "      <td>2670.0</td>\n",
       "      <td>0.0</td>\n",
       "      <td>198.0</td>\n",
       "      <td>106.0</td>\n",
       "      <td>113.0</td>\n",
       "      <td>1.0</td>\n",
       "      <td>0</td>\n",
       "      <td>0.0</td>\n",
       "      <td>2</td>\n",
       "    </tr>\n",
       "    <tr>\n",
       "      <th>7</th>\n",
       "      <td>Мотоциклы из старых наручных часов</td>\n",
       "      <td>мотоцикл старое наручный час</td>\n",
       "      <td>49154141</td>\n",
       "      <td>49154141</td>\n",
       "      <td>2410</td>\n",
       "      <td>Владимир</td>\n",
       "      <td>2012-02-25 22:16:04</td>\n",
       "      <td>Дмитрий</td>\n",
       "      <td>Владимирская область</td>\n",
       "      <td>True</td>\n",
       "      <td>Филиппов</td>\n",
       "      <td>2</td>\n",
       "      <td>Россия</td>\n",
       "      <td>2133.0</td>\n",
       "      <td>0.0</td>\n",
       "      <td>1352.0</td>\n",
       "      <td>0.0</td>\n",
       "      <td>2670.0</td>\n",
       "      <td>0.0</td>\n",
       "      <td>198.0</td>\n",
       "      <td>106.0</td>\n",
       "      <td>113.0</td>\n",
       "      <td>2.0</td>\n",
       "      <td>0</td>\n",
       "      <td>0.0</td>\n",
       "      <td>4</td>\n",
       "    </tr>\n",
       "    <tr>\n",
       "      <th>8</th>\n",
       "      <td>69 Camaro SS RS 396   69 Camaro SS 396 convert...</td>\n",
       "      <td>camaro camaro convertible</td>\n",
       "      <td>49154141</td>\n",
       "      <td>49154141</td>\n",
       "      <td>2403</td>\n",
       "      <td>Владимир</td>\n",
       "      <td>2012-02-24 11:54:16</td>\n",
       "      <td>Дмитрий</td>\n",
       "      <td>Владимирская область</td>\n",
       "      <td>True</td>\n",
       "      <td>Филиппов</td>\n",
       "      <td>2</td>\n",
       "      <td>Россия</td>\n",
       "      <td>2133.0</td>\n",
       "      <td>0.0</td>\n",
       "      <td>1352.0</td>\n",
       "      <td>0.0</td>\n",
       "      <td>2670.0</td>\n",
       "      <td>0.0</td>\n",
       "      <td>198.0</td>\n",
       "      <td>106.0</td>\n",
       "      <td>113.0</td>\n",
       "      <td>1.0</td>\n",
       "      <td>0</td>\n",
       "      <td>0.0</td>\n",
       "      <td>3</td>\n",
       "    </tr>\n",
       "    <tr>\n",
       "      <th>9</th>\n",
       "      <td>Dodge Charger R/T</td>\n",
       "      <td>dodge charger</td>\n",
       "      <td>49154141</td>\n",
       "      <td>49154141</td>\n",
       "      <td>2406</td>\n",
       "      <td>Владимир</td>\n",
       "      <td>2012-02-24 11:54:41</td>\n",
       "      <td>Дмитрий</td>\n",
       "      <td>Владимирская область</td>\n",
       "      <td>True</td>\n",
       "      <td>Филиппов</td>\n",
       "      <td>2</td>\n",
       "      <td>Россия</td>\n",
       "      <td>2133.0</td>\n",
       "      <td>0.0</td>\n",
       "      <td>1352.0</td>\n",
       "      <td>0.0</td>\n",
       "      <td>2670.0</td>\n",
       "      <td>0.0</td>\n",
       "      <td>198.0</td>\n",
       "      <td>106.0</td>\n",
       "      <td>113.0</td>\n",
       "      <td>1.0</td>\n",
       "      <td>0</td>\n",
       "      <td>0.0</td>\n",
       "      <td>2</td>\n",
       "    </tr>\n",
       "  </tbody>\n",
       "</table>\n",
       "</div>"
      ],
      "text/plain": [
       "                                      original_texts  \\\n",
       "0                                        General Lee   \n",
       "1                                       Shelby GT500   \n",
       "2                                  1969 Ford Mustang   \n",
       "3                                         Murcielago   \n",
       "4                                   Суровый водитель   \n",
       "5                                          Shelby GT   \n",
       "6                                   Dodge Challenger   \n",
       "7                 Мотоциклы из старых наручных часов   \n",
       "8  69 Camaro SS RS 396   69 Camaro SS 396 convert...   \n",
       "9                                  Dodge Charger R/T   \n",
       "\n",
       "                            text  author_id   wall_id  post_comment_id_int  \\\n",
       "0                   general lee    49154141  49154141                 2404   \n",
       "1                        shelby    49154141  49154141                 2405   \n",
       "2                  ford mustang    49154141  49154141                 2411   \n",
       "3                    murcielago    49154141  49154141                 2400   \n",
       "4              суровый водитель    49154141  49154141                 2392   \n",
       "5                        shelby    49154141  49154141                 2399   \n",
       "6              dodge challenger    49154141  49154141                 2398   \n",
       "7  мотоцикл старое наручный час    49154141  49154141                 2410   \n",
       "8     camaro camaro convertible    49154141  49154141                 2403   \n",
       "9                 dodge charger    49154141  49154141                 2406   \n",
       "\n",
       "       city                date     name                region is_post  \\\n",
       "0  Владимир 2012-02-24 11:54:20  Дмитрий  Владимирская область    True   \n",
       "1  Владимир 2012-02-24 11:54:33  Дмитрий  Владимирская область    True   \n",
       "2  Владимир 2012-02-25 22:27:35  Дмитрий  Владимирская область    True   \n",
       "3  Владимир 2012-02-24 11:53:51  Дмитрий  Владимирская область    True   \n",
       "4  Владимир 2012-02-23 16:22:56  Дмитрий  Владимирская область    True   \n",
       "5  Владимир 2012-02-24 11:53:47  Дмитрий  Владимирская область    True   \n",
       "6  Владимир 2012-02-24 11:53:43  Дмитрий  Владимирская область    True   \n",
       "7  Владимир 2012-02-25 22:16:04  Дмитрий  Владимирская область    True   \n",
       "8  Владимир 2012-02-24 11:54:16  Дмитрий  Владимирская область    True   \n",
       "9  Владимир 2012-02-24 11:54:41  Дмитрий  Владимирская область    True   \n",
       "\n",
       "    surname sex  country   posts  comments   likes  res_comments  \\\n",
       "0  Филиппов   2   Россия  2133.0       0.0  1352.0           0.0   \n",
       "1  Филиппов   2   Россия  2133.0       0.0  1352.0           0.0   \n",
       "2  Филиппов   2   Россия  2133.0       0.0  1352.0           0.0   \n",
       "3  Филиппов   2   Россия  2133.0       0.0  1352.0           0.0   \n",
       "4  Филиппов   2   Россия  2133.0       0.0  1352.0           0.0   \n",
       "5  Филиппов   2   Россия  2133.0       0.0  1352.0           0.0   \n",
       "6  Филиппов   2   Россия  2133.0       0.0  1352.0           0.0   \n",
       "7  Филиппов   2   Россия  2133.0       0.0  1352.0           0.0   \n",
       "8  Филиппов   2   Россия  2133.0       0.0  1352.0           0.0   \n",
       "9  Филиппов   2   Россия  2133.0       0.0  1352.0           0.0   \n",
       "\n",
       "   res_postlikes  res_comments_likes  friends  groups  followers  post_likes  \\\n",
       "0         2670.0                 0.0    198.0   106.0      113.0         2.0   \n",
       "1         2670.0                 0.0    198.0   106.0      113.0         1.0   \n",
       "2         2670.0                 0.0    198.0   106.0      113.0         1.0   \n",
       "3         2670.0                 0.0    198.0   106.0      113.0         1.0   \n",
       "4         2670.0                 0.0    198.0   106.0      113.0         1.0   \n",
       "5         2670.0                 0.0    198.0   106.0      113.0         1.0   \n",
       "6         2670.0                 0.0    198.0   106.0      113.0         1.0   \n",
       "7         2670.0                 0.0    198.0   106.0      113.0         2.0   \n",
       "8         2670.0                 0.0    198.0   106.0      113.0         1.0   \n",
       "9         2670.0                 0.0    198.0   106.0      113.0         1.0   \n",
       "\n",
       "  post_repost  post_comments  text_length  \n",
       "0           0            0.0            2  \n",
       "1           0            0.0            1  \n",
       "2           0            0.0            2  \n",
       "3           0            0.0            1  \n",
       "4           0            0.0            2  \n",
       "5           0            0.0            1  \n",
       "6           0            0.0            2  \n",
       "7           0            0.0            4  \n",
       "8           0            0.0            3  \n",
       "9           0            0.0            2  "
      ]
     },
     "execution_count": 73,
     "metadata": {},
     "output_type": "execute_result"
    }
   ],
   "source": [
    "data.head(10)"
   ]
  },
  {
   "cell_type": "code",
   "execution_count": 55,
   "metadata": {
    "collapsed": true
   },
   "outputs": [],
   "source": [
    "def sex_c(val):\n",
    "    if val == \"1\":\n",
    "        return 1\n",
    "    if val == \" 1\":\n",
    "        return 1\n",
    "    if val == \"2\":\n",
    "        return 2\n",
    "    if val == \" 2\":\n",
    "        return 2\n",
    "    if val == \"0\":\n",
    "        return 0\n",
    "    if val == \" 0\":\n",
    "        return 0\n",
    "    else: return val\n",
    "data[\"sex\"] = data[\"sex\"].apply(sex_c)"
   ]
  },
  {
   "cell_type": "code",
   "execution_count": 56,
   "metadata": {
    "collapsed": false
   },
   "outputs": [
    {
     "data": {
      "text/plain": [
       "1      3466516\n",
       "2      1787761\n",
       "0        40879\n",
       "           521\n",
       "3.0         12\n",
       " 3           6\n",
       "4.0          6\n",
       "5.0          4\n",
       " 4           3\n",
       " 5           2\n",
       "Name: sex, dtype: int64"
      ]
     },
     "execution_count": 56,
     "metadata": {},
     "output_type": "execute_result"
    }
   ],
   "source": [
    "data[\"sex\"].value_counts()"
   ]
  },
  {
   "cell_type": "code",
   "execution_count": 65,
   "metadata": {
    "collapsed": false
   },
   "outputs": [
    {
     "data": {
      "text/plain": [
       "(5392586, 26)"
      ]
     },
     "execution_count": 65,
     "metadata": {},
     "output_type": "execute_result"
    }
   ],
   "source": [
    "data.shape"
   ]
  },
  {
   "cell_type": "code",
   "execution_count": 61,
   "metadata": {
    "collapsed": true
   },
   "outputs": [],
   "source": [
    "data[\"text_length\"] = data[\"text\"].apply(lambda x: len(x.split()))"
   ]
  },
  {
   "cell_type": "code",
   "execution_count": 67,
   "metadata": {
    "collapsed": true
   },
   "outputs": [],
   "source": [
    "data.to_csv(\"/Volumes/BigData/Science/hse_thesis/metadata_for_every_post_and_merged_texts/merged_data_final.csv\", index=False)"
   ]
  },
  {
   "cell_type": "code",
   "execution_count": 8,
   "metadata": {
    "collapsed": false
   },
   "outputs": [
    {
     "name": "stderr",
     "output_type": "stream",
     "text": [
      "/Users/Hun/Python_env/Python3_env/lib/python3.5/site-packages/IPython/core/interactiveshell.py:2723: DtypeWarning: Columns (11,23) have mixed types. Specify dtype option on import or set low_memory=False.\n",
      "  interactivity=interactivity, compiler=compiler, result=result)\n"
     ]
    }
   ],
   "source": [
    "data = pd.read_csv(\"/Volumes/BigData/Science/hse_thesis/metadata_for_every_post_and_merged_texts/merged_data_final.csv\", parse_dates=[\"date\"])"
   ]
  },
  {
   "cell_type": "code",
   "execution_count": 3,
   "metadata": {
    "collapsed": false
   },
   "outputs": [
    {
     "data": {
      "text/plain": [
       "original_texts                 object\n",
       "text                           object\n",
       "author_id                       int64\n",
       "wall_id                         int64\n",
       "post_comment_id_int             int64\n",
       "city                           object\n",
       "date                   datetime64[ns]\n",
       "name                           object\n",
       "region                         object\n",
       "is_post                          bool\n",
       "surname                        object\n",
       "sex                            object\n",
       "country                        object\n",
       "posts                         float64\n",
       "comments                      float64\n",
       "likes                         float64\n",
       "res_comments                  float64\n",
       "res_postlikes                 float64\n",
       "res_comments_likes            float64\n",
       "friends                       float64\n",
       "groups                        float64\n",
       "followers                     float64\n",
       "post_likes                    float64\n",
       "post_repost                    object\n",
       "post_comments                 float64\n",
       "text_length                     int64\n",
       "dtype: object"
      ]
     },
     "execution_count": 3,
     "metadata": {},
     "output_type": "execute_result"
    }
   ],
   "source": [
    "data.dtypes"
   ]
  },
  {
   "cell_type": "code",
   "execution_count": 4,
   "metadata": {
    "collapsed": true
   },
   "outputs": [],
   "source": [
    "def aa(val):\n",
    "    try:\n",
    "        res = float(val)\n",
    "        return res\n",
    "    except ValueError as err:\n",
    "        print(err, val)\n",
    "        return np.nan"
   ]
  },
  {
   "cell_type": "code",
   "execution_count": 5,
   "metadata": {
    "collapsed": false
   },
   "outputs": [
    {
     "name": "stdout",
     "output_type": "stream",
     "text": [
      "could not convert string to float:   \n",
      "could not convert string to float:   \n"
     ]
    }
   ],
   "source": [
    "data[\"post_repost\"] = data[\"post_repost\"].apply(aa)"
   ]
  },
  {
   "cell_type": "code",
   "execution_count": 6,
   "metadata": {
    "collapsed": false
   },
   "outputs": [],
   "source": [
    "data[\"original_texts\"] = data[\"original_texts\"].apply(lambda x: str(x))"
   ]
  },
  {
   "cell_type": "code",
   "execution_count": 7,
   "metadata": {
    "collapsed": true
   },
   "outputs": [],
   "source": [
    "data[\"text\"] = data[\"text\"].apply(lambda x: str(x))"
   ]
  },
  {
   "cell_type": "code",
   "execution_count": 8,
   "metadata": {
    "collapsed": false
   },
   "outputs": [
    {
     "data": {
      "text/plain": [
       "(5121979, 26)"
      ]
     },
     "execution_count": 8,
     "metadata": {},
     "output_type": "execute_result"
    }
   ],
   "source": [
    "data_good_date = data[data.date >= datetime.date(year=2010,month=10,day=21)]\n",
    "data_good_date.shape"
   ]
  },
  {
   "cell_type": "code",
   "execution_count": 9,
   "metadata": {
    "collapsed": false
   },
   "outputs": [
    {
     "data": {
      "text/plain": [
       "42631"
      ]
     },
     "execution_count": 9,
     "metadata": {},
     "output_type": "execute_result"
    }
   ],
   "source": [
    "groupedby_author_sum = data_good_date.groupby(\"author_id\").agg({\"text_length\": \"sum\"})\n",
    "groupedby_author_sum_50 = groupedby_author_sum[groupedby_author_sum[\"text_length\"] >= 50]\n",
    "authors_50 = groupedby_author_sum_50.index.values\n",
    "len(authors_50)"
   ]
  },
  {
   "cell_type": "code",
   "execution_count": 10,
   "metadata": {
    "collapsed": false
   },
   "outputs": [
    {
     "data": {
      "text/plain": [
       "4414265"
      ]
     },
     "execution_count": 10,
     "metadata": {},
     "output_type": "execute_result"
    }
   ],
   "source": [
    "data_authors_50 = data_good_date[data_good_date[\"author_id\"].isin(authors_50)]\n",
    "len(data_authors_50)"
   ]
  },
  {
   "cell_type": "code",
   "execution_count": 11,
   "metadata": {
    "collapsed": true
   },
   "outputs": [],
   "source": [
    "valid_regions = data_authors_50[\"region\"].value_counts()[data_authors_50[\"region\"].value_counts() > 10000].axes[0].tolist()\n",
    "data_authors_50 = data_authors_50[data_authors_50[\"region\"].isin(valid_regions)]"
   ]
  },
  {
   "cell_type": "code",
   "execution_count": 12,
   "metadata": {
    "collapsed": false
   },
   "outputs": [
    {
     "data": {
      "text/plain": [
       "(346635, 26)"
      ]
     },
     "execution_count": 12,
     "metadata": {},
     "output_type": "execute_result"
    }
   ],
   "source": [
    "groupedby_author_sum = data_authors_50.groupby(\"author_id\").agg({\"text_length\": \"sum\"})\n",
    "authors_300 = groupedby_author_sum[groupedby_author_sum[\"text_length\"] <= 300].index.values\n",
    "data_authors_300 = data_authors_50[data_authors_50[\"author_id\"].isin(authors_300)]\n",
    "data_authors_300.shape"
   ]
  },
  {
   "cell_type": "code",
   "execution_count": 44,
   "metadata": {
    "collapsed": false
   },
   "outputs": [],
   "source": [
    "agg_dict = {'original_texts': 'sum', 'text': 'sum', \n",
    "        'city': 'first', 'region': 'first', 'sex': 'first',\n",
    "       'posts': 'first', 'comments': 'first', 'likes': 'first','res_comments': 'first', 'res_postlikes': 'first',\n",
    "       'res_comments_likes': 'first', 'friends': 'first', 'groups': 'first', 'followers': 'first',\n",
    "        'post_likes': 'sum', 'post_repost': 'sum', 'post_comments': 'sum'\n",
    "        }"
   ]
  },
  {
   "cell_type": "code",
   "execution_count": 45,
   "metadata": {
    "collapsed": false
   },
   "outputs": [],
   "source": [
    "merged_300 = data_authors_300.groupby(\"author_id\").agg(agg_dict)\n",
    "merged_300[\"original_texts\"] = merged_300[\"original_texts\"].apply(lambda x: [x])\n",
    "merged_300[\"text\"] = merged_300[\"text\"].apply(lambda x: [x])"
   ]
  },
  {
   "cell_type": "code",
   "execution_count": null,
   "metadata": {
    "collapsed": false
   },
   "outputs": [
    {
     "data": {
      "text/plain": [
       "(23877, 18)"
      ]
     },
     "execution_count": 46,
     "metadata": {},
     "output_type": "execute_result"
    }
   ],
   "source": [
    "merged_300.shape"
   ]
  },
  {
   "cell_type": "code",
   "execution_count": null,
   "metadata": {
    "collapsed": false
   },
   "outputs": [],
   "source": [
    "groupedby_author_sum = data_authors_50.groupby(\"author_id\").agg({\"text_length\": \"sum\"})\n",
    "authors_more_300 = groupedby_author_sum[groupedby_author_sum[\"text_length\"] > 300].index.values\n",
    "data_authors_more_300 = data_authors_50[data_authors_50[\"author_id\"].isin(authors_more_300)]\n",
    "data_authors_more_300.shape"
   ]
  },
  {
   "cell_type": "code",
   "execution_count": null,
   "metadata": {
    "collapsed": false
   },
   "outputs": [],
   "source": [
    "data_authors_more_300 = data_authors_more_300[data_authors_more_300[\"author_id\"] != 0]\n",
    "data_authors_more_300.shape"
   ]
  },
  {
   "cell_type": "code",
   "execution_count": 22,
   "metadata": {
    "collapsed": false
   },
   "outputs": [],
   "source": [
    "from collections import defaultdict\n",
    "\n",
    "# result = {author_id: {docs: [(\"text\", likes), ...], probs: [(t_num, prob)...], region: \"str\", age: \"str\", sex: int}, ...}\n",
    "#'original_texts': 'sum', 'text': 'sum', \n",
    "#        'city': 'first', 'region': 'first', 'sex': 'first',\n",
    "#       'posts': 'first', 'comments': 'first', 'likes': 'first','res_comments': 'first', 'res_postlikes': 'first',\n",
    "#       'res_comments_likes': 'first', 'friends': 'first', 'groups': 'first', 'followers': 'first',\n",
    "#        'post_likes': 'sum', 'post_repost': 'sum', 'post_comments': 'sum'\n",
    "merged_more_300 = {}\n",
    "for author_id, author_data in data_authors_more_300.groupby(\"author_id\"):\n",
    "\n",
    "    texts_number = len(author_data[\"text\"])\n",
    "    orig_texts_storage = \"\"\n",
    "    texts_storage = \"\"\n",
    "    post_likes_storage = 0\n",
    "    post_repost_storage = 0\n",
    "    post_comments_storage = 0\n",
    "    auth_dict = {}\n",
    "    auth_dict[\"docs\"] = []\n",
    "    auth_dict[\"region\"] = author_data[\"region\"].iloc[0]\n",
    "    auth_dict[\"city\"] = author_data[\"city\"].iloc[0]\n",
    "    auth_dict[\"sex\"] = author_data[\"sex\"].iloc[0]\n",
    "    auth_dict[\"friends\"] = author_data[\"friends\"].iloc[0]\n",
    "    auth_dict[\"followers\"] = author_data[\"followers\"].iloc[0]\n",
    "    auth_dict[\"likes\"] = author_data[\"likes\"].iloc[0]\n",
    "    auth_dict[\"posts\"] = author_data[\"posts\"].iloc[0]\n",
    "    auth_dict[\"comments\"] = author_data[\"comments\"].iloc[0]\n",
    "    auth_dict[\"res_comments\"] = author_data[\"res_comments\"].iloc[0]\n",
    "    auth_dict[\"res_comments_likes\"] = author_data[\"res_comments_likes\"].iloc[0]\n",
    "    auth_dict[\"res_postlikes\"] = author_data[\"res_postlikes\"].iloc[0]\n",
    "    auth_dict[\"groups\"] = author_data[\"groups\"].iloc[0]\n",
    "\n",
    "    \n",
    "    for text_num, text in enumerate(author_data[\"text\"]):\n",
    "        last = (text_num + 1) == texts_number\n",
    "        orig_texts_storage += author_data[\"original_texts\"].iloc[text_num]\n",
    "        texts_storage += text\n",
    "        post_likes_storage += author_data[\"post_likes\"].iloc[text_num]\n",
    "        post_repost_storage += author_data[\"post_repost\"].iloc[text_num]\n",
    "        post_comments_storage += author_data[\"post_comments\"].iloc[text_num]\n",
    "        \n",
    "        if last:\n",
    "            if len(texts_storage.split()) >= 50:\n",
    "                # если это последний документ и количество слов в нём превышает 50 — формируем документ и формируем автора\n",
    "                doc = {\"o_texts\": orig_texts_storage, \"texts\": texts_storage,\n",
    "                      \"post_likes\": post_likes_storage, \"post_repost\": post_repost_storage, \"post_comments\": post_comments_storage}\n",
    "                auth_dict[\"docs\"].append(doc)\n",
    "                merged_more_300[author_id] = auth_dict\n",
    "                orig_texts_storage = \"\"\n",
    "                texts_storage = \"\"\n",
    "                post_likes_storage = 0\n",
    "                post_repost_storage = 0\n",
    "                post_comments_storage = 0\n",
    "            else:\n",
    "                # а если не превышает — добавляем к предыдущему и формируем автора\n",
    "                doc = {\"o_texts\": orig_texts_storage, \"texts\": texts_storage,\n",
    "                      \"post_likes\": post_likes_storage, \"post_repost\": post_repost_storage, \"post_comments\": post_comments_storage}\n",
    "                auth_dict[\"docs\"][-1][\"o_texts\"] += orig_texts_storage\n",
    "                auth_dict[\"docs\"][-1][\"texts\"] += texts_storage\n",
    "                auth_dict[\"docs\"][-1][\"post_likes\"] += post_likes_storage\n",
    "                auth_dict[\"docs\"][-1][\"post_repost\"] += post_repost_storage\n",
    "                auth_dict[\"docs\"][-1][\"post_comments\"] += post_comments_storage\n",
    "                merged_more_300[author_id] = auth_dict\n",
    "                orig_texts_storage = \"\"\n",
    "                texts_storage = \"\"\n",
    "                post_likes_storage = 0\n",
    "                post_repost_storage = 0\n",
    "                post_comments_storage = 0\n",
    "        else:\n",
    "            if len(texts_storage.split()) >= 300:\n",
    "                # если количество слов в документе достигло 300 — формируем документ\n",
    "                doc = {\"o_texts\": orig_texts_storage, \"texts\": texts_storage,\n",
    "                      \"post_likes\": post_likes_storage, \"post_repost\": post_repost_storage, \"post_comments\": post_comments_storage}\n",
    "                auth_dict[\"docs\"].append(doc)\n",
    "                orig_texts_storage = \"\"\n",
    "                texts_storage = \"\"\n",
    "                post_likes_storage = 0\n",
    "                post_repost_storage = 0\n",
    "                post_comments_storage = 0\n",
    "            else:\n",
    "                # если ни одно условие не выполнено, продолжаем сливать\n",
    "                continue"
   ]
  },
  {
   "cell_type": "code",
   "execution_count": 25,
   "metadata": {
    "collapsed": false
   },
   "outputs": [
    {
     "data": {
      "text/plain": [
       "12519"
      ]
     },
     "execution_count": 25,
     "metadata": {},
     "output_type": "execute_result"
    }
   ],
   "source": [
    "len(merged_more_300)"
   ]
  },
  {
   "cell_type": "code",
   "execution_count": 32,
   "metadata": {
    "collapsed": true
   },
   "outputs": [],
   "source": [
    "merged_300_dict = merged_300.to_dict(orient=\"index\")"
   ]
  },
  {
   "cell_type": "code",
   "execution_count": 40,
   "metadata": {
    "collapsed": false
   },
   "outputs": [],
   "source": [
    "with open(\"/Volumes/BigData/Science/hse_thesis/metadata_for_every_post_and_merged_texts/aggregated_texts.csv\", \"wt\", newline=\"\") as f:\n",
    "    fieldnames = [\"author_id\", \"region\", \"city\", \"groups\", \"likes\", \"sex\",\n",
    "                  \"res_comments_likes\", \"res_comments\", \"res_postlikes\",\n",
    "                  \"friends\", \"followers\", \"comments\", \"text\", \"o_text\",\n",
    "                  \"post_comments\", \"post_likes\", \"post_repost\", \"posts\"]\n",
    "    writer = csv.DictWriter(f, fieldnames=fieldnames)\n",
    "    writer.writeheader()\n",
    "    for auth_id, val in merged_300_dict.items():\n",
    "        row_dict = {\n",
    "            \"author_id\": auth_id,\n",
    "            \"region\": val[\"region\"],\n",
    "            \"city\": val[\"city\"],\n",
    "            \"groups\": val[\"groups\"],\n",
    "            \"likes\": val[\"likes\"],\n",
    "            \"sex\": val[\"sex\"],\n",
    "            \"res_comments\": val[\"res_comments\"],\n",
    "            \"res_comments_likes\": val[\"res_comments_likes\"],\n",
    "            \"res_postlikes\": val[\"res_postlikes\"],\n",
    "            \"friends\": val[\"friends\"],\n",
    "            \"followers\": val[\"followers\"],\n",
    "            \"comments\": val[\"comments\"],\n",
    "            \"text\": val[\"docs\"][0],\n",
    "            \"o_text\": val[\"original_texts\"][0],\n",
    "            \"post_comments\": val[\"post_comments\"],\n",
    "            \"post_likes\": val[\"post_likes\"],\n",
    "            \"post_repost\": val[\"post_repost\"],\n",
    "            \"posts\": val[\"posts\"],\n",
    "        }\n",
    "        writer.writerow(row_dict)\n",
    "    for auth_id, val in merged_more_300.items():\n",
    "        for doc in val[\"docs\"]:\n",
    "            row_dict = {\n",
    "                \"author_id\": auth_id,\n",
    "                \"region\": val[\"region\"],\n",
    "                \"city\": val[\"city\"],\n",
    "                \"groups\": val[\"groups\"],\n",
    "                \"likes\": val[\"likes\"],\n",
    "                \"sex\": val[\"sex\"],\n",
    "                \"res_comments\": val[\"res_comments\"],\n",
    "                \"res_comments_likes\": val[\"res_comments_likes\"],\n",
    "                \"res_postlikes\": val[\"res_postlikes\"],\n",
    "                \"friends\": val[\"friends\"],\n",
    "                \"followers\": val[\"followers\"],\n",
    "                \"comments\": val[\"comments\"],\n",
    "                \"text\": doc[\"texts\"],\n",
    "                \"o_text\": doc[\"o_texts\"],\n",
    "                \"post_comments\": doc[\"post_comments\"],\n",
    "                \"post_likes\": doc[\"post_likes\"],\n",
    "                \"post_repost\": doc[\"post_repost\"],\n",
    "                \"posts\": val[\"posts\"],\n",
    "            }\n",
    "            writer.writerow(row_dict)"
   ]
  },
  {
   "cell_type": "code",
   "execution_count": 3,
   "metadata": {
    "collapsed": false
   },
   "outputs": [
    {
     "data": {
      "text/plain": [
       "(239732, 18)"
      ]
     },
     "execution_count": 3,
     "metadata": {},
     "output_type": "execute_result"
    }
   ],
   "source": [
    "aggregated_texts.shape"
   ]
  },
  {
   "cell_type": "code",
   "execution_count": 3,
   "metadata": {
    "collapsed": true
   },
   "outputs": [],
   "source": [
    "fieldnames = [\"o_text\", \"text\", \"author_id\", \"region\", \"city\", \"groups\", \"likes\", \"sex\",\n",
    "              \"res_comments_likes\", \"res_comments\", \"res_postlikes\",\n",
    "              \"friends\", \"followers\", \"posts\", \"comments\",\n",
    "              \"post_comments\", \"post_likes\", \"post_repost\"]"
   ]
  },
  {
   "cell_type": "code",
   "execution_count": 6,
   "metadata": {
    "collapsed": false
   },
   "outputs": [],
   "source": [
    "aggregated_texts = aggregated_texts[fieldnames]"
   ]
  },
  {
   "cell_type": "code",
   "execution_count": 9,
   "metadata": {
    "collapsed": false
   },
   "outputs": [],
   "source": [
    "aggregated_texts.to_csv(\"/Volumes/BigData/Science/hse_thesis/metadata_for_every_post_and_merged_texts/aggregated_texts_2.csv\", header=False, index=False,\n",
    "             sep=\";\", quoting=csv.QUOTE_ALL, line_terminator=\";\\r\\n\")"
   ]
  },
  {
   "cell_type": "code",
   "execution_count": 4,
   "metadata": {
    "collapsed": false
   },
   "outputs": [],
   "source": [
    "aggregated_texts = pd.read_csv(\"/Volumes/BigData/Science/hse_thesis/metadata_for_every_post_and_merged_texts/aggregated_texts.csv\",\n",
    "                               names=fieldnames, sep=\";\", quoting=csv.QUOTE_ALL)"
   ]
  },
  {
   "cell_type": "code",
   "execution_count": 5,
   "metadata": {
    "collapsed": false
   },
   "outputs": [
    {
     "data": {
      "text/html": [
       "<div>\n",
       "<table border=\"1\" class=\"dataframe\">\n",
       "  <thead>\n",
       "    <tr style=\"text-align: right;\">\n",
       "      <th></th>\n",
       "      <th>o_text</th>\n",
       "      <th>text</th>\n",
       "      <th>author_id</th>\n",
       "      <th>region</th>\n",
       "      <th>city</th>\n",
       "      <th>groups</th>\n",
       "      <th>likes</th>\n",
       "      <th>sex</th>\n",
       "      <th>res_comments_likes</th>\n",
       "      <th>res_comments</th>\n",
       "      <th>res_postlikes</th>\n",
       "      <th>friends</th>\n",
       "      <th>followers</th>\n",
       "      <th>posts</th>\n",
       "      <th>comments</th>\n",
       "      <th>post_comments</th>\n",
       "      <th>post_likes</th>\n",
       "      <th>post_repost</th>\n",
       "    </tr>\n",
       "  </thead>\n",
       "  <tbody>\n",
       "    <tr>\n",
       "      <th>0</th>\n",
       "      <td>Вы уже обзавелись новогодним настроением ?????...</td>\n",
       "      <td>{обзаводиться} {новогодний} {настроение} {прио...</td>\n",
       "      <td>3276812</td>\n",
       "      <td>Тюменская область</td>\n",
       "      <td>Тюмень</td>\n",
       "      <td>225.0</td>\n",
       "      <td>0.0</td>\n",
       "      <td>1.0</td>\n",
       "      <td>0.0</td>\n",
       "      <td>0.0</td>\n",
       "      <td>0.0</td>\n",
       "      <td>183.0</td>\n",
       "      <td>13.0</td>\n",
       "      <td>3.0</td>\n",
       "      <td>0.0</td>\n",
       "      <td>0.0</td>\n",
       "      <td>0.0</td>\n",
       "      <td>0.0</td>\n",
       "    </tr>\n",
       "    <tr>\n",
       "      <th>1</th>\n",
       "      <td>8 марта• Красивые картинки и открытки  vk.com/...</td>\n",
       "      <td>{март} {красивый} {картинка} {открытка} {vk} {...</td>\n",
       "      <td>112984077</td>\n",
       "      <td>Коми</td>\n",
       "      <td>Визинга</td>\n",
       "      <td>8.0</td>\n",
       "      <td>0.0</td>\n",
       "      <td>1.0</td>\n",
       "      <td>0.0</td>\n",
       "      <td>0.0</td>\n",
       "      <td>12.0</td>\n",
       "      <td>120.0</td>\n",
       "      <td>55.0</td>\n",
       "      <td>16.0</td>\n",
       "      <td>0.0</td>\n",
       "      <td>0.0</td>\n",
       "      <td>12.0</td>\n",
       "      <td>0.0</td>\n",
       "    </tr>\n",
       "    <tr>\n",
       "      <th>2</th>\n",
       "      <td>Привет! Я оценил тебя тут:  ¦¦¦ vk.com/app6866...</td>\n",
       "      <td>{оценивать} {vk} {играть} {разгадайка} {присое...</td>\n",
       "      <td>181727714</td>\n",
       "      <td>Липецкая область</td>\n",
       "      <td>Чаплыгин</td>\n",
       "      <td>15.0</td>\n",
       "      <td>0.0</td>\n",
       "      <td>2.0</td>\n",
       "      <td>0.0</td>\n",
       "      <td>0.0</td>\n",
       "      <td>0.0</td>\n",
       "      <td>28.0</td>\n",
       "      <td>9.0</td>\n",
       "      <td>7.0</td>\n",
       "      <td>0.0</td>\n",
       "      <td>0.0</td>\n",
       "      <td>0.0</td>\n",
       "      <td>0.0</td>\n",
       "    </tr>\n",
       "    <tr>\n",
       "      <th>3</th>\n",
       "      <td>Вау! Я считаю, что ты намного круче, чем друго...</td>\n",
       "      <td>{вау} {считать} {намного} {крутой} {vk} {kryyt...</td>\n",
       "      <td>84672530</td>\n",
       "      <td>Орловская область</td>\n",
       "      <td>Орёл</td>\n",
       "      <td>0.0</td>\n",
       "      <td>1.0</td>\n",
       "      <td>1.0</td>\n",
       "      <td>0.0</td>\n",
       "      <td>0.0</td>\n",
       "      <td>8.0</td>\n",
       "      <td>16.0</td>\n",
       "      <td>10.0</td>\n",
       "      <td>11.0</td>\n",
       "      <td>0.0</td>\n",
       "      <td>0.0</td>\n",
       "      <td>8.0</td>\n",
       "      <td>0.0</td>\n",
       "    </tr>\n",
       "    <tr>\n",
       "      <th>4</th>\n",
       "      <td>МегаТест: Насколько % ты знаешь My little pony...</td>\n",
       "      <td>{мегатест} {насколько} {pony} {бронь} {тест} {...</td>\n",
       "      <td>269877267</td>\n",
       "      <td>Вологодская область</td>\n",
       "      <td>Вологда</td>\n",
       "      <td>7.0</td>\n",
       "      <td>0.0</td>\n",
       "      <td>1.0</td>\n",
       "      <td>0.0</td>\n",
       "      <td>0.0</td>\n",
       "      <td>1.0</td>\n",
       "      <td>51.0</td>\n",
       "      <td>9.0</td>\n",
       "      <td>12.0</td>\n",
       "      <td>0.0</td>\n",
       "      <td>0.0</td>\n",
       "      <td>1.0</td>\n",
       "      <td>0.0</td>\n",
       "    </tr>\n",
       "  </tbody>\n",
       "</table>\n",
       "</div>"
      ],
      "text/plain": [
       "                                              o_text  \\\n",
       "0  Вы уже обзавелись новогодним настроением ?????...   \n",
       "1  8 марта• Красивые картинки и открытки  vk.com/...   \n",
       "2  Привет! Я оценил тебя тут:  ¦¦¦ vk.com/app6866...   \n",
       "3  Вау! Я считаю, что ты намного круче, чем друго...   \n",
       "4  МегаТест: Насколько % ты знаешь My little pony...   \n",
       "\n",
       "                                                text  author_id  \\\n",
       "0  {обзаводиться} {новогодний} {настроение} {прио...    3276812   \n",
       "1  {март} {красивый} {картинка} {открытка} {vk} {...  112984077   \n",
       "2  {оценивать} {vk} {играть} {разгадайка} {присое...  181727714   \n",
       "3  {вау} {считать} {намного} {крутой} {vk} {kryyt...   84672530   \n",
       "4  {мегатест} {насколько} {pony} {бронь} {тест} {...  269877267   \n",
       "\n",
       "                region      city  groups  likes  sex  res_comments_likes  \\\n",
       "0    Тюменская область    Тюмень   225.0    0.0  1.0                 0.0   \n",
       "1                 Коми   Визинга     8.0    0.0  1.0                 0.0   \n",
       "2     Липецкая область  Чаплыгин    15.0    0.0  2.0                 0.0   \n",
       "3    Орловская область      Орёл     0.0    1.0  1.0                 0.0   \n",
       "4  Вологодская область   Вологда     7.0    0.0  1.0                 0.0   \n",
       "\n",
       "   res_comments  res_postlikes  friends  followers  posts  comments  \\\n",
       "0           0.0            0.0    183.0       13.0    3.0       0.0   \n",
       "1           0.0           12.0    120.0       55.0   16.0       0.0   \n",
       "2           0.0            0.0     28.0        9.0    7.0       0.0   \n",
       "3           0.0            8.0     16.0       10.0   11.0       0.0   \n",
       "4           0.0            1.0     51.0        9.0   12.0       0.0   \n",
       "\n",
       "   post_comments  post_likes  post_repost  \n",
       "0            0.0         0.0          0.0  \n",
       "1            0.0        12.0          0.0  \n",
       "2            0.0         0.0          0.0  \n",
       "3            0.0         8.0          0.0  \n",
       "4            0.0         1.0          0.0  "
      ]
     },
     "execution_count": 5,
     "metadata": {},
     "output_type": "execute_result"
    }
   ],
   "source": [
    "aggregated_texts.head()"
   ]
  },
  {
   "cell_type": "code",
   "execution_count": 10,
   "metadata": {
    "collapsed": true
   },
   "outputs": [],
   "source": [
    "aggregated_texts.iloc[:100].to_csv(\"/Volumes/BigData/Science/hse_thesis/aggregated_texts_sample_default.csv\", header=False, index=False,\n",
    "             sep=\";\", quoting=csv.QUOTE_ALL, line_terminator=\";\\r\\n\")"
   ]
  },
  {
   "cell_type": "code",
   "execution_count": 10,
   "metadata": {
    "collapsed": true
   },
   "outputs": [],
   "source": [
    "def to_bracers(text):\n",
    "    return \" \".join([\"{\" + token + \"}\"for token in text.split()])\n",
    "\n",
    "aggregated_texts[\"text\"] = aggregated_texts[\"text\"].apply(to_bracers)"
   ]
  },
  {
   "cell_type": "code",
   "execution_count": 28,
   "metadata": {
    "collapsed": false
   },
   "outputs": [
    {
     "data": {
      "text/plain": [
       "(246087682,\n",
       " {'city': 'Владикавказ',\n",
       "  'comments': 0.0,\n",
       "  'docs': [{'o_texts': '#DDА всё не так,как я мечтала,Слеза лилась,душа кричала.И разговоры по ночам,У нас уже не по душам.В сердце грусть,печаль,тоска,И мне так плохо без тебя.Хочу с тобою рядом быть,И не на миг не уходить.Как трудно мне признаться в чувствах,Переступив через себя.И выдавить три этих слова,Как сильно Я люблю тебя...Ну, дай мне шанс еще одинИ я разочарую тебя дважды.Гоните в шею, хоть еще любимТого, кто подло предал вас однажды.Имей безмерную наглость поступать так, как хочешь именно ты.http://sprashivai.ru/dianadoyТы - свет, ради которого я иду домой, Мам.???Ты можешь быть в отношениях 2 года и ничего не чувствовать. Ты можешь быть в отношениях 2 месяца и чувствовать все. Время – не является мерой качества, безрассудной страсти, или любви.Сад у замка Нагоя, ЯпонияЦветочные иллюстрации от Kari Herer-А ты ее любил? Какой она была?Вдруг спросит у тебя твоя невеста.- Обычной. Как и все. Бурча едва.Одернешь руку. И поникнешь резко.- Конечно ,не любил. Об этом все забыто.Конечно,не хочу вернуть ее назад.( А если бы войти, и дверь была открыта,А если б посмотреть я мог в ее глаза)-А ведь она не я, тебе со мною лучше?Она ведь только та, что бросил и ушел!( О если бы найти от сердца ее ключик,То я бы босиком за ней одной пошел)-Какой она была? Какие в ней устои?Наверное, от злости сжимала кулаки?( Она всегда спасала своею добротою,И этим отпускала,любя,мои грехи)-Какой она была? Наверно неуклюжей?А может очень грубой, раз ты теперь со мной?( Она могла весною бродить с дождем по лужам.И пахли ее руки душистою травой)-С какой она фигурой? Какой размер груди?Какие в ней цвета всегда преобладали?( Я до сих пор забыть не смог ее духи,И линии на теле так в память мне запали)-Какой у нее голос? И как готовит ужин?А что тебе дарила всегда на Новый год?(А голос у нее всегда слегка простужен,Глаза смешно так щурит. И по утрам поет)-Но ты ее не любишь? Тебе со мной теплее!?-Конечно, не люблю. К чему этот допрос!(Конечно, не люблю...Я ей одной болею,Глаза ее мне снятся, за пеленой волос)Взяв пачку сигарет,опять шагнул за двери.(Конечно же о ней тебе всегда я врал)Старалась так она, отчаянно мне верить,А я ее всегда, с тобою предавал..Я на Спрашивай.руи чувства остыли и улетели стайками.люди как идиоты,напоминают о себе лайками.когда чувства уже простуженыи у человека есть кто-то ближе.люди как идиоты думают,что ими все еще дышат.я всё соврал. у вас обычные глаза,и голос ваш такой же как у многих,я врал, что всё хотел вернуть назад,сплетая воедино две дороги. и ваши безмятежные чертыничуть меня не душат среди ночи.да и в объятьях ваших глубины,мне кажется, не больше, чем у прочих.ещё я врал, что шёл за вами по пути,что выдержал разлуки еле-еле.я так же врал, что вас когда-нибудь любил.я врал себе... но так и не поверил..????С одной и на всю жизнь. Вот к чему нужно стремиться.А не как бомж заглядывать в каждую мусорку, и каждую звать любимой.??????Я на Спрашивай.руСмотри: я люблю тебя и выбираю тебя, день за днём, даже когда мы на сумасшедшем расстоянии. Говорят, надо бороться за любовь. Бороться надо с собой, вернее, со своими страхами, сомнениями, гордыней. И я борюсь.?Идеальных нет, есть любимые.А любимые - всегда самые лучшие.Cамая пугающая вещь в расстоянии - это то, что ты не знаешь, скучают по тебе или забывают.Но слишком знаем мы друг друга, Чтобы друг друга позабыть.#ЛермонтовВсе мы будем счастливы!Чем меньше окружающие знают о твоей жизни, тем удачнее она складывается.???Всегда приятно,когда тебя обнимает Мама - и не важно сколько тебе лет.Обожаю запах воздуха ночью. Открываю окно и дышу. Людей нет, тишина, умиротворение. Кайф.это жизнь.никогда не будет так, как ты захочешь.всё будет так, как должно быть.Ты действительно нравишься мне.Сильно.Я знаю, что иногда я все порчу и делаю вещи, по которым кажется, что мне все равно, но поверь мне..Ты мой мир.nanИногда, нам не хватает слов, чтобы сказать, что чувствуем. Иногда, нам не хватает сил признаться в том, что любим. Иногда, мы не можем понизить свою гордость и сказать: подожди, ты мне нужен, останься! А иногда мы даже не понимаем как нам дорог человек.',\n",
       "    'post_comments': 0.0,\n",
       "    'post_likes': 102.0,\n",
       "    'post_repost': 1.0,\n",
       "    'texts': 'ddа мечтать слеза литься душ кричать разговор ночь душ сердце грусть печалить тоска плохо ряд миг уходить трудно признаваться чувство переступать выдавливать тереть слово сильно любить шанс одини разочаровывать дважды гнать шея подло предавать безмерный наглость поступать sprashivai свет ида домой мама отношение чувствовать отношение месяц чувствовать время мера качество безрассудный страсть любовь сад замок нагоя япония цветочный иллюстрация kari любить спрашивать невеста обычный бурчать одергивать рука поникать резкий любить забывать вернуть назад входить дверь открывать посмотреть глаз хороший бросать уходить находить сердце ключик босиком пойти устой злость сжимать кулак спасать доброта отпускать любить грех неуклюжий грубый весна бродить дождь лужа пахнуть рука душистый трава фигура размер грудь цвет преобладать пора забывать смог дух линия теле память западать голос готовить ужин дарить голос слегка простужать глаз смешно щурить утро петь любить тепло любить допрос любить болеть глаз сниться пелена волос пачка сигарета шагнуть двери врать стараться отчаянно верить предавать спрашивать ру чувство остывать улетать стайка идиот напоминать лайка чувство простуженыи близкий идиот дышать соврать обычный глаз голос врать вернуть назад сплетать воедино дорога безмятежный чертыничуть душить ночь объятие глубина врать путь выдерживать разлука еле-еле врать любить врать поверить жизнь стремиться бомж заглядывать каждая мусорка каждая звать любимая спрашивать ру любить выбирать день сумасшедший расстояние бороться любовь бороться страх сомнение гордыня бороться идеальный любимая любимая хороший cамая пугать вещь расстояние скучать забывать друг друг друг друг позабывать лермонтов счастливый маленький окружать жизнь удачный складываться приятно обнимать мама важно обожать запах воздух ночь открывать окно дышать тишин умиротворение кайф жизнь захотеть нравиться сильно иногда портить вещий поверить мир счастие солнечный зайчик ветер трава запах корица яблоко какао одеяло холодная вечер спрятать щенячий запах мамин звонок соленый морской вод яркий чистый небо безгранично летний рассвет школьный ранец исписывать тетрадка детский смех заветный воспоминание везде присматриваться иногда хватать слово чувствовать иногда хватать сила признаваться любим иногда понижать гордость подождать иногда дорога '},\n",
       "   {'o_texts': 'По мне - самое главное в жизни, это иметь счастливую семьюНикогда не возвращайся в прошлое. Оно убивает твое драгоценное время. Истории не повторяются, люди не меняются. Никогда никого не жди и не стой на месте. Иди только вперед, не оглядывайся. Люди, которым ты нужен, тебя догонят....Я на Спрашивай.руВ жизни каждого есть такой человек, который не поддается логике, законам и принципам. Ты отлично понимаешь, что нет с ним будущего, семьи, счастья. Только боль, бесконечные разговоры и приступы какой-то неконтролируемой животной страсти. Ты гадаешь, любовь ли это, дружба, просто привычка. Отпускаешь. Думаешь, что забыла, удаляешь всё номера, смски и фотографии… А потом какой-то глупый сон, ночное смс или просто наступающий на пятки апрель — и ты уже думаешь о нем, вспоминаешь эти короткометражные моменты вашего «мы», но еще борешься. Так отчаянно и старательно, будто Брестская крепость где-то внутри тебя и никак нельзя сдаваться…Почему-то, когда он звонит, ты бросаешь все — и в омут. В этот запах еле уловимый, в эти руки , в эти усталые глаза, сообщения вконтакте и ночные пьяные звонки, время на твоих часах — его, целуешь в висок, знаешь, что еще чуть-чуть и все. Но тем не менее, идешь до конца, до последнего шага.По ночам всё, как в красивой книжке. А ты кожей чувствуешь эту обреченность. Ведь когда-нибудь, все равно, придется выбирать.Все начиналось с ничего. Ничем и закончилось.А то, что в промежутке была буря, уже не имеет значения…Не бывает плохих и хороших.Бывают свои и чужие.Не слушай шепот тех, кто якобы в курсе.Верь сердцу, доверяй своим чувствам.Ничтожен тот мужчина, который любит каждую подряд.Восхищаюсь людьми, которые не позволяют никому вмешиваться в их жизнь. Они сами ищут истину, по крупицам собирают свой мир, не обращая внимания на удивленные и осуждающие взгляды окружающих. Эти люди так многогранны, так прекрасны. Они открыты для других, но никогда не будут стучаться в двери, где им не рады. Они живут в согласии с собой, так как подсказывает им сердце. Обычно их считают безумцами, но эти люди любят жизнь, и она отвечает им взаимностью, преподнося им свои лучшие дары.Согласитесь, что счастье любимого человека приносит нам гораздо больше радости, чем наше собственноеБальзак ОнореДобро, которое ты делаешь от сердца, ты делаешь всегда себе.Лев ТолстойГлаза слепы, ищите сердцем.Сила в той, кто останется рядом с тобой. Кем бы ты ни был.так приятно смотреть, когда мама счастливаяnan',\n",
       "    'post_comments': 0.0,\n",
       "    'post_likes': 88.0,\n",
       "    'post_repost': 3.0,\n",
       "    'texts': 'жизнь счастливый возвращаться прошлое убивать драгоценный время история повторяться меняться ждать стоить место вперед оглядываться догонять спрашивать ру жизнь поддаваться логик закон принцип отлично будущее семья счастие боль бесконечный разговор приступ неконтролируемый животный страсть гадать любовь дружба привычка отпускать забывать удалять номер смска фотография пот глупый сон ночное смс наступать пятка апрель вспоминать короткометражный момент бороться отчаянно старательный брестский крепость внутри сдаваться звонить бросать омут запах еле уловимый рука усталый глаз сообщение вконтакте ночное пьяный звонкий время час целовать виска конец шаг ночь красивый книжка кожа чувствовать обреченность придтись выбирать начинаться заканчиваться промежуток бурить значение плохой хороший чужая слушать шепот якоб курс верить сердце доверять чувство ничтожный мужчина любить каждая подряд восхищаться вмешиваться жизнь искать истина крупица собирать мир обращать внимание удивленный осуждать взгляд окружать многогранный прекрасный открывать стучаться двери рад жить согласие подсказывать сердце считать безумец любить жизнь отвечать взаимность преподносить хороший дар соглашаться счастие любимый приносить радость оноре добро сердце лев толстая глаз слепой искать сердце сила ряд приятно мама счастливый скороговорка тренировка дикцииотработка звук добывать боб бобыль вакула баба обувать вакула баба обувать топот копыто пыль поле лететь бык тупогуб тупогубенький бычок бык бел губа тупой колпак колпак колпак колпак верзила вавила весело ворочать вил кол колокол ворот коловорот шакал шагать шакал скакать купить кип пик пик кип купить купить кип пух кип пух купить повар петр повар павел петр плавать павел плавать ткать ткач ткань платок таня водовоз везти вод водопровод голов голов голова переголовил перевыголовил пономарь пономарь перепономарить перевыпономарить пономарь пономарь перепономарит перевыпономарит клим клин колотить стоить копна подприкопёночком пол полет фрося просо сорняк вынашивать фрося краб краб грабли подавать грабли краб краб сено грабли краб грабить елка иголка колка кукушка кукушонок купить капюшон надевать кукушонок капюшон капюшон смешной бобер бобренок добрый бобер брать бобренок боб бобер будоражить бобренок боб забывать панкрат кондрат домкрат панкрат домкрат подымать тракт трактор ждать тракт трактор домкрат мед медовик медовик придти прокоп кипеть укроп уходить прокоп кипеть укроп прокоп кипеть укроп прокоп кипеть укроп тереть поп тереть прокопий поп тереть прокопиевич поп прокопий поп прокопиевич галка поп пугать куст увидеть попугай попугай пугать галка поп пугать галка поп куст пугать пугать сметь попугай волховал волхв хлев волхв бомбардир бонбоньерка бомбардировать барышня феофан митрофаньча тереть сын феофаныч '}],\n",
       "  'followers': 80.0,\n",
       "  'friends': 66.0,\n",
       "  'groups': 48.0,\n",
       "  'likes': 1.0,\n",
       "  'posts': 49.0,\n",
       "  'region': 'Северная Осетия - Алания',\n",
       "  'res_comments': 0.0,\n",
       "  'res_comments_likes': 0.0,\n",
       "  'res_postlikes': 305.0,\n",
       "  'sex': '1'})"
      ]
     },
     "execution_count": 28,
     "metadata": {},
     "output_type": "execute_result"
    }
   ],
   "source": [
    "list(merged_more_300.items())[1]"
   ]
  },
  {
   "cell_type": "code",
   "execution_count": 33,
   "metadata": {
    "collapsed": false
   },
   "outputs": [
    {
     "data": {
      "text/plain": [
       "(112984077,\n",
       " {'city': 'Визинга',\n",
       "  'comments': 0.0,\n",
       "  'docs': ['март красивый картинка открытка vk fotomimi наступать март красивый картинка открытка vk fotomimi отправлять vk top cards отправлять vk отправлять vk отправлять огромныеоткрытки vk request key отправлять огромный открытка рфhttps vk top cards mid loc отправлять огромный открытка рфhttps vk top cards mid loc vkontakte magic поздравлять небольшой сюрприз vkontakte postcard post отправлять огромный открытка рфhttps vk top cards mid loc отправлять огромный открытка рфhttps vk top cards mid loc подарить уникальный подарок vk mid loc ольга подбирать город котор комфортно жить vkontakte sovet youhttps vk ольга фото понравиться какое vkontakte foto likehttps vk foto mid ольга фото понравиться какое vkontakte foto likehttps vk foto mid '],\n",
       "  'followers': 55.0,\n",
       "  'friends': 120.0,\n",
       "  'groups': 8.0,\n",
       "  'likes': 0.0,\n",
       "  'original_texts': ['8 марта• Красивые картинки и открытки  vk.com/fotomimiс наступающим 8 марта • Красивые картинки и открытки  vk.com/fotomimi?Отправлено через https://vk.com/top_cards#3797419?Отправлено через https://vk.com/app1804162#3690854?Отправлено через https://vk.com/app1804162#3710527Отправлено через ОгромныеОткрытки http://vk.com/app1804162?request_key=ih003c687474703a2f2f637331313237342e757365726170692e636f6d2f75393233353130392f3135353837343938352f785f33633530303663632e6a7067i3225718i0i1i385? отправлено через: http://огромные-открытки.рфhttps://vk.com/top_cards?mid=108908195 from_id=112984077 loc=0ih003d687474703a2f2f637331303535342e757365726170692e636f6d2f7532303134313932362f3135323832373734362f785f36376538613135642e6a7067i3069033i0i1? отправлено через: http://огромные-открытки.рфhttps://vk.com/top_cards?mid=108908195 from_id=112984077 loc=0ih003e687474703a2f2f637331303032322e766b6f6e74616b74652e72752f7531363836383333382f3134333333323535312f785f31646666313265372e6a7067i2859659i0i1http://vkontakte.ru/app2406713#magic/771113Я хочу поздравить тебя уже сейчас, у меня для тебя небольшой сюрприз!http://vkontakte.ru/postcard_2012#post? отправлено через: http://огромные-открытки.рфhttps://vk.com/top_cards?mid=108908195 from_id=112984077 loc=550818063ih003e687474703a2f2f637331303638312e766b6f6e74616b74652e72752f7532303134313932362f3134393033353134362f785f64393038326639632e6a7067i2780912i6i1? отправлено через: http://огромные-открытки.рфhttps://vk.com/top_cards?mid=108908195 from_id=112984077 loc=501624071ih003e687474703a2f2f637331303533322e766b6f6e74616b74652e72752f7535313939373836372f3134393039343538392f785f35323063303632302e6a7067i2736085i0i1Подари мне уникальный подарок, пожалуйста.https://vk.com/elka2k12?mid=108908195 from_id=112984077 loc=1Ольга, я подобрала город в котором тебе будет комфортно жить, смотри http://vkontakte.ru/app2324342#sovet/for_youhttps://vk.com/app2324342_108908195?from_id=112984077Ольга!!! Одно из твоих фото мне очень понравилось. Узнай какое здесь =  http://vkontakte.ru/foto.likehttps://vk.com/foto.like?mid=108908195 from_id=112984077Ольга!!! Одно из твоих фото мне очень понравилось. Узнай какое здесь =  http://vkontakte.ru/foto.likehttps://vk.com/foto.like?mid=108908195 from_id=112984077'],\n",
       "  'post_comments': 0.0,\n",
       "  'post_likes': 12.0,\n",
       "  'post_repost': 0.0,\n",
       "  'posts': 16.0,\n",
       "  'region': 'Коми',\n",
       "  'res_comments': 0.0,\n",
       "  'res_comments_likes': 0.0,\n",
       "  'res_postlikes': 12.0,\n",
       "  'sex': 1.0})"
      ]
     },
     "execution_count": 33,
     "metadata": {},
     "output_type": "execute_result"
    }
   ],
   "source": [
    "list(merged_300_dict.items())[1]"
   ]
  },
  {
   "cell_type": "code",
   "execution_count": null,
   "metadata": {
    "collapsed": true
   },
   "outputs": [],
   "source": [
    "merged_more_300"
   ]
  },
  {
   "cell_type": "markdown",
   "metadata": {},
   "source": [
    "Выгрузка для Юры"
   ]
  },
  {
   "cell_type": "code",
   "execution_count": 9,
   "metadata": {
    "collapsed": false
   },
   "outputs": [
    {
     "data": {
      "text/plain": [
       "Index(['original_texts', 'text', 'author_id', 'wall_id', 'post_comment_id_int',\n",
       "       'city', 'date', 'name', 'region', 'is_post', 'surname', 'sex',\n",
       "       'country', 'posts', 'comments', 'likes', 'res_comments',\n",
       "       'res_postlikes', 'res_comments_likes', 'friends', 'groups', 'followers',\n",
       "       'post_likes', 'post_repost', 'post_comments', 'text_length'],\n",
       "      dtype='object')"
      ]
     },
     "execution_count": 9,
     "metadata": {},
     "output_type": "execute_result"
    }
   ],
   "source": [
    "data.columns"
   ]
  },
  {
   "cell_type": "code",
   "execution_count": 12,
   "metadata": {
    "collapsed": false
   },
   "outputs": [],
   "source": [
    "data.drop(['post_likes', 'post_repost', 'post_comments', 'text_length'], axis=1, inplace=True)"
   ]
  },
  {
   "cell_type": "code",
   "execution_count": 30,
   "metadata": {
    "collapsed": true
   },
   "outputs": [],
   "source": [
    "agg_dict = { \n",
    "        'city': 'first', 'region': 'first', 'sex': 'first',\n",
    "       'posts': 'first', 'comments': 'first', 'likes': 'first','res_comments': 'first', 'res_postlikes': 'first',\n",
    "       'res_comments_likes': 'first', 'friends': 'first', 'groups': 'first', 'followers': 'first'\n",
    "        }\n",
    "g_data = data.groupby(\"author_id\").agg(agg_dict)"
   ]
  },
  {
   "cell_type": "code",
   "execution_count": 15,
   "metadata": {
    "collapsed": false
   },
   "outputs": [
    {
     "data": {
      "text/html": [
       "<div>\n",
       "<table border=\"1\" class=\"dataframe\">\n",
       "  <thead>\n",
       "    <tr style=\"text-align: right;\">\n",
       "      <th></th>\n",
       "      <th>res_comments</th>\n",
       "      <th>res_postlikes</th>\n",
       "      <th>sex</th>\n",
       "      <th>city</th>\n",
       "      <th>region</th>\n",
       "      <th>likes</th>\n",
       "      <th>posts</th>\n",
       "      <th>friends</th>\n",
       "      <th>groups</th>\n",
       "      <th>followers</th>\n",
       "      <th>comments</th>\n",
       "      <th>res_comments_likes</th>\n",
       "    </tr>\n",
       "    <tr>\n",
       "      <th>author_id</th>\n",
       "      <th></th>\n",
       "      <th></th>\n",
       "      <th></th>\n",
       "      <th></th>\n",
       "      <th></th>\n",
       "      <th></th>\n",
       "      <th></th>\n",
       "      <th></th>\n",
       "      <th></th>\n",
       "      <th></th>\n",
       "      <th></th>\n",
       "      <th></th>\n",
       "    </tr>\n",
       "  </thead>\n",
       "  <tbody>\n",
       "    <tr>\n",
       "      <th>0</th>\n",
       "      <td>71.0</td>\n",
       "      <td>53.0</td>\n",
       "      <td>2</td>\n",
       "      <td>Барнаул</td>\n",
       "      <td>Курганская область</td>\n",
       "      <td>36.0</td>\n",
       "      <td>107.0</td>\n",
       "      <td>115.0</td>\n",
       "      <td>35.0</td>\n",
       "      <td>13.0</td>\n",
       "      <td>28.0</td>\n",
       "      <td>1.0</td>\n",
       "    </tr>\n",
       "    <tr>\n",
       "      <th>494</th>\n",
       "      <td>0.0</td>\n",
       "      <td>0.0</td>\n",
       "      <td>1</td>\n",
       "      <td>NaN</td>\n",
       "      <td>NaN</td>\n",
       "      <td>7.0</td>\n",
       "      <td>1.0</td>\n",
       "      <td>304.0</td>\n",
       "      <td>14.0</td>\n",
       "      <td>724.0</td>\n",
       "      <td>0.0</td>\n",
       "      <td>0.0</td>\n",
       "    </tr>\n",
       "    <tr>\n",
       "      <th>831</th>\n",
       "      <td>0.0</td>\n",
       "      <td>0.0</td>\n",
       "      <td>1</td>\n",
       "      <td>Санкт-Петербург</td>\n",
       "      <td>Санкт-Петербург</td>\n",
       "      <td>0.0</td>\n",
       "      <td>10.0</td>\n",
       "      <td>476.0</td>\n",
       "      <td>45.0</td>\n",
       "      <td>1780.0</td>\n",
       "      <td>0.0</td>\n",
       "      <td>0.0</td>\n",
       "    </tr>\n",
       "    <tr>\n",
       "      <th>1073</th>\n",
       "      <td>0.0</td>\n",
       "      <td>0.0</td>\n",
       "      <td>1</td>\n",
       "      <td>Москва</td>\n",
       "      <td>Москва</td>\n",
       "      <td>0.0</td>\n",
       "      <td>1.0</td>\n",
       "      <td>590.0</td>\n",
       "      <td>64.0</td>\n",
       "      <td>2282.0</td>\n",
       "      <td>0.0</td>\n",
       "      <td>0.0</td>\n",
       "    </tr>\n",
       "    <tr>\n",
       "      <th>1332</th>\n",
       "      <td>0.0</td>\n",
       "      <td>0.0</td>\n",
       "      <td>2</td>\n",
       "      <td>Санкт-Петербург</td>\n",
       "      <td>Санкт-Петербург</td>\n",
       "      <td>0.0</td>\n",
       "      <td>1.0</td>\n",
       "      <td>99.0</td>\n",
       "      <td>50.0</td>\n",
       "      <td>273.0</td>\n",
       "      <td>0.0</td>\n",
       "      <td>0.0</td>\n",
       "    </tr>\n",
       "  </tbody>\n",
       "</table>\n",
       "</div>"
      ],
      "text/plain": [
       "           res_comments  res_postlikes sex             city  \\\n",
       "author_id                                                     \n",
       "0                  71.0           53.0   2          Барнаул   \n",
       "494                 0.0            0.0   1              NaN   \n",
       "831                 0.0            0.0   1  Санкт-Петербург   \n",
       "1073                0.0            0.0   1           Москва   \n",
       "1332                0.0            0.0   2  Санкт-Петербург   \n",
       "\n",
       "                       region  likes  posts  friends  groups  followers  \\\n",
       "author_id                                                                 \n",
       "0          Курганская область   36.0  107.0    115.0    35.0       13.0   \n",
       "494                       NaN    7.0    1.0    304.0    14.0      724.0   \n",
       "831           Санкт-Петербург    0.0   10.0    476.0    45.0     1780.0   \n",
       "1073                   Москва    0.0    1.0    590.0    64.0     2282.0   \n",
       "1332          Санкт-Петербург    0.0    1.0     99.0    50.0      273.0   \n",
       "\n",
       "           comments  res_comments_likes  \n",
       "author_id                                \n",
       "0              28.0                 1.0  \n",
       "494             0.0                 0.0  \n",
       "831             0.0                 0.0  \n",
       "1073            0.0                 0.0  \n",
       "1332            0.0                 0.0  "
      ]
     },
     "execution_count": 15,
     "metadata": {},
     "output_type": "execute_result"
    }
   ],
   "source": [
    "g_data.head()"
   ]
  },
  {
   "cell_type": "code",
   "execution_count": 18,
   "metadata": {
    "collapsed": false
   },
   "outputs": [],
   "source": [
    "ids_for_tm = set(aggregated_texts.groupby(\"author_id\").groups.keys())"
   ]
  },
  {
   "cell_type": "code",
   "execution_count": 20,
   "metadata": {
    "collapsed": false
   },
   "outputs": [
    {
     "data": {
      "text/plain": [
       "36396"
      ]
     },
     "execution_count": 20,
     "metadata": {},
     "output_type": "execute_result"
    }
   ],
   "source": [
    "len(ids_for_tm)"
   ]
  },
  {
   "cell_type": "code",
   "execution_count": 32,
   "metadata": {
    "collapsed": false
   },
   "outputs": [],
   "source": [
    "g_data[\"for_tm\"] = g_data.index.isin(ids_for_tm)"
   ]
  },
  {
   "cell_type": "code",
   "execution_count": 31,
   "metadata": {
    "collapsed": false
   },
   "outputs": [
    {
     "data": {
      "text/plain": [
       "(417703, 12)"
      ]
     },
     "execution_count": 31,
     "metadata": {},
     "output_type": "execute_result"
    }
   ],
   "source": [
    "g_data.shape"
   ]
  },
  {
   "cell_type": "code",
   "execution_count": 35,
   "metadata": {
    "collapsed": false
   },
   "outputs": [],
   "source": [
    "g_data.to_csv(\"/Volumes/BigData/Science/hse_thesis/vk_users_for_Yura.csv\", sep=\";\", encoding=\"CP1251\")"
   ]
  },
  {
   "cell_type": "code",
   "execution_count": 2,
   "metadata": {
    "collapsed": true
   },
   "outputs": [],
   "source": [
    "d = pd.read_csv(\"/Users/Hun/Downloads/totmlda.csv\", sep=\";\", quoting=csv.QUOTE_ALL, encoding=\"CP1251\")"
   ]
  },
  {
   "cell_type": "code",
   "execution_count": 3,
   "metadata": {
    "collapsed": false
   },
   "outputs": [
    {
     "data": {
      "text/html": [
       "<div>\n",
       "<table border=\"1\" class=\"dataframe\">\n",
       "  <thead>\n",
       "    <tr style=\"text-align: right;\">\n",
       "      <th></th>\n",
       "      <th>Оригинальный документ один</th>\n",
       "      <th>{лематизированный} {документ} {один}</th>\n",
       "      <th>Nick1</th>\n",
       "      <th>md1</th>\n",
       "      <th>md2</th>\n",
       "      <th>md3</th>\n",
       "      <th>md4</th>\n",
       "      <th>md5</th>\n",
       "      <th>md6</th>\n",
       "      <th>md7</th>\n",
       "      <th>...</th>\n",
       "      <th>Unnamed: 14</th>\n",
       "      <th>Unnamed: 15</th>\n",
       "      <th>Unnamed: 16</th>\n",
       "      <th>md15</th>\n",
       "      <th>Unnamed: 18</th>\n",
       "      <th>Unnamed: 19</th>\n",
       "      <th>Unnamed: 20</th>\n",
       "      <th>Unnamed: 21</th>\n",
       "      <th>md20</th>\n",
       "      <th>Unnamed: 23</th>\n",
       "    </tr>\n",
       "  </thead>\n",
       "  <tbody>\n",
       "    <tr>\n",
       "      <th>0</th>\n",
       "      <td>Оригинальный документ два</td>\n",
       "      <td>{лематизированный} {документ} {два}</td>\n",
       "      <td>Nick2</td>\n",
       "      <td>md21</td>\n",
       "      <td>md22</td>\n",
       "      <td>md23</td>\n",
       "      <td>md24</td>\n",
       "      <td>md25</td>\n",
       "      <td>md26</td>\n",
       "      <td>md27</td>\n",
       "      <td>...</td>\n",
       "      <td>NaN</td>\n",
       "      <td>NaN</td>\n",
       "      <td>NaN</td>\n",
       "      <td>NaN</td>\n",
       "      <td>NaN</td>\n",
       "      <td>md217</td>\n",
       "      <td>NaN</td>\n",
       "      <td>NaN</td>\n",
       "      <td>md220</td>\n",
       "      <td>NaN</td>\n",
       "    </tr>\n",
       "    <tr>\n",
       "      <th>1</th>\n",
       "      <td>Оригинальный документ три</td>\n",
       "      <td>{лематизированный} {документ} {три}</td>\n",
       "      <td>Nick1</td>\n",
       "      <td>md1</td>\n",
       "      <td>md2</td>\n",
       "      <td>md3</td>\n",
       "      <td>md4</td>\n",
       "      <td>md5</td>\n",
       "      <td>md6</td>\n",
       "      <td>md7</td>\n",
       "      <td>...</td>\n",
       "      <td>NaN</td>\n",
       "      <td>NaN</td>\n",
       "      <td>NaN</td>\n",
       "      <td>md15</td>\n",
       "      <td>NaN</td>\n",
       "      <td>NaN</td>\n",
       "      <td>NaN</td>\n",
       "      <td>NaN</td>\n",
       "      <td>md20</td>\n",
       "      <td>NaN</td>\n",
       "    </tr>\n",
       "    <tr>\n",
       "      <th>2</th>\n",
       "      <td>Оригинальный документ четыре</td>\n",
       "      <td>{лематизированный} {документ} {четыре}</td>\n",
       "      <td>Nick2</td>\n",
       "      <td>md21</td>\n",
       "      <td>md22</td>\n",
       "      <td>md23</td>\n",
       "      <td>md24</td>\n",
       "      <td>md25</td>\n",
       "      <td>md26</td>\n",
       "      <td>md27</td>\n",
       "      <td>...</td>\n",
       "      <td>NaN</td>\n",
       "      <td>NaN</td>\n",
       "      <td>NaN</td>\n",
       "      <td>NaN</td>\n",
       "      <td>NaN</td>\n",
       "      <td>md217</td>\n",
       "      <td>NaN</td>\n",
       "      <td>NaN</td>\n",
       "      <td>md220</td>\n",
       "      <td>NaN</td>\n",
       "    </tr>\n",
       "    <tr>\n",
       "      <th>3</th>\n",
       "      <td>Оригинальный документ пять</td>\n",
       "      <td>{лематизированный} {документ} {птяь}</td>\n",
       "      <td>Nick1</td>\n",
       "      <td>md1</td>\n",
       "      <td>md2</td>\n",
       "      <td>md3</td>\n",
       "      <td>md4</td>\n",
       "      <td>md5</td>\n",
       "      <td>md6</td>\n",
       "      <td>md7</td>\n",
       "      <td>...</td>\n",
       "      <td>NaN</td>\n",
       "      <td>NaN</td>\n",
       "      <td>NaN</td>\n",
       "      <td>md15</td>\n",
       "      <td>NaN</td>\n",
       "      <td>NaN</td>\n",
       "      <td>NaN</td>\n",
       "      <td>NaN</td>\n",
       "      <td>md20</td>\n",
       "      <td>NaN</td>\n",
       "    </tr>\n",
       "    <tr>\n",
       "      <th>4</th>\n",
       "      <td>Оригинальный документ шесть</td>\n",
       "      <td>{лематизированный} {документ} {шесть}</td>\n",
       "      <td>Nick2</td>\n",
       "      <td>md21</td>\n",
       "      <td>md22</td>\n",
       "      <td>md23</td>\n",
       "      <td>md24</td>\n",
       "      <td>md25</td>\n",
       "      <td>md26</td>\n",
       "      <td>md27</td>\n",
       "      <td>...</td>\n",
       "      <td>NaN</td>\n",
       "      <td>NaN</td>\n",
       "      <td>NaN</td>\n",
       "      <td>NaN</td>\n",
       "      <td>NaN</td>\n",
       "      <td>md217</td>\n",
       "      <td>NaN</td>\n",
       "      <td>NaN</td>\n",
       "      <td>md220</td>\n",
       "      <td>NaN</td>\n",
       "    </tr>\n",
       "    <tr>\n",
       "      <th>5</th>\n",
       "      <td>Оригинальный документ семь</td>\n",
       "      <td>{лематизированный} {документ} {семь}</td>\n",
       "      <td>Nick1</td>\n",
       "      <td>md1</td>\n",
       "      <td>md2</td>\n",
       "      <td>md3</td>\n",
       "      <td>md4</td>\n",
       "      <td>md5</td>\n",
       "      <td>md6</td>\n",
       "      <td>md7</td>\n",
       "      <td>...</td>\n",
       "      <td>NaN</td>\n",
       "      <td>NaN</td>\n",
       "      <td>NaN</td>\n",
       "      <td>md15</td>\n",
       "      <td>NaN</td>\n",
       "      <td>NaN</td>\n",
       "      <td>NaN</td>\n",
       "      <td>NaN</td>\n",
       "      <td>md20</td>\n",
       "      <td>NaN</td>\n",
       "    </tr>\n",
       "    <tr>\n",
       "      <th>6</th>\n",
       "      <td>Оригинальный документ восемь</td>\n",
       "      <td>{лематизированный} {документ} {восемь}</td>\n",
       "      <td>Nick2</td>\n",
       "      <td>md21</td>\n",
       "      <td>md22</td>\n",
       "      <td>md23</td>\n",
       "      <td>md24</td>\n",
       "      <td>md25</td>\n",
       "      <td>md26</td>\n",
       "      <td>md27</td>\n",
       "      <td>...</td>\n",
       "      <td>NaN</td>\n",
       "      <td>NaN</td>\n",
       "      <td>NaN</td>\n",
       "      <td>NaN</td>\n",
       "      <td>NaN</td>\n",
       "      <td>md217</td>\n",
       "      <td>NaN</td>\n",
       "      <td>NaN</td>\n",
       "      <td>md220</td>\n",
       "      <td>NaN</td>\n",
       "    </tr>\n",
       "  </tbody>\n",
       "</table>\n",
       "<p>7 rows × 24 columns</p>\n",
       "</div>"
      ],
      "text/plain": [
       "     Оригинальный документ один    {лематизированный} {документ} {один}  \\\n",
       "0     Оригинальный документ два     {лематизированный} {документ} {два}   \n",
       "1     Оригинальный документ три     {лематизированный} {документ} {три}   \n",
       "2  Оригинальный документ четыре  {лематизированный} {документ} {четыре}   \n",
       "3    Оригинальный документ пять    {лематизированный} {документ} {птяь}   \n",
       "4   Оригинальный документ шесть   {лематизированный} {документ} {шесть}   \n",
       "5    Оригинальный документ семь    {лематизированный} {документ} {семь}   \n",
       "6  Оригинальный документ восемь  {лематизированный} {документ} {восемь}   \n",
       "\n",
       "   Nick1   md1   md2   md3   md4   md5   md6   md7     ...      Unnamed: 14  \\\n",
       "0  Nick2  md21  md22  md23  md24  md25  md26  md27     ...              NaN   \n",
       "1  Nick1   md1   md2   md3   md4   md5   md6   md7     ...              NaN   \n",
       "2  Nick2  md21  md22  md23  md24  md25  md26  md27     ...              NaN   \n",
       "3  Nick1   md1   md2   md3   md4   md5   md6   md7     ...              NaN   \n",
       "4  Nick2  md21  md22  md23  md24  md25  md26  md27     ...              NaN   \n",
       "5  Nick1   md1   md2   md3   md4   md5   md6   md7     ...              NaN   \n",
       "6  Nick2  md21  md22  md23  md24  md25  md26  md27     ...              NaN   \n",
       "\n",
       "   Unnamed: 15  Unnamed: 16  md15  Unnamed: 18  Unnamed: 19  Unnamed: 20  \\\n",
       "0          NaN          NaN   NaN          NaN        md217          NaN   \n",
       "1          NaN          NaN  md15          NaN          NaN          NaN   \n",
       "2          NaN          NaN   NaN          NaN        md217          NaN   \n",
       "3          NaN          NaN  md15          NaN          NaN          NaN   \n",
       "4          NaN          NaN   NaN          NaN        md217          NaN   \n",
       "5          NaN          NaN  md15          NaN          NaN          NaN   \n",
       "6          NaN          NaN   NaN          NaN        md217          NaN   \n",
       "\n",
       "  Unnamed: 21   md20 Unnamed: 23  \n",
       "0         NaN  md220         NaN  \n",
       "1         NaN   md20         NaN  \n",
       "2         NaN  md220         NaN  \n",
       "3         NaN   md20         NaN  \n",
       "4         NaN  md220         NaN  \n",
       "5         NaN   md20         NaN  \n",
       "6         NaN  md220         NaN  \n",
       "\n",
       "[7 rows x 24 columns]"
      ]
     },
     "execution_count": 3,
     "metadata": {},
     "output_type": "execute_result"
    }
   ],
   "source": [
    "d"
   ]
  },
  {
   "cell_type": "code",
   "execution_count": null,
   "metadata": {
    "collapsed": true
   },
   "outputs": [],
   "source": []
  }
 ],
 "metadata": {
  "kernelspec": {
   "display_name": "Python 3",
   "language": "python",
   "name": "python3"
  },
  "language_info": {
   "codemirror_mode": {
    "name": "ipython",
    "version": 3
   },
   "file_extension": ".py",
   "mimetype": "text/x-python",
   "name": "python",
   "nbconvert_exporter": "python",
   "pygments_lexer": "ipython3",
   "version": "3.5.2"
  }
 },
 "nbformat": 4,
 "nbformat_minor": 0
}
