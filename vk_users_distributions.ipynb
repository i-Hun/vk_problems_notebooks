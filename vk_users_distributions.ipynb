{
 "cells": [
  {
   "cell_type": "code",
   "execution_count": 131,
   "metadata": {
    "collapsed": true
   },
   "outputs": [],
   "source": [
    "import pandas as pd\n",
    "import feather\n",
    "import numpy as np\n",
    "import csv\n",
    "import datetime\n",
    "from altair import *\n",
    "import numpy as np\n",
    "import matplotlib\n",
    "import matplotlib.pyplot as plt\n",
    "plt.style.use('classic')\n",
    "%matplotlib inline\n",
    "# import seaborn as sns\n",
    "# sns.set(color_codes=True)\n",
    "pd.set_option('display.max_columns', 200)\n"
   ]
  },
  {
   "cell_type": "code",
   "execution_count": 107,
   "metadata": {
    "collapsed": false
   },
   "outputs": [
    {
     "data": {
      "text/plain": [
       "['seaborn-white',\n",
       " 'seaborn-talk',\n",
       " 'grayscale',\n",
       " 'seaborn-muted',\n",
       " 'seaborn-paper',\n",
       " 'classic',\n",
       " 'seaborn-bright',\n",
       " 'seaborn-deep',\n",
       " 'seaborn-poster',\n",
       " 'fivethirtyeight',\n",
       " 'seaborn-pastel',\n",
       " 'seaborn-whitegrid',\n",
       " 'seaborn-notebook',\n",
       " 'seaborn-dark-palette',\n",
       " 'seaborn-darkgrid',\n",
       " 'bmh',\n",
       " 'dark_background',\n",
       " 'seaborn-dark',\n",
       " 'seaborn-ticks',\n",
       " 'ggplot',\n",
       " 'seaborn-colorblind']"
      ]
     },
     "execution_count": 107,
     "metadata": {},
     "output_type": "execute_result"
    }
   ],
   "source": [
    "plt.style.available"
   ]
  },
  {
   "cell_type": "code",
   "execution_count": 2,
   "metadata": {
    "collapsed": false
   },
   "outputs": [
    {
     "name": "stderr",
     "output_type": "stream",
     "text": [
      "b'Skipping line 413210: expected 23 fields, saw 24\\nSkipping line 413751: expected 23 fields, saw 24\\n'\n",
      "b'Skipping line 746133: expected 23 fields, saw 24\\nSkipping line 746165: expected 23 fields, saw 24\\n'\n",
      "b'Skipping line 814139: expected 23 fields, saw 24\\n'\n",
      "b'Skipping line 902422: expected 23 fields, saw 24\\nSkipping line 902467: expected 23 fields, saw 24\\nSkipping line 902469: expected 23 fields, saw 24\\n'\n",
      "b'Skipping line 1022404: expected 23 fields, saw 24\\nSkipping line 1047956: expected 23 fields, saw 24\\n'\n",
      "b'Skipping line 1356861: expected 23 fields, saw 24\\nSkipping line 1356862: expected 23 fields, saw 24\\nSkipping line 1356863: expected 23 fields, saw 24\\nSkipping line 1356864: expected 23 fields, saw 24\\nSkipping line 1356865: expected 23 fields, saw 24\\nSkipping line 1356866: expected 23 fields, saw 24\\nSkipping line 1356867: expected 23 fields, saw 24\\nSkipping line 1356868: expected 23 fields, saw 24\\nSkipping line 1356869: expected 23 fields, saw 24\\nSkipping line 1356870: expected 23 fields, saw 24\\nSkipping line 1356871: expected 23 fields, saw 24\\nSkipping line 1356872: expected 23 fields, saw 24\\nSkipping line 1356873: expected 23 fields, saw 24\\nSkipping line 1356874: expected 23 fields, saw 24\\nSkipping line 1356875: expected 23 fields, saw 24\\nSkipping line 1356876: expected 23 fields, saw 24\\nSkipping line 1356877: expected 23 fields, saw 24\\nSkipping line 1356878: expected 23 fields, saw 24\\nSkipping line 1356879: expected 23 fields, saw 24\\nSkipping line 1356880: expected 23 fields, saw 24\\nSkipping line 1356881: expected 23 fields, saw 24\\nSkipping line 1356882: expected 23 fields, saw 24\\nSkipping line 1356883: expected 23 fields, saw 24\\nSkipping line 1356884: expected 23 fields, saw 24\\nSkipping line 1356885: expected 23 fields, saw 24\\nSkipping line 1356886: expected 23 fields, saw 24\\nSkipping line 1356887: expected 23 fields, saw 24\\nSkipping line 1356888: expected 23 fields, saw 24\\nSkipping line 1356889: expected 23 fields, saw 24\\nSkipping line 1356890: expected 23 fields, saw 24\\nSkipping line 1356891: expected 23 fields, saw 24\\nSkipping line 1356892: expected 23 fields, saw 24\\nSkipping line 1356893: expected 23 fields, saw 24\\nSkipping line 1356894: expected 23 fields, saw 24\\nSkipping line 1356895: expected 23 fields, saw 24\\nSkipping line 1356896: expected 23 fields, saw 24\\nSkipping line 1356897: expected 23 fields, saw 24\\nSkipping line 1356898: expected 23 fields, saw 24\\nSkipping line 1356901: expected 23 fields, saw 24\\nSkipping line 1356902: expected 23 fields, saw 24\\nSkipping line 1356903: expected 23 fields, saw 24\\nSkipping line 1356904: expected 23 fields, saw 24\\nSkipping line 1356907: expected 23 fields, saw 24\\n'\n",
      "b'Skipping line 1619204: expected 23 fields, saw 24\\nSkipping line 1619205: expected 23 fields, saw 24\\n'\n",
      "b'Skipping line 1707814: expected 23 fields, saw 24\\n'\n",
      "b'Skipping line 1740477: expected 23 fields, saw 24\\nSkipping line 1740537: expected 23 fields, saw 24\\nSkipping line 1740565: expected 23 fields, saw 24\\nSkipping line 1740566: expected 23 fields, saw 24\\nSkipping line 1740567: expected 23 fields, saw 24\\nSkipping line 1740626: expected 23 fields, saw 24\\n'\n",
      "b'Skipping line 2178468: expected 23 fields, saw 24\\nSkipping line 2178469: expected 23 fields, saw 24\\n'\n",
      "b'Skipping line 2334157: expected 23 fields, saw 24\\n'\n",
      "b'Skipping line 2392591: expected 23 fields, saw 24\\n'\n",
      "b'Skipping line 2640410: expected 23 fields, saw 24\\n'\n",
      "b'Skipping line 2688513: expected 23 fields, saw 24\\nSkipping line 2688519: expected 23 fields, saw 24\\nSkipping line 2688574: expected 23 fields, saw 24\\nSkipping line 2688583: expected 23 fields, saw 24\\nSkipping line 2688586: expected 23 fields, saw 24\\nSkipping line 2688635: expected 23 fields, saw 24\\n'\n",
      "b'Skipping line 2795184: expected 23 fields, saw 24\\n'\n",
      "b'Skipping line 2971097: expected 23 fields, saw 24\\nSkipping line 2971123: expected 23 fields, saw 24\\nSkipping line 2971148: expected 23 fields, saw 24\\nSkipping line 2971198: expected 23 fields, saw 24\\nSkipping line 2971216: expected 23 fields, saw 24\\nSkipping line 2971232: expected 23 fields, saw 24\\nSkipping line 2977275: expected 23 fields, saw 24\\n'\n",
      "b'Skipping line 3201371: expected 23 fields, saw 24\\n'\n",
      "b'Skipping line 3313715: expected 23 fields, saw 24\\n'\n",
      "b'Skipping line 3426668: expected 23 fields, saw 24\\nSkipping line 3426669: expected 23 fields, saw 24\\nSkipping line 3426670: expected 23 fields, saw 24\\nSkipping line 3426671: expected 23 fields, saw 24\\nSkipping line 3436363: expected 23 fields, saw 25\\n'\n",
      "b'Skipping line 3502478: expected 23 fields, saw 25\\n'\n",
      "b'Skipping line 3562776: expected 23 fields, saw 25\\n'\n",
      "b'Skipping line 3585405: expected 23 fields, saw 24\\n'\n",
      "b'Skipping line 3682349: expected 23 fields, saw 24\\n'\n",
      "b'Skipping line 3733579: expected 23 fields, saw 24\\n'\n",
      "b'Skipping line 3883884: expected 23 fields, saw 24\\nSkipping line 3883944: expected 23 fields, saw 24\\nSkipping line 3893302: expected 23 fields, saw 24\\nSkipping line 3893303: expected 23 fields, saw 24\\n'\n",
      "b'Skipping line 3915731: expected 23 fields, saw 24\\nSkipping line 3915737: expected 23 fields, saw 24\\n'\n",
      "b'Skipping line 4101218: expected 23 fields, saw 24\\nSkipping line 4102130: expected 23 fields, saw 24\\nSkipping line 4102213: expected 23 fields, saw 24\\nSkipping line 4102214: expected 23 fields, saw 24\\n'\n",
      "b'Skipping line 4274344: expected 23 fields, saw 24\\n'\n",
      "b'Skipping line 4339168: expected 23 fields, saw 24\\nSkipping line 4339169: expected 23 fields, saw 24\\n'\n",
      "b'Skipping line 4396552: expected 23 fields, saw 24\\nSkipping line 4396553: expected 23 fields, saw 24\\nSkipping line 4396584: expected 23 fields, saw 24\\nSkipping line 4396602: expected 23 fields, saw 24\\nSkipping line 4396681: expected 23 fields, saw 24\\nSkipping line 4396710: expected 23 fields, saw 24\\nSkipping line 4396767: expected 23 fields, saw 24\\nSkipping line 4397022: expected 23 fields, saw 24\\nSkipping line 4397024: expected 23 fields, saw 24\\nSkipping line 4397025: expected 23 fields, saw 24\\nSkipping line 4397027: expected 23 fields, saw 24\\nSkipping line 4397092: expected 23 fields, saw 24\\nSkipping line 4397093: expected 23 fields, saw 24\\nSkipping line 4397161: expected 23 fields, saw 24\\nSkipping line 4397239: expected 23 fields, saw 24\\nSkipping line 4397244: expected 23 fields, saw 24\\nSkipping line 4397267: expected 23 fields, saw 24\\nSkipping line 4397302: expected 23 fields, saw 24\\nSkipping line 4397394: expected 23 fields, saw 24\\nSkipping line 4397400: expected 23 fields, saw 24\\nSkipping line 4397429: expected 23 fields, saw 24\\n'\n",
      "b'Skipping line 4539397: expected 23 fields, saw 24\\n'\n",
      "b'Skipping line 4604238: expected 23 fields, saw 24\\nSkipping line 4604239: expected 23 fields, saw 24\\nSkipping line 4621753: expected 23 fields, saw 25\\nSkipping line 4621754: expected 23 fields, saw 25\\n'\n",
      "b'Skipping line 4623347: expected 23 fields, saw 25\\nSkipping line 4623348: expected 23 fields, saw 25\\nSkipping line 4623351: expected 23 fields, saw 25\\nSkipping line 4623718: expected 23 fields, saw 25\\nSkipping line 4623778: expected 23 fields, saw 25\\nSkipping line 4623820: expected 23 fields, saw 25\\nSkipping line 4624025: expected 23 fields, saw 25\\nSkipping line 4624026: expected 23 fields, saw 25\\nSkipping line 4624147: expected 23 fields, saw 25\\nSkipping line 4624181: expected 23 fields, saw 25\\nSkipping line 4624205: expected 23 fields, saw 25\\nSkipping line 4624697: expected 23 fields, saw 25\\n'\n",
      "b'Skipping line 4699491: expected 23 fields, saw 24\\n'\n",
      "b'Skipping line 4871212: expected 23 fields, saw 24\\nSkipping line 4871499: expected 23 fields, saw 24\\n'\n",
      "b'Skipping line 4921489: expected 23 fields, saw 24\\n'\n",
      "b'Skipping line 5096047: expected 23 fields, saw 24\\nSkipping line 5096048: expected 23 fields, saw 24\\nSkipping line 5096049: expected 23 fields, saw 24\\n'\n",
      "b'Skipping line 5194366: expected 23 fields, saw 24\\n'\n",
      "b'Skipping line 5798351: expected 23 fields, saw 24\\n'\n",
      "b'Skipping line 5934594: expected 23 fields, saw 24\\nSkipping line 5934596: expected 23 fields, saw 24\\n'\n",
      "b'Skipping line 6036171: expected 23 fields, saw 24\\n'\n",
      "b'Skipping line 6358652: expected 23 fields, saw 24\\n'\n",
      "b'Skipping line 6423459: expected 23 fields, saw 24\\n'\n",
      "b'Skipping line 6440261: expected 23 fields, saw 24\\nSkipping line 6441078: expected 23 fields, saw 24\\nSkipping line 6441080: expected 23 fields, saw 24\\n'\n",
      "b'Skipping line 6768716: expected 23 fields, saw 24\\nSkipping line 6769152: expected 23 fields, saw 24\\nSkipping line 6769153: expected 23 fields, saw 24\\n'\n",
      "b'Skipping line 7051751: expected 23 fields, saw 24\\nSkipping line 7051767: expected 23 fields, saw 24\\nSkipping line 7051768: expected 23 fields, saw 24\\nSkipping line 7051769: expected 23 fields, saw 24\\nSkipping line 7051778: expected 23 fields, saw 24\\nSkipping line 7051779: expected 23 fields, saw 24\\nSkipping line 7059673: expected 23 fields, saw 24\\nSkipping line 7059725: expected 23 fields, saw 24\\nSkipping line 7059734: expected 23 fields, saw 24\\nSkipping line 7059735: expected 23 fields, saw 24\\nSkipping line 7059736: expected 23 fields, saw 24\\nSkipping line 7059739: expected 23 fields, saw 24\\n'\n",
      "b'Skipping line 7393586: expected 23 fields, saw 24\\nSkipping line 7393587: expected 23 fields, saw 24\\n'\n",
      "b'Skipping line 7440540: expected 23 fields, saw 24\\nSkipping line 7440974: expected 23 fields, saw 24\\nSkipping line 7441017: expected 23 fields, saw 24\\nSkipping line 7441021: expected 23 fields, saw 24\\nSkipping line 7441367: expected 23 fields, saw 24\\nSkipping line 7441665: expected 23 fields, saw 24\\n'\n",
      "b'Skipping line 7551391: expected 23 fields, saw 24\\nSkipping line 7551395: expected 23 fields, saw 24\\n'\n",
      "b'Skipping line 7662684: expected 23 fields, saw 24\\n'\n",
      "b'Skipping line 7737109: expected 23 fields, saw 24\\nSkipping line 7737110: expected 23 fields, saw 24\\n'\n",
      "b'Skipping line 7776278: expected 23 fields, saw 24\\nSkipping line 7776280: expected 23 fields, saw 24\\n'\n",
      "b'Skipping line 7857260: expected 23 fields, saw 24\\nSkipping line 7861334: expected 23 fields, saw 24\\nSkipping line 7861335: expected 23 fields, saw 24\\n'\n",
      "b'Skipping line 7962993: expected 23 fields, saw 24\\n'\n",
      "b'Skipping line 8012434: expected 23 fields, saw 24\\nSkipping line 8012435: expected 23 fields, saw 24\\n'\n",
      "b'Skipping line 8129895: expected 23 fields, saw 24\\nSkipping line 8129900: expected 23 fields, saw 24\\n'\n",
      "b'Skipping line 8242023: expected 23 fields, saw 31\\n'\n",
      "/Users/Hun/Python_env/Python3_env/lib/python3.5/site-packages/IPython/core/interactiveshell.py:2717: DtypeWarning: Columns (7,20,21,22) have mixed types. Specify dtype option on import or set low_memory=False.\n",
      "  interactivity=interactivity, compiler=compiler, result=result)\n"
     ]
    }
   ],
   "source": [
    "meta = pd.read_csv(\"/Volumes/BigData/Science/hse_thesis/metadata_for_every_post_and_merged_texts/metadata.csv\",\n",
    "                   encoding=\"CP1251\", header=None, error_bad_lines=False)"
   ]
  },
  {
   "cell_type": "code",
   "execution_count": 3,
   "metadata": {
    "collapsed": false
   },
   "outputs": [
    {
     "data": {
      "text/plain": [
       "(8241864, 23)"
      ]
     },
     "execution_count": 3,
     "metadata": {},
     "output_type": "execute_result"
    }
   ],
   "source": [
    "meta.shape"
   ]
  },
  {
   "cell_type": "code",
   "execution_count": 4,
   "metadata": {
    "collapsed": false
   },
   "outputs": [
    {
     "data": {
      "text/html": [
       "<div>\n",
       "<table border=\"1\" class=\"dataframe\">\n",
       "  <thead>\n",
       "    <tr style=\"text-align: right;\">\n",
       "      <th></th>\n",
       "      <th>0</th>\n",
       "      <th>1</th>\n",
       "      <th>2</th>\n",
       "      <th>3</th>\n",
       "      <th>4</th>\n",
       "      <th>5</th>\n",
       "      <th>6</th>\n",
       "      <th>7</th>\n",
       "      <th>8</th>\n",
       "      <th>9</th>\n",
       "      <th>10</th>\n",
       "      <th>11</th>\n",
       "      <th>12</th>\n",
       "      <th>13</th>\n",
       "      <th>14</th>\n",
       "      <th>15</th>\n",
       "      <th>16</th>\n",
       "      <th>17</th>\n",
       "      <th>18</th>\n",
       "      <th>19</th>\n",
       "      <th>20</th>\n",
       "      <th>21</th>\n",
       "      <th>22</th>\n",
       "    </tr>\n",
       "  </thead>\n",
       "  <tbody>\n",
       "    <tr>\n",
       "      <th>0</th>\n",
       "      <td>1</td>\n",
       "      <td>85978354</td>\n",
       "      <td>Wall 112465206</td>\n",
       "      <td>post 1</td>\n",
       "      <td>19.06.2011 4:58:53</td>\n",
       "      <td>Анатолий</td>\n",
       "      <td>Хайбулин</td>\n",
       "      <td>2</td>\n",
       "      <td>Советский</td>\n",
       "      <td>Ханты-Мансийский Автономный окру</td>\n",
       "      <td>Россия</td>\n",
       "      <td>1.0</td>\n",
       "      <td>0.0</td>\n",
       "      <td>0.0</td>\n",
       "      <td>0.0</td>\n",
       "      <td>0.0</td>\n",
       "      <td>0.0</td>\n",
       "      <td>36.0</td>\n",
       "      <td>789.0</td>\n",
       "      <td>272.0</td>\n",
       "      <td>0</td>\n",
       "      <td>0</td>\n",
       "      <td>0</td>\n",
       "    </tr>\n",
       "    <tr>\n",
       "      <th>1</th>\n",
       "      <td>2</td>\n",
       "      <td>28098487</td>\n",
       "      <td>Wall 28098487</td>\n",
       "      <td>post 249</td>\n",
       "      <td>20.01.2015 3:10:53</td>\n",
       "      <td>Валера</td>\n",
       "      <td>Гончаров</td>\n",
       "      <td>2</td>\n",
       "      <td>Майкоп</td>\n",
       "      <td>Адыгея</td>\n",
       "      <td>Россия</td>\n",
       "      <td>12.0</td>\n",
       "      <td>0.0</td>\n",
       "      <td>2.0</td>\n",
       "      <td>0.0</td>\n",
       "      <td>18.0</td>\n",
       "      <td>0.0</td>\n",
       "      <td>59.0</td>\n",
       "      <td>55.0</td>\n",
       "      <td>8.0</td>\n",
       "      <td>2</td>\n",
       "      <td>0</td>\n",
       "      <td>0</td>\n",
       "    </tr>\n",
       "    <tr>\n",
       "      <th>2</th>\n",
       "      <td>3</td>\n",
       "      <td>28098487</td>\n",
       "      <td>Wall 28098487</td>\n",
       "      <td>post 246</td>\n",
       "      <td>09.07.2014 16:21:49</td>\n",
       "      <td>Валера</td>\n",
       "      <td>Гончаров</td>\n",
       "      <td>2</td>\n",
       "      <td>Майкоп</td>\n",
       "      <td>Адыгея</td>\n",
       "      <td>Россия</td>\n",
       "      <td>12.0</td>\n",
       "      <td>0.0</td>\n",
       "      <td>2.0</td>\n",
       "      <td>0.0</td>\n",
       "      <td>18.0</td>\n",
       "      <td>0.0</td>\n",
       "      <td>59.0</td>\n",
       "      <td>55.0</td>\n",
       "      <td>8.0</td>\n",
       "      <td>1</td>\n",
       "      <td>0</td>\n",
       "      <td>0</td>\n",
       "    </tr>\n",
       "    <tr>\n",
       "      <th>3</th>\n",
       "      <td>4</td>\n",
       "      <td>28098487</td>\n",
       "      <td>Wall 28098487</td>\n",
       "      <td>post 245</td>\n",
       "      <td>09.07.2014 16:09:04</td>\n",
       "      <td>Валера</td>\n",
       "      <td>Гончаров</td>\n",
       "      <td>2</td>\n",
       "      <td>Майкоп</td>\n",
       "      <td>Адыгея</td>\n",
       "      <td>Россия</td>\n",
       "      <td>12.0</td>\n",
       "      <td>0.0</td>\n",
       "      <td>2.0</td>\n",
       "      <td>0.0</td>\n",
       "      <td>18.0</td>\n",
       "      <td>0.0</td>\n",
       "      <td>59.0</td>\n",
       "      <td>55.0</td>\n",
       "      <td>8.0</td>\n",
       "      <td>0</td>\n",
       "      <td>0</td>\n",
       "      <td>0</td>\n",
       "    </tr>\n",
       "    <tr>\n",
       "      <th>4</th>\n",
       "      <td>5</td>\n",
       "      <td>28098487</td>\n",
       "      <td>Wall 28098487</td>\n",
       "      <td>post 244</td>\n",
       "      <td>09.07.2014 16:00:54</td>\n",
       "      <td>Валера</td>\n",
       "      <td>Гончаров</td>\n",
       "      <td>2</td>\n",
       "      <td>Майкоп</td>\n",
       "      <td>Адыгея</td>\n",
       "      <td>Россия</td>\n",
       "      <td>12.0</td>\n",
       "      <td>0.0</td>\n",
       "      <td>2.0</td>\n",
       "      <td>0.0</td>\n",
       "      <td>18.0</td>\n",
       "      <td>0.0</td>\n",
       "      <td>59.0</td>\n",
       "      <td>55.0</td>\n",
       "      <td>8.0</td>\n",
       "      <td>0</td>\n",
       "      <td>0</td>\n",
       "      <td>0</td>\n",
       "    </tr>\n",
       "  </tbody>\n",
       "</table>\n",
       "</div>"
      ],
      "text/plain": [
       "   0         1               2          3                    4         5   \\\n",
       "0   1  85978354  Wall 112465206     post 1   19.06.2011 4:58:53  Анатолий   \n",
       "1   2  28098487   Wall 28098487   post 249   20.01.2015 3:10:53    Валера   \n",
       "2   3  28098487   Wall 28098487   post 246  09.07.2014 16:21:49    Валера   \n",
       "3   4  28098487   Wall 28098487   post 245  09.07.2014 16:09:04    Валера   \n",
       "4   5  28098487   Wall 28098487   post 244  09.07.2014 16:00:54    Валера   \n",
       "\n",
       "          6   7           8                                  9        10  \\\n",
       "0   Хайбулин   2   Советский   Ханты-Мансийский Автономный окру   Россия   \n",
       "1   Гончаров   2      Майкоп                            Адыгея    Россия   \n",
       "2   Гончаров   2      Майкоп                            Адыгея    Россия   \n",
       "3   Гончаров   2      Майкоп                            Адыгея    Россия   \n",
       "4   Гончаров   2      Майкоп                            Адыгея    Россия   \n",
       "\n",
       "     11   12   13   14    15   16    17     18     19 20 21 22  \n",
       "0   1.0  0.0  0.0  0.0   0.0  0.0  36.0  789.0  272.0  0  0  0  \n",
       "1  12.0  0.0  2.0  0.0  18.0  0.0  59.0   55.0    8.0  2  0  0  \n",
       "2  12.0  0.0  2.0  0.0  18.0  0.0  59.0   55.0    8.0  1  0  0  \n",
       "3  12.0  0.0  2.0  0.0  18.0  0.0  59.0   55.0    8.0  0  0  0  \n",
       "4  12.0  0.0  2.0  0.0  18.0  0.0  59.0   55.0    8.0  0  0  0  "
      ]
     },
     "execution_count": 4,
     "metadata": {},
     "output_type": "execute_result"
    }
   ],
   "source": [
    "meta.head()"
   ]
  },
  {
   "cell_type": "code",
   "execution_count": 5,
   "metadata": {
    "collapsed": true
   },
   "outputs": [],
   "source": [
    "meta.drop(0, axis=1, inplace=True)"
   ]
  },
  {
   "cell_type": "code",
   "execution_count": 6,
   "metadata": {
    "collapsed": false
   },
   "outputs": [
    {
     "data": {
      "text/plain": [
       "22"
      ]
     },
     "execution_count": 6,
     "metadata": {},
     "output_type": "execute_result"
    }
   ],
   "source": [
    "col_names=[\"author_id\", \"wall_id\", \"post_comment_id\", \"date\", \"name\", \"surname\", \"sex\", \"city\", \"region\",\n",
    "      \"country\", \"posts\", \"comments\", \"likes\", \"res_comments\", \"res_postlikes\", \"res_comments_likes\",\n",
    "       \"friends\", \"groups\", \"followers\", \"post_likes\", \"post_repost\", \"post_comments\"]\n",
    "len(col_names)"
   ]
  },
  {
   "cell_type": "code",
   "execution_count": 7,
   "metadata": {
    "collapsed": true
   },
   "outputs": [],
   "source": [
    "meta.columns = col_names"
   ]
  },
  {
   "cell_type": "code",
   "execution_count": 8,
   "metadata": {
    "collapsed": false
   },
   "outputs": [
    {
     "data": {
      "text/plain": [
       "author_id               int64\n",
       "wall_id                object\n",
       "post_comment_id        object\n",
       "date                   object\n",
       "name                   object\n",
       "surname                object\n",
       "sex                    object\n",
       "city                   object\n",
       "region                 object\n",
       "country                object\n",
       "posts                 float64\n",
       "comments              float64\n",
       "likes                 float64\n",
       "res_comments          float64\n",
       "res_postlikes         float64\n",
       "res_comments_likes    float64\n",
       "friends               float64\n",
       "groups                float64\n",
       "followers             float64\n",
       "post_likes             object\n",
       "post_repost            object\n",
       "post_comments          object\n",
       "dtype: object"
      ]
     },
     "execution_count": 8,
     "metadata": {},
     "output_type": "execute_result"
    }
   ],
   "source": [
    "meta.dtypes"
   ]
  },
  {
   "cell_type": "code",
   "execution_count": 9,
   "metadata": {
    "collapsed": false
   },
   "outputs": [],
   "source": [
    "num_fields = [\"post_likes\", \"post_repost\", \"post_comments\"]\n",
    "for i in meta.columns:\n",
    "    if i in num_fields:\n",
    "        meta[i] = pd.to_numeric(meta[i], errors='coerce')"
   ]
  },
  {
   "cell_type": "code",
   "execution_count": 10,
   "metadata": {
    "collapsed": false
   },
   "outputs": [
    {
     "data": {
      "text/plain": [
       "author_id                  0\n",
       "wall_id                    0\n",
       "post_comment_id            0\n",
       "date                   58402\n",
       "name                  121481\n",
       "surname                    0\n",
       "sex                        0\n",
       "city                       0\n",
       "region                114341\n",
       "country               114341\n",
       "posts                 114341\n",
       "comments              114341\n",
       "likes                 114341\n",
       "res_comments          114341\n",
       "res_postlikes         114341\n",
       "res_comments_likes    114341\n",
       "friends               114341\n",
       "groups                114341\n",
       "followers             114341\n",
       "post_likes            120918\n",
       "post_repost           121063\n",
       "post_comments         120918\n",
       "dtype: int64"
      ]
     },
     "execution_count": 10,
     "metadata": {},
     "output_type": "execute_result"
    }
   ],
   "source": [
    "meta.isnull().sum()"
   ]
  },
  {
   "cell_type": "code",
   "execution_count": 11,
   "metadata": {
    "collapsed": false
   },
   "outputs": [],
   "source": [
    "fields_for_first = [\"posts\", \"comments\", \"likes\", \"res_comments\", \"res_postlikes\", \"res_comments_likes\",\n",
    "       \"friends\", \"groups\", \"followers\"]\n",
    "agg = {}\n",
    "for i in fields_for_first:\n",
    "    agg[i] = \"first\""
   ]
  },
  {
   "cell_type": "code",
   "execution_count": 12,
   "metadata": {
    "collapsed": false
   },
   "outputs": [
    {
     "data": {
      "text/plain": [
       "{'comments': 'first',\n",
       " 'followers': 'first',\n",
       " 'friends': 'first',\n",
       " 'groups': 'first',\n",
       " 'likes': 'first',\n",
       " 'posts': 'first',\n",
       " 'res_comments': 'first',\n",
       " 'res_comments_likes': 'first',\n",
       " 'res_postlikes': 'first'}"
      ]
     },
     "execution_count": 12,
     "metadata": {},
     "output_type": "execute_result"
    }
   ],
   "source": [
    "agg"
   ]
  },
  {
   "cell_type": "code",
   "execution_count": 13,
   "metadata": {
    "collapsed": false
   },
   "outputs": [],
   "source": [
    "meta_author = meta.groupby(\"author_id\").agg(agg)"
   ]
  },
  {
   "cell_type": "code",
   "execution_count": 167,
   "metadata": {
    "collapsed": true
   },
   "outputs": [],
   "source": [
    "meta_author[\"ff\"] = meta_author[\"friends\"] + meta_author[\"followers\"]"
   ]
  },
  {
   "cell_type": "code",
   "execution_count": 29,
   "metadata": {
    "collapsed": false
   },
   "outputs": [
    {
     "data": {
      "text/plain": [
       "(468866, 10)"
      ]
     },
     "execution_count": 29,
     "metadata": {},
     "output_type": "execute_result"
    }
   ],
   "source": [
    "meta_author.shape"
   ]
  },
  {
   "cell_type": "code",
   "execution_count": 168,
   "metadata": {
    "collapsed": false
   },
   "outputs": [
    {
     "data": {
      "text/html": [
       "<div>\n",
       "<table border=\"1\" class=\"dataframe\">\n",
       "  <thead>\n",
       "    <tr style=\"text-align: right;\">\n",
       "      <th></th>\n",
       "      <th>author_id</th>\n",
       "      <th>followers</th>\n",
       "      <th>res_comments_likes</th>\n",
       "      <th>likes</th>\n",
       "      <th>friends</th>\n",
       "      <th>res_comments</th>\n",
       "      <th>comments</th>\n",
       "      <th>res_postlikes</th>\n",
       "      <th>posts</th>\n",
       "      <th>groups</th>\n",
       "      <th>ff</th>\n",
       "    </tr>\n",
       "  </thead>\n",
       "  <tbody>\n",
       "    <tr>\n",
       "      <th>0</th>\n",
       "      <td>188</td>\n",
       "      <td>321.0</td>\n",
       "      <td>0.0</td>\n",
       "      <td>0.0</td>\n",
       "      <td>61.0</td>\n",
       "      <td>0.0</td>\n",
       "      <td>0.0</td>\n",
       "      <td>0.0</td>\n",
       "      <td>1.0</td>\n",
       "      <td>0.0</td>\n",
       "      <td>382.0</td>\n",
       "    </tr>\n",
       "    <tr>\n",
       "      <th>1</th>\n",
       "      <td>494</td>\n",
       "      <td>724.0</td>\n",
       "      <td>0.0</td>\n",
       "      <td>7.0</td>\n",
       "      <td>304.0</td>\n",
       "      <td>0.0</td>\n",
       "      <td>0.0</td>\n",
       "      <td>0.0</td>\n",
       "      <td>1.0</td>\n",
       "      <td>14.0</td>\n",
       "      <td>1028.0</td>\n",
       "    </tr>\n",
       "    <tr>\n",
       "      <th>2</th>\n",
       "      <td>831</td>\n",
       "      <td>1780.0</td>\n",
       "      <td>0.0</td>\n",
       "      <td>0.0</td>\n",
       "      <td>476.0</td>\n",
       "      <td>0.0</td>\n",
       "      <td>0.0</td>\n",
       "      <td>0.0</td>\n",
       "      <td>10.0</td>\n",
       "      <td>45.0</td>\n",
       "      <td>2256.0</td>\n",
       "    </tr>\n",
       "    <tr>\n",
       "      <th>3</th>\n",
       "      <td>1073</td>\n",
       "      <td>2282.0</td>\n",
       "      <td>0.0</td>\n",
       "      <td>0.0</td>\n",
       "      <td>590.0</td>\n",
       "      <td>0.0</td>\n",
       "      <td>0.0</td>\n",
       "      <td>0.0</td>\n",
       "      <td>1.0</td>\n",
       "      <td>64.0</td>\n",
       "      <td>2872.0</td>\n",
       "    </tr>\n",
       "    <tr>\n",
       "      <th>4</th>\n",
       "      <td>1332</td>\n",
       "      <td>273.0</td>\n",
       "      <td>0.0</td>\n",
       "      <td>0.0</td>\n",
       "      <td>99.0</td>\n",
       "      <td>0.0</td>\n",
       "      <td>0.0</td>\n",
       "      <td>0.0</td>\n",
       "      <td>1.0</td>\n",
       "      <td>50.0</td>\n",
       "      <td>372.0</td>\n",
       "    </tr>\n",
       "  </tbody>\n",
       "</table>\n",
       "</div>"
      ],
      "text/plain": [
       "   author_id  followers  res_comments_likes  likes  friends  res_comments  \\\n",
       "0        188      321.0                 0.0    0.0     61.0           0.0   \n",
       "1        494      724.0                 0.0    7.0    304.0           0.0   \n",
       "2        831     1780.0                 0.0    0.0    476.0           0.0   \n",
       "3       1073     2282.0                 0.0    0.0    590.0           0.0   \n",
       "4       1332      273.0                 0.0    0.0     99.0           0.0   \n",
       "\n",
       "   comments  res_postlikes  posts  groups      ff  \n",
       "0       0.0            0.0    1.0     0.0   382.0  \n",
       "1       0.0            0.0    1.0    14.0  1028.0  \n",
       "2       0.0            0.0   10.0    45.0  2256.0  \n",
       "3       0.0            0.0    1.0    64.0  2872.0  \n",
       "4       0.0            0.0    1.0    50.0   372.0  "
      ]
     },
     "execution_count": 168,
     "metadata": {},
     "output_type": "execute_result"
    }
   ],
   "source": [
    "meta_author.head()"
   ]
  },
  {
   "cell_type": "code",
   "execution_count": 16,
   "metadata": {
    "collapsed": false
   },
   "outputs": [],
   "source": [
    "meta_author = meta_author[meta_author.index != 0]"
   ]
  },
  {
   "cell_type": "code",
   "execution_count": 17,
   "metadata": {
    "collapsed": false
   },
   "outputs": [],
   "source": [
    "meta_author = meta_author.reset_index()"
   ]
  },
  {
   "cell_type": "code",
   "execution_count": 169,
   "metadata": {
    "collapsed": false
   },
   "outputs": [
    {
     "data": {
      "text/html": [
       "<div>\n",
       "<table border=\"1\" class=\"dataframe\">\n",
       "  <thead>\n",
       "    <tr style=\"text-align: right;\">\n",
       "      <th></th>\n",
       "      <th>author_id</th>\n",
       "      <th>followers</th>\n",
       "      <th>res_comments_likes</th>\n",
       "      <th>likes</th>\n",
       "      <th>friends</th>\n",
       "      <th>res_comments</th>\n",
       "      <th>comments</th>\n",
       "      <th>res_postlikes</th>\n",
       "      <th>posts</th>\n",
       "      <th>groups</th>\n",
       "      <th>ff</th>\n",
       "    </tr>\n",
       "  </thead>\n",
       "  <tbody>\n",
       "    <tr>\n",
       "      <th>count</th>\n",
       "      <td>4.688660e+05</td>\n",
       "      <td>467430.000000</td>\n",
       "      <td>467430.000000</td>\n",
       "      <td>467430.000000</td>\n",
       "      <td>467430.000000</td>\n",
       "      <td>467430.000000</td>\n",
       "      <td>467430.000000</td>\n",
       "      <td>467430.000000</td>\n",
       "      <td>467430.000000</td>\n",
       "      <td>467430.000000</td>\n",
       "      <td>467430.000000</td>\n",
       "    </tr>\n",
       "    <tr>\n",
       "      <th>mean</th>\n",
       "      <td>1.115921e+08</td>\n",
       "      <td>158.925495</td>\n",
       "      <td>0.171692</td>\n",
       "      <td>8.645175</td>\n",
       "      <td>218.452547</td>\n",
       "      <td>1.571074</td>\n",
       "      <td>1.257927</td>\n",
       "      <td>25.894876</td>\n",
       "      <td>16.124113</td>\n",
       "      <td>94.193824</td>\n",
       "      <td>377.378042</td>\n",
       "    </tr>\n",
       "    <tr>\n",
       "      <th>std</th>\n",
       "      <td>7.851411e+07</td>\n",
       "      <td>1422.262630</td>\n",
       "      <td>14.623871</td>\n",
       "      <td>120.919386</td>\n",
       "      <td>553.407692</td>\n",
       "      <td>31.245198</td>\n",
       "      <td>18.615803</td>\n",
       "      <td>370.677633</td>\n",
       "      <td>214.550376</td>\n",
       "      <td>177.895753</td>\n",
       "      <td>1589.548853</td>\n",
       "    </tr>\n",
       "    <tr>\n",
       "      <th>min</th>\n",
       "      <td>1.880000e+02</td>\n",
       "      <td>0.000000</td>\n",
       "      <td>0.000000</td>\n",
       "      <td>0.000000</td>\n",
       "      <td>0.000000</td>\n",
       "      <td>0.000000</td>\n",
       "      <td>0.000000</td>\n",
       "      <td>0.000000</td>\n",
       "      <td>0.000000</td>\n",
       "      <td>0.000000</td>\n",
       "      <td>0.000000</td>\n",
       "    </tr>\n",
       "    <tr>\n",
       "      <th>25%</th>\n",
       "      <td>3.980163e+07</td>\n",
       "      <td>4.000000</td>\n",
       "      <td>0.000000</td>\n",
       "      <td>0.000000</td>\n",
       "      <td>33.000000</td>\n",
       "      <td>0.000000</td>\n",
       "      <td>0.000000</td>\n",
       "      <td>0.000000</td>\n",
       "      <td>1.000000</td>\n",
       "      <td>10.000000</td>\n",
       "      <td>56.000000</td>\n",
       "    </tr>\n",
       "    <tr>\n",
       "      <th>50%</th>\n",
       "      <td>1.055339e+08</td>\n",
       "      <td>43.000000</td>\n",
       "      <td>0.000000</td>\n",
       "      <td>0.000000</td>\n",
       "      <td>117.000000</td>\n",
       "      <td>0.000000</td>\n",
       "      <td>0.000000</td>\n",
       "      <td>0.000000</td>\n",
       "      <td>2.000000</td>\n",
       "      <td>41.000000</td>\n",
       "      <td>199.000000</td>\n",
       "    </tr>\n",
       "    <tr>\n",
       "      <th>75%</th>\n",
       "      <td>1.666892e+08</td>\n",
       "      <td>150.000000</td>\n",
       "      <td>0.000000</td>\n",
       "      <td>2.000000</td>\n",
       "      <td>229.000000</td>\n",
       "      <td>0.000000</td>\n",
       "      <td>0.000000</td>\n",
       "      <td>1.000000</td>\n",
       "      <td>4.000000</td>\n",
       "      <td>104.000000</td>\n",
       "      <td>400.000000</td>\n",
       "    </tr>\n",
       "    <tr>\n",
       "      <th>max</th>\n",
       "      <td>3.280245e+08</td>\n",
       "      <td>544564.000000</td>\n",
       "      <td>8467.000000</td>\n",
       "      <td>42702.000000</td>\n",
       "      <td>10000.000000</td>\n",
       "      <td>11775.000000</td>\n",
       "      <td>4088.000000</td>\n",
       "      <td>66793.000000</td>\n",
       "      <td>53285.000000</td>\n",
       "      <td>8369.000000</td>\n",
       "      <td>545050.000000</td>\n",
       "    </tr>\n",
       "  </tbody>\n",
       "</table>\n",
       "</div>"
      ],
      "text/plain": [
       "          author_id      followers  res_comments_likes          likes  \\\n",
       "count  4.688660e+05  467430.000000       467430.000000  467430.000000   \n",
       "mean   1.115921e+08     158.925495            0.171692       8.645175   \n",
       "std    7.851411e+07    1422.262630           14.623871     120.919386   \n",
       "min    1.880000e+02       0.000000            0.000000       0.000000   \n",
       "25%    3.980163e+07       4.000000            0.000000       0.000000   \n",
       "50%    1.055339e+08      43.000000            0.000000       0.000000   \n",
       "75%    1.666892e+08     150.000000            0.000000       2.000000   \n",
       "max    3.280245e+08  544564.000000         8467.000000   42702.000000   \n",
       "\n",
       "             friends   res_comments       comments  res_postlikes  \\\n",
       "count  467430.000000  467430.000000  467430.000000  467430.000000   \n",
       "mean      218.452547       1.571074       1.257927      25.894876   \n",
       "std       553.407692      31.245198      18.615803     370.677633   \n",
       "min         0.000000       0.000000       0.000000       0.000000   \n",
       "25%        33.000000       0.000000       0.000000       0.000000   \n",
       "50%       117.000000       0.000000       0.000000       0.000000   \n",
       "75%       229.000000       0.000000       0.000000       1.000000   \n",
       "max     10000.000000   11775.000000    4088.000000   66793.000000   \n",
       "\n",
       "               posts         groups             ff  \n",
       "count  467430.000000  467430.000000  467430.000000  \n",
       "mean       16.124113      94.193824     377.378042  \n",
       "std       214.550376     177.895753    1589.548853  \n",
       "min         0.000000       0.000000       0.000000  \n",
       "25%         1.000000      10.000000      56.000000  \n",
       "50%         2.000000      41.000000     199.000000  \n",
       "75%         4.000000     104.000000     400.000000  \n",
       "max     53285.000000    8369.000000  545050.000000  "
      ]
     },
     "execution_count": 169,
     "metadata": {},
     "output_type": "execute_result"
    }
   ],
   "source": [
    "meta_author.describe()"
   ]
  },
  {
   "cell_type": "code",
   "execution_count": 40,
   "metadata": {
    "collapsed": false
   },
   "outputs": [
    {
     "data": {
      "text/plain": [
       "74478"
      ]
     },
     "execution_count": 40,
     "metadata": {},
     "output_type": "execute_result"
    }
   ],
   "source": [
    "meta_author[\"friends\"][meta_author[\"friends\"] == 0].count()"
   ]
  },
  {
   "cell_type": "code",
   "execution_count": 170,
   "metadata": {
    "collapsed": false
   },
   "outputs": [
    {
     "data": {
      "text/plain": [
       "68674"
      ]
     },
     "execution_count": 170,
     "metadata": {},
     "output_type": "execute_result"
    }
   ],
   "source": [
    "meta_author[\"friends\"][meta_author[\"ff\"] == 0].count()"
   ]
  },
  {
   "cell_type": "code",
   "execution_count": 46,
   "metadata": {
    "collapsed": false
   },
   "outputs": [
    {
     "data": {
      "text/html": [
       "<div>\n",
       "<table border=\"1\" class=\"dataframe\">\n",
       "  <thead>\n",
       "    <tr style=\"text-align: right;\">\n",
       "      <th></th>\n",
       "      <th>author_id</th>\n",
       "      <th>followers</th>\n",
       "      <th>res_comments_likes</th>\n",
       "      <th>likes</th>\n",
       "      <th>friends</th>\n",
       "      <th>res_comments</th>\n",
       "      <th>comments</th>\n",
       "      <th>res_postlikes</th>\n",
       "      <th>posts</th>\n",
       "      <th>groups</th>\n",
       "    </tr>\n",
       "  </thead>\n",
       "  <tbody>\n",
       "    <tr>\n",
       "      <th>113500</th>\n",
       "      <td>37944932</td>\n",
       "      <td>2844.0</td>\n",
       "      <td>0.0</td>\n",
       "      <td>0.0</td>\n",
       "      <td>10000.0</td>\n",
       "      <td>0.0</td>\n",
       "      <td>0.0</td>\n",
       "      <td>0.0</td>\n",
       "      <td>1.0</td>\n",
       "      <td>15.0</td>\n",
       "    </tr>\n",
       "    <tr>\n",
       "      <th>19989</th>\n",
       "      <td>5267290</td>\n",
       "      <td>1672.0</td>\n",
       "      <td>0.0</td>\n",
       "      <td>0.0</td>\n",
       "      <td>10000.0</td>\n",
       "      <td>0.0</td>\n",
       "      <td>0.0</td>\n",
       "      <td>0.0</td>\n",
       "      <td>2.0</td>\n",
       "      <td>2000.0</td>\n",
       "    </tr>\n",
       "    <tr>\n",
       "      <th>25149</th>\n",
       "      <td>6676138</td>\n",
       "      <td>1572.0</td>\n",
       "      <td>0.0</td>\n",
       "      <td>1.0</td>\n",
       "      <td>10000.0</td>\n",
       "      <td>0.0</td>\n",
       "      <td>0.0</td>\n",
       "      <td>0.0</td>\n",
       "      <td>1.0</td>\n",
       "      <td>76.0</td>\n",
       "    </tr>\n",
       "    <tr>\n",
       "      <th>380620</th>\n",
       "      <td>185913560</td>\n",
       "      <td>4556.0</td>\n",
       "      <td>0.0</td>\n",
       "      <td>0.0</td>\n",
       "      <td>10000.0</td>\n",
       "      <td>0.0</td>\n",
       "      <td>0.0</td>\n",
       "      <td>2.0</td>\n",
       "      <td>1.0</td>\n",
       "      <td>126.0</td>\n",
       "    </tr>\n",
       "    <tr>\n",
       "      <th>185219</th>\n",
       "      <td>73396753</td>\n",
       "      <td>7430.0</td>\n",
       "      <td>1.0</td>\n",
       "      <td>36.0</td>\n",
       "      <td>10000.0</td>\n",
       "      <td>1.0</td>\n",
       "      <td>0.0</td>\n",
       "      <td>1.0</td>\n",
       "      <td>1.0</td>\n",
       "      <td>4.0</td>\n",
       "    </tr>\n",
       "  </tbody>\n",
       "</table>\n",
       "</div>"
      ],
      "text/plain": [
       "        author_id  followers  res_comments_likes  likes  friends  \\\n",
       "113500   37944932     2844.0                 0.0    0.0  10000.0   \n",
       "19989     5267290     1672.0                 0.0    0.0  10000.0   \n",
       "25149     6676138     1572.0                 0.0    1.0  10000.0   \n",
       "380620  185913560     4556.0                 0.0    0.0  10000.0   \n",
       "185219   73396753     7430.0                 1.0   36.0  10000.0   \n",
       "\n",
       "        res_comments  comments  res_postlikes  posts  groups  \n",
       "113500           0.0       0.0            0.0    1.0    15.0  \n",
       "19989            0.0       0.0            0.0    2.0  2000.0  \n",
       "25149            0.0       0.0            0.0    1.0    76.0  \n",
       "380620           0.0       0.0            2.0    1.0   126.0  \n",
       "185219           1.0       0.0            1.0    1.0     4.0  "
      ]
     },
     "execution_count": 46,
     "metadata": {},
     "output_type": "execute_result"
    }
   ],
   "source": [
    "meta_author[meta_author[\"friends\"] > 5000].sort_values(\"friends\", ascending=False).head()"
   ]
  },
  {
   "cell_type": "code",
   "execution_count": 184,
   "metadata": {
    "collapsed": false
   },
   "outputs": [],
   "source": [
    "meta_author_ok = meta_author[(meta_author[\"friends\"] > 0)]"
   ]
  },
  {
   "cell_type": "code",
   "execution_count": 194,
   "metadata": {
    "collapsed": false
   },
   "outputs": [
    {
     "data": {
      "text/plain": [
       "(392952, 11)"
      ]
     },
     "execution_count": 194,
     "metadata": {},
     "output_type": "execute_result"
    }
   ],
   "source": [
    "meta_author_ok.shape"
   ]
  },
  {
   "cell_type": "code",
   "execution_count": 185,
   "metadata": {
    "collapsed": false
   },
   "outputs": [
    {
     "data": {
      "text/html": [
       "<div>\n",
       "<table border=\"1\" class=\"dataframe\">\n",
       "  <thead>\n",
       "    <tr style=\"text-align: right;\">\n",
       "      <th></th>\n",
       "      <th>author_id</th>\n",
       "      <th>followers</th>\n",
       "      <th>res_comments_likes</th>\n",
       "      <th>likes</th>\n",
       "      <th>friends</th>\n",
       "      <th>res_comments</th>\n",
       "      <th>comments</th>\n",
       "      <th>res_postlikes</th>\n",
       "      <th>posts</th>\n",
       "      <th>groups</th>\n",
       "      <th>ff</th>\n",
       "    </tr>\n",
       "  </thead>\n",
       "  <tbody>\n",
       "    <tr>\n",
       "      <th>count</th>\n",
       "      <td>3.929520e+05</td>\n",
       "      <td>392952.000000</td>\n",
       "      <td>392952.000000</td>\n",
       "      <td>392952.000000</td>\n",
       "      <td>392952.000000</td>\n",
       "      <td>392952.000000</td>\n",
       "      <td>392952.000000</td>\n",
       "      <td>392952.000000</td>\n",
       "      <td>392952.000000</td>\n",
       "      <td>392952.000000</td>\n",
       "      <td>392952.000000</td>\n",
       "    </tr>\n",
       "    <tr>\n",
       "      <th>mean</th>\n",
       "      <td>1.125235e+08</td>\n",
       "      <td>186.878708</td>\n",
       "      <td>0.199017</td>\n",
       "      <td>9.857252</td>\n",
       "      <td>259.856863</td>\n",
       "      <td>1.791667</td>\n",
       "      <td>1.419481</td>\n",
       "      <td>30.619104</td>\n",
       "      <td>18.615314</td>\n",
       "      <td>106.586117</td>\n",
       "      <td>446.735571</td>\n",
       "    </tr>\n",
       "    <tr>\n",
       "      <th>std</th>\n",
       "      <td>7.913045e+07</td>\n",
       "      <td>1529.534963</td>\n",
       "      <td>15.942676</td>\n",
       "      <td>131.632571</td>\n",
       "      <td>594.598922</td>\n",
       "      <td>34.021931</td>\n",
       "      <td>20.225046</td>\n",
       "      <td>404.001452</td>\n",
       "      <td>233.735947</td>\n",
       "      <td>186.187911</td>\n",
       "      <td>1706.903385</td>\n",
       "    </tr>\n",
       "    <tr>\n",
       "      <th>min</th>\n",
       "      <td>1.880000e+02</td>\n",
       "      <td>0.000000</td>\n",
       "      <td>0.000000</td>\n",
       "      <td>0.000000</td>\n",
       "      <td>1.000000</td>\n",
       "      <td>0.000000</td>\n",
       "      <td>0.000000</td>\n",
       "      <td>0.000000</td>\n",
       "      <td>1.000000</td>\n",
       "      <td>0.000000</td>\n",
       "      <td>1.000000</td>\n",
       "    </tr>\n",
       "    <tr>\n",
       "      <th>25%</th>\n",
       "      <td>3.985437e+07</td>\n",
       "      <td>17.000000</td>\n",
       "      <td>0.000000</td>\n",
       "      <td>0.000000</td>\n",
       "      <td>74.000000</td>\n",
       "      <td>0.000000</td>\n",
       "      <td>0.000000</td>\n",
       "      <td>0.000000</td>\n",
       "      <td>1.000000</td>\n",
       "      <td>18.000000</td>\n",
       "      <td>122.000000</td>\n",
       "    </tr>\n",
       "    <tr>\n",
       "      <th>50%</th>\n",
       "      <td>1.077062e+08</td>\n",
       "      <td>66.000000</td>\n",
       "      <td>0.000000</td>\n",
       "      <td>0.000000</td>\n",
       "      <td>146.000000</td>\n",
       "      <td>0.000000</td>\n",
       "      <td>0.000000</td>\n",
       "      <td>0.000000</td>\n",
       "      <td>2.000000</td>\n",
       "      <td>51.000000</td>\n",
       "      <td>249.000000</td>\n",
       "    </tr>\n",
       "    <tr>\n",
       "      <th>75%</th>\n",
       "      <td>1.681353e+08</td>\n",
       "      <td>178.000000</td>\n",
       "      <td>0.000000</td>\n",
       "      <td>3.000000</td>\n",
       "      <td>258.000000</td>\n",
       "      <td>0.000000</td>\n",
       "      <td>0.000000</td>\n",
       "      <td>1.000000</td>\n",
       "      <td>4.000000</td>\n",
       "      <td>118.000000</td>\n",
       "      <td>451.000000</td>\n",
       "    </tr>\n",
       "    <tr>\n",
       "      <th>max</th>\n",
       "      <td>3.280245e+08</td>\n",
       "      <td>544564.000000</td>\n",
       "      <td>8467.000000</td>\n",
       "      <td>42702.000000</td>\n",
       "      <td>10000.000000</td>\n",
       "      <td>11775.000000</td>\n",
       "      <td>4088.000000</td>\n",
       "      <td>66793.000000</td>\n",
       "      <td>53285.000000</td>\n",
       "      <td>8369.000000</td>\n",
       "      <td>545050.000000</td>\n",
       "    </tr>\n",
       "  </tbody>\n",
       "</table>\n",
       "</div>"
      ],
      "text/plain": [
       "          author_id      followers  res_comments_likes          likes  \\\n",
       "count  3.929520e+05  392952.000000       392952.000000  392952.000000   \n",
       "mean   1.125235e+08     186.878708            0.199017       9.857252   \n",
       "std    7.913045e+07    1529.534963           15.942676     131.632571   \n",
       "min    1.880000e+02       0.000000            0.000000       0.000000   \n",
       "25%    3.985437e+07      17.000000            0.000000       0.000000   \n",
       "50%    1.077062e+08      66.000000            0.000000       0.000000   \n",
       "75%    1.681353e+08     178.000000            0.000000       3.000000   \n",
       "max    3.280245e+08  544564.000000         8467.000000   42702.000000   \n",
       "\n",
       "             friends   res_comments       comments  res_postlikes  \\\n",
       "count  392952.000000  392952.000000  392952.000000  392952.000000   \n",
       "mean      259.856863       1.791667       1.419481      30.619104   \n",
       "std       594.598922      34.021931      20.225046     404.001452   \n",
       "min         1.000000       0.000000       0.000000       0.000000   \n",
       "25%        74.000000       0.000000       0.000000       0.000000   \n",
       "50%       146.000000       0.000000       0.000000       0.000000   \n",
       "75%       258.000000       0.000000       0.000000       1.000000   \n",
       "max     10000.000000   11775.000000    4088.000000   66793.000000   \n",
       "\n",
       "               posts         groups             ff  \n",
       "count  392952.000000  392952.000000  392952.000000  \n",
       "mean       18.615314     106.586117     446.735571  \n",
       "std       233.735947     186.187911    1706.903385  \n",
       "min         1.000000       0.000000       1.000000  \n",
       "25%         1.000000      18.000000     122.000000  \n",
       "50%         2.000000      51.000000     249.000000  \n",
       "75%         4.000000     118.000000     451.000000  \n",
       "max     53285.000000    8369.000000  545050.000000  "
      ]
     },
     "execution_count": 185,
     "metadata": {},
     "output_type": "execute_result"
    }
   ],
   "source": [
    "meta_author_ok.describe()"
   ]
  },
  {
   "cell_type": "code",
   "execution_count": 174,
   "metadata": {
    "collapsed": false
   },
   "outputs": [
    {
     "data": {
      "text/plain": [
       "0.0       74478\n",
       "1.0        3755\n",
       "2.0        2524\n",
       "3.0        1892\n",
       "4.0        1630\n",
       "85.0       1531\n",
       "100.0      1527\n",
       "87.0       1515\n",
       "92.0       1515\n",
       "99.0       1511\n",
       "78.0       1506\n",
       "70.0       1502\n",
       "95.0       1497\n",
       "94.0       1495\n",
       "71.0       1494\n",
       "75.0       1493\n",
       "91.0       1490\n",
       "74.0       1489\n",
       "60.0       1484\n",
       "98.0       1479\n",
       "80.0       1479\n",
       "103.0      1476\n",
       "55.0       1474\n",
       "90.0       1471\n",
       "79.0       1470\n",
       "86.0       1470\n",
       "84.0       1467\n",
       "76.0       1464\n",
       "82.0       1464\n",
       "5.0        1458\n",
       "          ...  \n",
       "5506.0        1\n",
       "5505.0        1\n",
       "3725.0        1\n",
       "9376.0        1\n",
       "5502.0        1\n",
       "5501.0        1\n",
       "5498.0        1\n",
       "4758.0        1\n",
       "5900.0        1\n",
       "7445.0        1\n",
       "4196.0        1\n",
       "5523.0        1\n",
       "5549.0        1\n",
       "8472.0        1\n",
       "3711.0        1\n",
       "2408.0        1\n",
       "5896.0        1\n",
       "3100.0        1\n",
       "2771.0        1\n",
       "2769.0        1\n",
       "5537.0        1\n",
       "7426.0        1\n",
       "2986.0        1\n",
       "3715.0        1\n",
       "3719.0        1\n",
       "2414.0        1\n",
       "7443.0        1\n",
       "5525.0        1\n",
       "3722.0        1\n",
       "4748.0        1\n",
       "Name: friends, dtype: int64"
      ]
     },
     "execution_count": 174,
     "metadata": {},
     "output_type": "execute_result"
    }
   ],
   "source": [
    "meta_author[\"friends\"].value_counts()"
   ]
  },
  {
   "cell_type": "code",
   "execution_count": 175,
   "metadata": {
    "collapsed": false
   },
   "outputs": [
    {
     "data": {
      "text/plain": [
       "(398756, 11)"
      ]
     },
     "execution_count": 175,
     "metadata": {},
     "output_type": "execute_result"
    }
   ],
   "source": [
    "meta_author_ok.shape"
   ]
  },
  {
   "cell_type": "code",
   "execution_count": 176,
   "metadata": {
    "collapsed": false
   },
   "outputs": [
    {
     "data": {
      "text/html": [
       "<div>\n",
       "<table border=\"1\" class=\"dataframe\">\n",
       "  <thead>\n",
       "    <tr style=\"text-align: right;\">\n",
       "      <th></th>\n",
       "      <th>author_id</th>\n",
       "      <th>followers</th>\n",
       "      <th>res_comments_likes</th>\n",
       "      <th>likes</th>\n",
       "      <th>friends</th>\n",
       "      <th>res_comments</th>\n",
       "      <th>comments</th>\n",
       "      <th>res_postlikes</th>\n",
       "      <th>posts</th>\n",
       "      <th>groups</th>\n",
       "      <th>ff</th>\n",
       "    </tr>\n",
       "  </thead>\n",
       "  <tbody>\n",
       "    <tr>\n",
       "      <th>0</th>\n",
       "      <td>188</td>\n",
       "      <td>321.0</td>\n",
       "      <td>0.0</td>\n",
       "      <td>0.0</td>\n",
       "      <td>61.0</td>\n",
       "      <td>0.0</td>\n",
       "      <td>0.0</td>\n",
       "      <td>0.0</td>\n",
       "      <td>1.0</td>\n",
       "      <td>0.0</td>\n",
       "      <td>382.0</td>\n",
       "    </tr>\n",
       "    <tr>\n",
       "      <th>1</th>\n",
       "      <td>494</td>\n",
       "      <td>724.0</td>\n",
       "      <td>0.0</td>\n",
       "      <td>7.0</td>\n",
       "      <td>304.0</td>\n",
       "      <td>0.0</td>\n",
       "      <td>0.0</td>\n",
       "      <td>0.0</td>\n",
       "      <td>1.0</td>\n",
       "      <td>14.0</td>\n",
       "      <td>1028.0</td>\n",
       "    </tr>\n",
       "    <tr>\n",
       "      <th>2</th>\n",
       "      <td>831</td>\n",
       "      <td>1780.0</td>\n",
       "      <td>0.0</td>\n",
       "      <td>0.0</td>\n",
       "      <td>476.0</td>\n",
       "      <td>0.0</td>\n",
       "      <td>0.0</td>\n",
       "      <td>0.0</td>\n",
       "      <td>10.0</td>\n",
       "      <td>45.0</td>\n",
       "      <td>2256.0</td>\n",
       "    </tr>\n",
       "    <tr>\n",
       "      <th>3</th>\n",
       "      <td>1073</td>\n",
       "      <td>2282.0</td>\n",
       "      <td>0.0</td>\n",
       "      <td>0.0</td>\n",
       "      <td>590.0</td>\n",
       "      <td>0.0</td>\n",
       "      <td>0.0</td>\n",
       "      <td>0.0</td>\n",
       "      <td>1.0</td>\n",
       "      <td>64.0</td>\n",
       "      <td>2872.0</td>\n",
       "    </tr>\n",
       "    <tr>\n",
       "      <th>4</th>\n",
       "      <td>1332</td>\n",
       "      <td>273.0</td>\n",
       "      <td>0.0</td>\n",
       "      <td>0.0</td>\n",
       "      <td>99.0</td>\n",
       "      <td>0.0</td>\n",
       "      <td>0.0</td>\n",
       "      <td>0.0</td>\n",
       "      <td>1.0</td>\n",
       "      <td>50.0</td>\n",
       "      <td>372.0</td>\n",
       "    </tr>\n",
       "  </tbody>\n",
       "</table>\n",
       "</div>"
      ],
      "text/plain": [
       "   author_id  followers  res_comments_likes  likes  friends  res_comments  \\\n",
       "0        188      321.0                 0.0    0.0     61.0           0.0   \n",
       "1        494      724.0                 0.0    7.0    304.0           0.0   \n",
       "2        831     1780.0                 0.0    0.0    476.0           0.0   \n",
       "3       1073     2282.0                 0.0    0.0    590.0           0.0   \n",
       "4       1332      273.0                 0.0    0.0     99.0           0.0   \n",
       "\n",
       "   comments  res_postlikes  posts  groups      ff  \n",
       "0       0.0            0.0    1.0     0.0   382.0  \n",
       "1       0.0            0.0    1.0    14.0  1028.0  \n",
       "2       0.0            0.0   10.0    45.0  2256.0  \n",
       "3       0.0            0.0    1.0    64.0  2872.0  \n",
       "4       0.0            0.0    1.0    50.0   372.0  "
      ]
     },
     "execution_count": 176,
     "metadata": {},
     "output_type": "execute_result"
    }
   ],
   "source": [
    "meta_author_ok.head()"
   ]
  },
  {
   "cell_type": "code",
   "execution_count": 183,
   "metadata": {
    "collapsed": false
   },
   "outputs": [
    {
     "data": {
      "image/png": "[encoded data removed]",
      "text/plain": [
       "<matplotlib.figure.Figure at 0x124d275f8>"
      ]
     },
     "metadata": {},
     "output_type": "display_data"
    }
   ],
   "source": [
    "ax = meta_author_ok[\"friends\"].hist(bins=400)\n",
    "ax.set_xlim([1, 2000])\n",
    "fig = ax.get_figure()\n",
    "plt.xlabel('Количество друзей')\n",
    "plt.ylabel(\"Количество пользователей\")\n",
    "fig.savefig(\"/Users/Hun/GoogleDrive/LINIS/Отчёт по проекту/imgs/num_of_friends_hist.png\", dpi=300)"
   ]
  },
  {
   "cell_type": "code",
   "execution_count": 178,
   "metadata": {
    "collapsed": false
   },
   "outputs": [
    {
     "data": {
      "image/png": "[encoded data removed]",
      "text/plain": [
       "<matplotlib.figure.Figure at 0x124459208>"
      ]
     },
     "metadata": {},
     "output_type": "display_data"
    }
   ],
   "source": [
    "ax = meta_author_ok[\"groups\"].hist(bins=400)\n",
    "fig = ax.get_figure()\n",
    "ax.set_xlim([0, 2000])\n",
    "plt.xlabel('Количество групп, участником которых является пользователь')\n",
    "plt.ylabel(\"Количество пользователей\")\n",
    "fig.savefig(\"/Users/Hun/GoogleDrive/LINIS/Отчёт по проекту/imgs/num_of_groups_hist.png\", dpi=300)"
   ]
  },
  {
   "cell_type": "code",
   "execution_count": 187,
   "metadata": {
    "collapsed": false
   },
   "outputs": [
    {
     "data": {
      "image/png": "[encoded data removed]",
      "text/plain": [
       "<matplotlib.figure.Figure at 0x1256f1b70>"
      ]
     },
     "metadata": {},
     "output_type": "display_data"
    }
   ],
   "source": [
    "ax = meta_author_ok[\"posts\"].hist(bins=400)\n",
    "fig = ax.get_figure()\n",
    "#ax.set_xlim([0, 2000])\n",
    "plt.xlabel('Количество записей, написанных пользователем')\n",
    "plt.ylabel(\"Количество пользователей\")\n",
    "fig.savefig(\"/Users/Hun/GoogleDrive/LINIS/Отчёт по проекту/imgs/num_of_posts_hist.png\", dpi=300)"
   ]
  },
  {
   "cell_type": "code",
   "execution_count": 198,
   "metadata": {
    "collapsed": false
   },
   "outputs": [
    {
     "data": {
      "text/plain": [
       "0.46882825383252918"
      ]
     },
     "execution_count": 198,
     "metadata": {},
     "output_type": "execute_result"
    }
   ],
   "source": [
    "meta_author_ok[\"posts\"][meta_author_ok[\"posts\"] <= 1].count()/len(meta_author_ok)"
   ]
  },
  {
   "cell_type": "code",
   "execution_count": 195,
   "metadata": {
    "collapsed": false
   },
   "outputs": [
    {
     "data": {
      "text/plain": [
       "1.0        184227\n",
       "2.0         66309\n",
       "3.0         34817\n",
       "4.0         20945\n",
       "5.0         14243\n",
       "6.0         10112\n",
       "7.0          7576\n",
       "8.0          5937\n",
       "9.0          4659\n",
       "10.0         3672\n",
       "11.0         3089\n",
       "12.0         2636\n",
       "13.0         2163\n",
       "14.0         1890\n",
       "15.0         1670\n",
       "16.0         1358\n",
       "17.0         1238\n",
       "18.0         1119\n",
       "19.0         1083\n",
       "20.0          887\n",
       "21.0          825\n",
       "22.0          754\n",
       "23.0          711\n",
       "24.0          607\n",
       "25.0          585\n",
       "26.0          555\n",
       "27.0          488\n",
       "28.0          484\n",
       "29.0          442\n",
       "30.0          380\n",
       "            ...  \n",
       "2554.0          1\n",
       "1974.0          1\n",
       "814.0           1\n",
       "1600.0          1\n",
       "10409.0         1\n",
       "1315.0          1\n",
       "1751.0          1\n",
       "3926.0          1\n",
       "2322.0          1\n",
       "877.0           1\n",
       "10389.0         1\n",
       "2052.0          1\n",
       "1652.0          1\n",
       "5191.0          1\n",
       "4272.0          1\n",
       "1297.0          1\n",
       "1090.0          1\n",
       "3015.0          1\n",
       "2590.0          1\n",
       "5179.0          1\n",
       "1757.0          1\n",
       "3515.0          1\n",
       "2586.0          1\n",
       "2585.0          1\n",
       "1376.0          1\n",
       "1063.0          1\n",
       "5167.0          1\n",
       "1904.0          1\n",
       "3278.0          1\n",
       "1658.0          1\n",
       "Name: posts, dtype: int64"
      ]
     },
     "execution_count": 195,
     "metadata": {},
     "output_type": "execute_result"
    }
   ],
   "source": [
    "meta_author_ok[\"posts\"].value_counts()"
   ]
  },
  {
   "cell_type": "code",
   "execution_count": null,
   "metadata": {
    "collapsed": true
   },
   "outputs": [],
   "source": []
  }
 ],
 "metadata": {
  "kernelspec": {
   "display_name": "Python 3",
   "language": "python",
   "name": "python3"
  },
  "language_info": {
   "codemirror_mode": {
    "name": "ipython",
    "version": 3
   },
   "file_extension": ".py",
   "mimetype": "text/x-python",
   "name": "python",
   "nbconvert_exporter": "python",
   "pygments_lexer": "ipython3",
   "version": "3.5.2"
  }
 },
 "nbformat": 4,
 "nbformat_minor": 1
}
